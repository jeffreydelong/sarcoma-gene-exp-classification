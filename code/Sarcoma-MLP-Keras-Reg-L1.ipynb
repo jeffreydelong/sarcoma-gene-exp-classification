{
 "cells": [
  {
   "cell_type": "code",
   "execution_count": 1,
   "metadata": {},
   "outputs": [
    {
     "data": {
      "text/plain": [
       "(206, 20605)"
      ]
     },
     "execution_count": 1,
     "metadata": {},
     "output_type": "execute_result"
    }
   ],
   "source": [
    "#Sarcoma-MLP-Keras\n",
    "import numpy as np\n",
    "import pandas as pd\n",
    "\n",
    "# load the sarcoma transcriptome data\n",
    "sarcoma_df = pd.read_csv('../Data/sarcoma-gene-exp-FPKM-zscore-no-label.csv')\n",
    "sarcoma_df.shape"
   ]
  },
  {
   "cell_type": "code",
   "execution_count": 2,
   "metadata": {},
   "outputs": [
    {
     "data": {
      "text/plain": [
       "(206, 1)"
      ]
     },
     "execution_count": 2,
     "metadata": {},
     "output_type": "execute_result"
    }
   ],
   "source": [
    "sarcoma_labels_df = pd.read_csv('../Data/sarcoma-gene-exp-FPKM-labels-only.csv')\n",
    "sarcoma_labels_df.shape"
   ]
  },
  {
   "cell_type": "code",
   "execution_count": 3,
   "metadata": {},
   "outputs": [
    {
     "name": "stdout",
     "output_type": "stream",
     "text": [
      "[[-0.51154087  0.09480786 -0.35176093 ...  0.51624723  0.02346097\n",
      "   2.48359169]\n",
      " [-0.19129576  0.15347405  0.20261954 ... -0.41028013  2.86123234\n",
      "   0.16777757]\n",
      " [ 0.26472818  2.327348   -0.56049386 ... -0.21651268  0.0192731\n",
      "   0.76332633]\n",
      " ...\n",
      " [ 0.24931652 -0.03363532 -0.97441342 ... -0.50605902 -1.23871739\n",
      "   0.28153212]\n",
      " [ 0.2581943  -0.8373263  -0.19647611 ... -0.29302061 -0.78367962\n",
      "  -0.7597076 ]\n",
      " [-0.07085013 -0.29522455 -0.59015045 ... -0.50644652 -0.01137879\n",
      "  -0.39862195]]\n"
     ]
    }
   ],
   "source": [
    "# Convert transcriptome df to np array\n",
    "X = sarcoma_df.to_numpy()\n",
    "print(X)"
   ]
  },
  {
   "cell_type": "code",
   "execution_count": 4,
   "metadata": {},
   "outputs": [
    {
     "name": "stdout",
     "output_type": "stream",
     "text": [
      "[4 2 2 1 5 3 2 4 4 3 4 4 4 3 0 3 1 4 2 4 4 0 2 4 3 3 3 2 0 4 4 5 3 3 2 4 4\n",
      " 5 4 3 4 4 5 4 2 4 4 4 1 4 1 4 4 2 4 3 3 2 2 4 4 4 4 4 4 4 2 2 3 4 2 3 4 4\n",
      " 3 4 3 2 4 3 2 3 4 4 3 4 3 4 3 4 4 1 3 4 4 4 0 4 3 4 3 3 3 5 2 0 3 3 1 1 4\n",
      " 2 3 0 3 4 2 4 2 0 3 4 4 3 2 2 1 3 4 4 4 4 4 3 2 4 2 4 1 0 2 2 3 4 4 2 3 4\n",
      " 4 3 1 3 4 3 4 2 2 1 3 2 2 0 4 2 1 4 2 1 4 3 3 4 2 4 2 4 3 4 2 1 3 4 2 4 4\n",
      " 2 2 3 4 4 4 3 2 4 1 1 2 3 0 3 3 2 2 3 1 2]\n"
     ]
    }
   ],
   "source": [
    "# Convert label df to np array\n",
    "y_df = sarcoma_labels_df['label']\n",
    "y = y_df.to_numpy()\n",
    "print(y)"
   ]
  },
  {
   "cell_type": "code",
   "execution_count": 5,
   "metadata": {},
   "outputs": [],
   "source": [
    "import plaidml.keras\n",
    "plaidml.keras.install_backend()\n",
    "from keras.utils.np_utils import to_categorical\n",
    "y_cat = to_categorical(y)"
   ]
  },
  {
   "cell_type": "code",
   "execution_count": 6,
   "metadata": {},
   "outputs": [
    {
     "name": "stdout",
     "output_type": "stream",
     "text": [
      "[[0. 0. 0. 0. 1. 0.]\n",
      " [0. 0. 1. 0. 0. 0.]\n",
      " [0. 0. 1. 0. 0. 0.]\n",
      " ...\n",
      " [0. 0. 0. 1. 0. 0.]\n",
      " [0. 1. 0. 0. 0. 0.]\n",
      " [0. 0. 1. 0. 0. 0.]]\n"
     ]
    }
   ],
   "source": [
    "print(y_cat)"
   ]
  },
  {
   "cell_type": "code",
   "execution_count": 7,
   "metadata": {},
   "outputs": [],
   "source": [
    "# Split the data into three parts of development, validation and testing\n",
    "# with ratios of 60%, 20%, and 20% respectively with stratification.\n",
    "from sklearn.model_selection import train_test_split"
   ]
  },
  {
   "cell_type": "code",
   "execution_count": 8,
   "metadata": {},
   "outputs": [],
   "source": [
    "# split into training and testing sets\n",
    "X_train, X_test, y_train, y_test = train_test_split(\n",
    "    X, y_cat, test_size=0.2,\n",
    "    stratify=y, random_state=0\n",
    ")"
   ]
  },
  {
   "cell_type": "code",
   "execution_count": 9,
   "metadata": {},
   "outputs": [],
   "source": [
    "# split into development and validation sets\n",
    "X_dev, X_val, y_dev, y_val = train_test_split(\n",
    "    X_train, y_train, test_size=0.25,\n",
    "    stratify=y_train, random_state=0\n",
    ")"
   ]
  },
  {
   "cell_type": "code",
   "execution_count": 10,
   "metadata": {},
   "outputs": [
    {
     "name": "stdout",
     "output_type": "stream",
     "text": [
      "123\n",
      "41\n",
      "42\n"
     ]
    }
   ],
   "source": [
    "print(len(X_dev))\n",
    "print(len(X_val))\n",
    "print(len(X_test))"
   ]
  },
  {
   "cell_type": "code",
   "execution_count": 11,
   "metadata": {},
   "outputs": [
    {
     "name": "stderr",
     "output_type": "stream",
     "text": [
      "INFO:plaidml:Opening device \"metal_amd_radeon_pro_560x.0\"\n"
     ]
    },
    {
     "name": "stdout",
     "output_type": "stream",
     "text": [
      "Train on 123 samples, validate on 41 samples\n",
      "Epoch 1/10\n",
      "123/123 [==============================] - 3s 28ms/step - loss: 63.9090 - acc: 0.3089 - val_loss: 62.6161 - val_acc: 0.5610\n",
      "Epoch 2/10\n",
      "123/123 [==============================] - 3s 22ms/step - loss: 61.5786 - acc: 0.8862 - val_loss: 61.9462 - val_acc: 0.7805\n",
      "Epoch 3/10\n",
      "123/123 [==============================] - 2s 20ms/step - loss: 61.2961 - acc: 1.0000 - val_loss: 61.9002 - val_acc: 0.7805\n",
      "Epoch 4/10\n",
      "123/123 [==============================] - 2s 20ms/step - loss: 61.2320 - acc: 1.0000 - val_loss: 61.8634 - val_acc: 0.8049\n",
      "Epoch 5/10\n",
      "123/123 [==============================] - 2s 20ms/step - loss: 61.1930 - acc: 1.0000 - val_loss: 61.8240 - val_acc: 0.8293\n",
      "Epoch 6/10\n",
      "123/123 [==============================] - 2s 20ms/step - loss: 61.1637 - acc: 1.0000 - val_loss: 61.7922 - val_acc: 0.8049\n",
      "Epoch 7/10\n",
      "123/123 [==============================] - 2s 20ms/step - loss: 61.1372 - acc: 1.0000 - val_loss: 61.7672 - val_acc: 0.8049\n",
      "Epoch 8/10\n",
      "123/123 [==============================] - 2s 20ms/step - loss: 61.1126 - acc: 1.0000 - val_loss: 61.7411 - val_acc: 0.8049\n",
      "Epoch 9/10\n",
      "123/123 [==============================] - 2s 20ms/step - loss: 61.0892 - acc: 1.0000 - val_loss: 61.7131 - val_acc: 0.8049\n",
      "Epoch 10/10\n",
      "123/123 [==============================] - 2s 19ms/step - loss: 61.0666 - acc: 1.0000 - val_loss: 61.6898 - val_acc: 0.8049\n"
     ]
    }
   ],
   "source": [
    "# L2 regularization\n",
    "from keras import models\n",
    "from keras import layers\n",
    "from keras import regularizers\n",
    "from keras import optimizers\n",
    "\n",
    "model = models.Sequential()\n",
    "model.add(layers.Dense(5000, activation='relu', input_shape=(20605,)))\n",
    "model.add(layers.Dense(5000, kernel_regularizer=regularizers.l1(0.0001), activation='relu'))\n",
    "model.add(layers.Dense(5000, kernel_regularizer=regularizers.l1(0.0001), activation='relu'))\n",
    "model.add(layers.Dense(6, activation='softmax'))\n",
    "sgd = optimizers.SGD(lr=0.005)\n",
    "model.compile(optimizer='sgd', loss='categorical_crossentropy', metrics=['accuracy'])\n",
    "model.compile(optimizer='sgd', loss='categorical_crossentropy', metrics=['accuracy'])\n",
    "history = model.fit(X_dev,\n",
    "                    y_dev, \n",
    "                    epochs=10, \n",
    "                    batch_size=32, \n",
    "                    validation_data=(X_val, y_val))"
   ]
  },
  {
   "cell_type": "code",
   "execution_count": 12,
   "metadata": {},
   "outputs": [
    {
     "data": {
      "text/plain": [
       "<function matplotlib.pyplot.show(*args, **kw)>"
      ]
     },
     "execution_count": 12,
     "metadata": {},
     "output_type": "execute_result"
    },
    {
     "data": {
      "image/png": "[encoded data removed]",
      "text/plain": [
       "<Figure size 432x288 with 1 Axes>"
      ]
     },
     "metadata": {
      "needs_background": "light"
     },
     "output_type": "display_data"
    }
   ],
   "source": [
    "import matplotlib.pyplot as plt\n",
    "\n",
    "history_dict = history.history\n",
    "loss_values = history_dict['loss']\n",
    "val_loss_values = history_dict['val_loss']\n",
    "\n",
    "epochs = range(1, len(loss_values) + 1)\n",
    "\n",
    "plt.plot(epochs, loss_values, 'bo', label='Training Loss')\n",
    "plt.plot(epochs, val_loss_values, 'b', label='Validation Loss')\n",
    "\n",
    "plt.title('Training and Validation Loss')\n",
    "plt.xlabel('Epochs')\n",
    "plt.ylabel('Loss')\n",
    "plt.legend()\n",
    "\n",
    "plt.show"
   ]
  },
  {
   "cell_type": "code",
   "execution_count": 13,
   "metadata": {},
   "outputs": [
    {
     "data": {
      "image/png": "[encoded data removed]",
      "text/plain": [
       "<Figure size 432x288 with 1 Axes>"
      ]
     },
     "metadata": {
      "needs_background": "light"
     },
     "output_type": "display_data"
    }
   ],
   "source": [
    "acc_values=history_dict['acc']\n",
    "val_acc_values=history_dict['val_acc']\n",
    "plt.plot(epochs,acc_values,'bo',label='Training acc')\n",
    "plt.plot(epochs,val_acc_values,'b',label='Validation acc')\n",
    "plt.title(\"Training and validation acc\")\n",
    "plt.xlabel('Epochs')\n",
    "plt.ylabel('Accuracy')\n",
    "plt.legend()\n",
    "plt.show()"
   ]
  },
  {
   "cell_type": "code",
   "execution_count": 14,
   "metadata": {},
   "outputs": [
    {
     "name": "stdout",
     "output_type": "stream",
     "text": [
      "42/42 [==============================] - 1s 27ms/step\n",
      "test_acc 0.8095238123621259\n"
     ]
    }
   ],
   "source": [
    "test_loss,test_acc=model.evaluate(X_test,y_test)\n",
    "print('test_acc',test_acc)"
   ]
  },
  {
   "cell_type": "code",
   "execution_count": 15,
   "metadata": {},
   "outputs": [
    {
     "name": "stdout",
     "output_type": "stream",
     "text": [
      "              precision    recall  f1-score   support\n",
      "\n",
      "     Class 0       0.29      1.00      0.44         2\n",
      "     Class 1       0.00      0.00      0.00         4\n",
      "     Class 2       0.75      0.67      0.71         9\n",
      "     Class 3       0.90      0.90      0.90        10\n",
      "     Class 4       0.88      0.94      0.91        16\n",
      "     Class 5       0.00      0.00      0.00         1\n",
      "\n",
      "    accuracy                           0.76        42\n",
      "   macro avg       0.47      0.58      0.49        42\n",
      "weighted avg       0.72      0.76      0.73        42\n",
      "\n"
     ]
    },
    {
     "name": "stderr",
     "output_type": "stream",
     "text": [
      "/Users/jeffreydelong/plaidml-venv/lib/python3.7/site-packages/sklearn/metrics/classification.py:1437: UndefinedMetricWarning: Precision and F-score are ill-defined and being set to 0.0 in labels with no predicted samples.\n",
      "  'precision', 'predicted', average, warn_for)\n"
     ]
    }
   ],
   "source": [
    "predicted_classes = model.predict(X_test)\n",
    "predicted_classes = np.argmax(np.round(predicted_classes),axis=1)\n",
    "from sklearn.metrics import classification_report\n",
    "target_names = [\"Class {}\".format(i) for i in range(6)]\n",
    "y_test_classes = np.argmax(y_test, axis=-1)\n",
    "print(classification_report(y_test_classes, predicted_classes, target_names=target_names))\n",
    "#print(y_test_classes)\n",
    "#print(predicted_classes)"
   ]
  },
  {
   "cell_type": "code",
   "execution_count": 16,
   "metadata": {},
   "outputs": [
    {
     "data": {
      "text/plain": [
       "array([[ 2,  0,  0,  0,  0,  0],\n",
       "       [ 2,  0,  2,  0,  0,  0],\n",
       "       [ 2,  0,  6,  1,  0,  0],\n",
       "       [ 0,  0,  0,  9,  1,  0],\n",
       "       [ 1,  0,  0,  0, 15,  0],\n",
       "       [ 0,  0,  0,  0,  1,  0]])"
      ]
     },
     "execution_count": 16,
     "metadata": {},
     "output_type": "execute_result"
    }
   ],
   "source": [
    "from sklearn.metrics import confusion_matrix\n",
    "confusion_matrix(y_test_classes, predicted_classes)"
   ]
  },
  {
   "cell_type": "code",
   "execution_count": null,
   "metadata": {},
   "outputs": [],
   "source": []
  }
 ],
 "metadata": {
  "kernelspec": {
   "display_name": "Python 3",
   "language": "python",
   "name": "python3"
  },
  "language_info": {
   "codemirror_mode": {
    "name": "ipython",
    "version": 3
   },
   "file_extension": ".py",
   "mimetype": "text/x-python",
   "name": "python",
   "nbconvert_exporter": "python",
   "pygments_lexer": "ipython3",
   "version": "3.7.3"
  }
 },
 "nbformat": 4,
 "nbformat_minor": 2
}
