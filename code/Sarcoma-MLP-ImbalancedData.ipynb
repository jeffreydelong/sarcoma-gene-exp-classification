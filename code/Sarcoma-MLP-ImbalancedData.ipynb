{
 "cells": [
  {
   "cell_type": "code",
   "execution_count": 1,
   "metadata": {},
   "outputs": [
    {
     "data": {
      "text/plain": [
       "(206, 20605)"
      ]
     },
     "execution_count": 1,
     "metadata": {},
     "output_type": "execute_result"
    }
   ],
   "source": [
    "import numpy as np\n",
    "import pandas as pd\n",
    "\n",
    "# load the sarcoma transcriptome data\n",
    "sarcoma_df = pd.read_csv('Data/sarcoma-gene-exp-FPKM-zscore-no-label.csv')\n",
    "sarcoma_df.shape"
   ]
  },
  {
   "cell_type": "code",
   "execution_count": 2,
   "metadata": {},
   "outputs": [
    {
     "data": {
      "text/plain": [
       "(206, 1)"
      ]
     },
     "execution_count": 2,
     "metadata": {},
     "output_type": "execute_result"
    }
   ],
   "source": [
    "sarcoma_labels_df = pd.read_csv('Data/sarcoma-gene-exp-FPKM-labels-only.csv')\n",
    "sarcoma_labels_df.shape"
   ]
  },
  {
   "cell_type": "code",
   "execution_count": 3,
   "metadata": {},
   "outputs": [
    {
     "data": {
      "text/plain": [
       "(206, 20605)"
      ]
     },
     "execution_count": 3,
     "metadata": {},
     "output_type": "execute_result"
    }
   ],
   "source": [
    "# Convert features to array\n",
    "X = sarcoma_df.to_numpy()\n",
    "X.shape"
   ]
  },
  {
   "cell_type": "code",
   "execution_count": 4,
   "metadata": {},
   "outputs": [
    {
     "name": "stdout",
     "output_type": "stream",
     "text": [
      "[4 2 2 1 5 3 2 4 4 3 4 4 4 3 0 3 1 4 2 4 4 0 2 4 3 3 3 2 0 4 4 5 3 3 2 4 4\n",
      " 5 4 3 4 4 5 4 2 4 4 4 1 4 1 4 4 2 4 3 3 2 2 4 4 4 4 4 4 4 2 2 3 4 2 3 4 4\n",
      " 3 4 3 2 4 3 2 3 4 4 3 4 3 4 3 4 4 1 3 4 4 4 0 4 3 4 3 3 3 5 2 0 3 3 1 1 4\n",
      " 2 3 0 3 4 2 4 2 0 3 4 4 3 2 2 1 3 4 4 4 4 4 3 2 4 2 4 1 0 2 2 3 4 4 2 3 4\n",
      " 4 3 1 3 4 3 4 2 2 1 3 2 2 0 4 2 1 4 2 1 4 3 3 4 2 4 2 4 3 4 2 1 3 4 2 4 4\n",
      " 2 2 3 4 4 4 3 2 4 1 1 2 3 0 3 3 2 2 3 1 2]\n"
     ]
    }
   ],
   "source": [
    "# Convert label df to np array\n",
    "y_df = sarcoma_labels_df['label']\n",
    "y = y_df.to_numpy()\n",
    "print(y)"
   ]
  },
  {
   "cell_type": "code",
   "execution_count": 5,
   "metadata": {},
   "outputs": [
    {
     "name": "stdout",
     "output_type": "stream",
     "text": [
      "Frequency of unique values of the said array:\n",
      "[[ 0  1  2  3  4  5]\n",
      " [10 17 44 50 80  5]]\n"
     ]
    }
   ],
   "source": [
    "# Get a count of the unique values in each categories \n",
    "unique_elements, counts_elements = np.unique(y, return_counts=True)\n",
    "print(\"Frequency of unique values of the said array:\")\n",
    "print(np.asarray((unique_elements, counts_elements)))"
   ]
  },
  {
   "cell_type": "code",
   "execution_count": 6,
   "metadata": {},
   "outputs": [],
   "source": [
    "# Split the data into three parts of development, validation and testing\n",
    "# with ratios of 60%, 20%, and 20% respectively with stratification.\n",
    "from sklearn.model_selection import train_test_split"
   ]
  },
  {
   "cell_type": "code",
   "execution_count": 7,
   "metadata": {},
   "outputs": [],
   "source": [
    "# split into training and testing sets\n",
    "X_train, X_test, y_train, y_test = train_test_split(\n",
    "    X, y, test_size=0.2,\n",
    "    stratify=y, random_state=0\n",
    ")"
   ]
  },
  {
   "cell_type": "code",
   "execution_count": 8,
   "metadata": {},
   "outputs": [],
   "source": [
    "# split into development and validation sets\n",
    "X_dev, X_val, y_dev, y_val = train_test_split(\n",
    "    X_train, y_train, test_size=0.25,\n",
    "    stratify=y_train, random_state=0\n",
    ")"
   ]
  },
  {
   "cell_type": "code",
   "execution_count": 9,
   "metadata": {},
   "outputs": [
    {
     "name": "stdout",
     "output_type": "stream",
     "text": [
      "123\n",
      "(123, 20605)\n",
      "41\n",
      "42\n"
     ]
    }
   ],
   "source": [
    "print(len(X_dev))\n",
    "print(X_dev.shape)\n",
    "print(len(X_val))\n",
    "print(len(X_test))"
   ]
  },
  {
   "cell_type": "code",
   "execution_count": 10,
   "metadata": {},
   "outputs": [],
   "source": [
    "import plaidml.keras\n",
    "plaidml.keras.install_backend()\n",
    "from keras.utils.np_utils import to_categorical\n",
    "y_dev_cat = to_categorical(y_dev)\n",
    "y_val_cat = to_categorical(y_val)\n",
    "y_test_cat = to_categorical(y_test)"
   ]
  },
  {
   "cell_type": "code",
   "execution_count": 11,
   "metadata": {},
   "outputs": [
    {
     "name": "stderr",
     "output_type": "stream",
     "text": [
      "INFO:plaidml:Opening device \"metal_amd_radeon_pro_560x.0\"\n"
     ]
    },
    {
     "name": "stdout",
     "output_type": "stream",
     "text": [
      "Train on 123 samples, validate on 41 samples\n",
      "Epoch 1/8\n",
      "123/123 [==============================] - 1s 10ms/step - loss: 2.2257 - acc: 0.3089 - val_loss: 2.0147 - val_acc: 0.2927\n",
      "Epoch 2/8\n",
      "123/123 [==============================] - 1s 5ms/step - loss: 0.4799 - acc: 0.8618 - val_loss: 0.6952 - val_acc: 0.7317\n",
      "Epoch 3/8\n",
      "123/123 [==============================] - 1s 5ms/step - loss: 0.0953 - acc: 0.9919 - val_loss: 0.6970 - val_acc: 0.7073\n",
      "Epoch 4/8\n",
      "123/123 [==============================] - 1s 5ms/step - loss: 0.0560 - acc: 1.0000 - val_loss: 0.6840 - val_acc: 0.7073\n",
      "Epoch 5/8\n",
      "123/123 [==============================] - 1s 5ms/step - loss: 0.0409 - acc: 1.0000 - val_loss: 0.6772 - val_acc: 0.7073\n",
      "Epoch 6/8\n",
      "123/123 [==============================] - 1s 5ms/step - loss: 0.0334 - acc: 1.0000 - val_loss: 0.6825 - val_acc: 0.7317\n",
      "Epoch 7/8\n",
      "123/123 [==============================] - 1s 4ms/step - loss: 0.0278 - acc: 1.0000 - val_loss: 0.6740 - val_acc: 0.7317\n",
      "Epoch 8/8\n",
      "123/123 [==============================] - 1s 4ms/step - loss: 0.0238 - acc: 1.0000 - val_loss: 0.6721 - val_acc: 0.7317\n"
     ]
    }
   ],
   "source": [
    "from keras import models\n",
    "from keras import layers\n",
    "\n",
    "model = models.Sequential()\n",
    "model.add(layers.Dense(5000, activation='relu', input_shape=(20605,)))\n",
    "model.add(layers.Dense(5000, activation='relu'))\n",
    "model.add(layers.Dense(5000, activation='relu'))\n",
    "model.add(layers.Dense(6, activation='softmax'))\n",
    "model.compile(optimizer='SGD', loss='categorical_crossentropy', metrics=['accuracy'])\n",
    "history = model.fit(X_dev,\n",
    "                    y_dev_cat, \n",
    "                    epochs=8, \n",
    "                    batch_size=32, \n",
    "                    validation_data=(X_val, y_val_cat))"
   ]
  },
  {
   "cell_type": "code",
   "execution_count": 12,
   "metadata": {
    "scrolled": true
   },
   "outputs": [],
   "source": [
    "from collections import Counter\n",
    "from imblearn.over_sampling import SMOTE # doctest: +NORMALIZE_WHITESPACE\n",
    "from imblearn.over_sampling import BorderlineSMOTE\n",
    "from imblearn.combine import SMOTETomek\n",
    "from imblearn.combine import SMOTEENN\n",
    "\n",
    "#smote_enn = SMOTEENN(random_state=0)\n",
    "#smote_tomek = SMOTETomek(random_state=0)\n",
    "# sm = BorderlineSMOTE(sampling_strategy='not majority', k_neighbors=4, m_neighbors=4, random_state=42)\n",
    "sm = SMOTE(sampling_strategy='not majority', k_neighbors=2, random_state=42)\n",
    "#sm = SMOTE(sampling_strategy={0: 40, 1: 40, 2: 40, 3: 40, 4: 40}, random_state=42)\n",
    "#sm = SMOTE(sampling_strategy=.3, random_state=42)\n",
    "\n",
    "X_res, y_res = sm.fit_resample(X_dev, y_dev)\n",
    "# print('Resampled dataset shape %s' % Counter(y_res))\n"
   ]
  },
  {
   "cell_type": "code",
   "execution_count": 13,
   "metadata": {},
   "outputs": [
    {
     "name": "stdout",
     "output_type": "stream",
     "text": [
      "Frequency of unique values of the said array:\n",
      "[[ 0  1  2  3  4  5]\n",
      " [48 48 48 48 48 48]]\n"
     ]
    }
   ],
   "source": [
    "# Get a count of the unique values in each categories \n",
    "unique_elements, counts_elements = np.unique(y_res, return_counts=True)\n",
    "print(\"Frequency of unique values of the said array:\")\n",
    "print(np.asarray((unique_elements, counts_elements)))"
   ]
  },
  {
   "cell_type": "code",
   "execution_count": 14,
   "metadata": {},
   "outputs": [],
   "source": [
    "# find way to remove some of the synthetic class 5 observations"
   ]
  },
  {
   "cell_type": "code",
   "execution_count": 15,
   "metadata": {},
   "outputs": [
    {
     "name": "stdout",
     "output_type": "stream",
     "text": [
      "288\n",
      "288\n"
     ]
    }
   ],
   "source": [
    "print(len(y_res))\n",
    "print(len(X_res))"
   ]
  },
  {
   "cell_type": "code",
   "execution_count": 16,
   "metadata": {},
   "outputs": [],
   "source": [
    "from keras.utils.np_utils import to_categorical\n",
    "y_dev_cat = to_categorical(y_res)\n",
    "y_val_cat = to_categorical(y_val)\n",
    "y_test_cat = to_categorical(y_test)"
   ]
  },
  {
   "cell_type": "code",
   "execution_count": 17,
   "metadata": {},
   "outputs": [
    {
     "name": "stdout",
     "output_type": "stream",
     "text": [
      "288\n",
      "41\n",
      "42\n"
     ]
    }
   ],
   "source": [
    "print(len(X_res))\n",
    "print(len(X_val))\n",
    "print(len(X_test))"
   ]
  },
  {
   "cell_type": "code",
   "execution_count": 18,
   "metadata": {},
   "outputs": [
    {
     "name": "stdout",
     "output_type": "stream",
     "text": [
      "Train on 288 samples, validate on 41 samples\n",
      "Epoch 1/10\n",
      "288/288 [==============================] - 2s 5ms/step - loss: 0.7698 - acc: 0.7569 - val_loss: 0.8994 - val_acc: 0.6341\n",
      "Epoch 2/10\n",
      "288/288 [==============================] - 1s 4ms/step - loss: 0.0817 - acc: 0.9965 - val_loss: 0.8170 - val_acc: 0.6829\n",
      "Epoch 3/10\n",
      "288/288 [==============================] - 1s 4ms/step - loss: 0.0410 - acc: 1.0000 - val_loss: 0.7859 - val_acc: 0.6829\n",
      "Epoch 4/10\n",
      "288/288 [==============================] - 1s 4ms/step - loss: 0.0276 - acc: 1.0000 - val_loss: 0.7816 - val_acc: 0.6829\n",
      "Epoch 5/10\n",
      "288/288 [==============================] - 1s 4ms/step - loss: 0.0211 - acc: 1.0000 - val_loss: 0.7746 - val_acc: 0.7073\n",
      "Epoch 6/10\n",
      "288/288 [==============================] - 1s 4ms/step - loss: 0.0169 - acc: 1.0000 - val_loss: 0.7781 - val_acc: 0.7073\n",
      "Epoch 7/10\n",
      "288/288 [==============================] - 1s 4ms/step - loss: 0.0141 - acc: 1.0000 - val_loss: 0.7756 - val_acc: 0.7073\n",
      "Epoch 8/10\n",
      "288/288 [==============================] - 1s 4ms/step - loss: 0.0120 - acc: 1.0000 - val_loss: 0.7769 - val_acc: 0.7073\n",
      "Epoch 9/10\n",
      "288/288 [==============================] - 1s 4ms/step - loss: 0.0105 - acc: 1.0000 - val_loss: 0.7767 - val_acc: 0.7073\n",
      "Epoch 10/10\n",
      "288/288 [==============================] - 1s 4ms/step - loss: 0.0094 - acc: 1.0000 - val_loss: 0.7745 - val_acc: 0.7073\n"
     ]
    }
   ],
   "source": [
    "from keras import models\n",
    "from keras import layers\n",
    "\n",
    "model = models.Sequential()\n",
    "model.add(layers.Dense(5000, activation='relu', input_shape=(20605,)))\n",
    "model.add(layers.Dense(5000, activation='relu'))\n",
    "model.add(layers.Dense(5000, activation='relu'))\n",
    "model.add(layers.Dense(6, activation='softmax'))\n",
    "model.compile(optimizer='SGD', loss='categorical_crossentropy', metrics=['accuracy'])\n",
    "history = model.fit(X_res,\n",
    "                    y_dev_cat, \n",
    "                    epochs=10, \n",
    "                    batch_size=32, \n",
    "                    validation_data=(X_val, y_val_cat))"
   ]
  },
  {
   "cell_type": "code",
   "execution_count": 19,
   "metadata": {},
   "outputs": [
    {
     "data": {
      "text/plain": [
       "<function matplotlib.pyplot.show(*args, **kw)>"
      ]
     },
     "execution_count": 19,
     "metadata": {},
     "output_type": "execute_result"
    },
    {
     "data": {
      "image/png": "[encoded data removed]",
      "text/plain": [
       "<Figure size 432x288 with 1 Axes>"
      ]
     },
     "metadata": {
      "needs_background": "light"
     },
     "output_type": "display_data"
    }
   ],
   "source": [
    "import matplotlib.pyplot as plt\n",
    "\n",
    "history_dict = history.history\n",
    "loss_values = history_dict['loss']\n",
    "val_loss_values = history_dict['val_loss']\n",
    "\n",
    "epochs = range(1, len(loss_values) + 1)\n",
    "\n",
    "plt.plot(epochs, loss_values, 'bo', label='Training Loss')\n",
    "plt.plot(epochs, val_loss_values, 'b', label='Validation Loss')\n",
    "\n",
    "plt.title('Training and Validation Loss')\n",
    "plt.xlabel('Epochs')\n",
    "plt.ylabel('Loss')\n",
    "plt.legend()\n",
    "\n",
    "plt.show"
   ]
  },
  {
   "cell_type": "code",
   "execution_count": 20,
   "metadata": {},
   "outputs": [
    {
     "data": {
      "image/png": "[encoded data removed]",
      "text/plain": [
       "<Figure size 432x288 with 1 Axes>"
      ]
     },
     "metadata": {
      "needs_background": "light"
     },
     "output_type": "display_data"
    }
   ],
   "source": [
    "acc_values=history_dict['acc']\n",
    "val_acc_values=history_dict['val_acc']\n",
    "plt.plot(epochs,acc_values,'bo',label='Training acc')\n",
    "plt.plot(epochs,val_acc_values,'b',label='Validation acc')\n",
    "plt.title(\"Training and validation acc\")\n",
    "plt.xlabel('Epochs')\n",
    "plt.ylabel('Accuracy')\n",
    "plt.legend()\n",
    "plt.show()"
   ]
  },
  {
   "cell_type": "code",
   "execution_count": 21,
   "metadata": {},
   "outputs": [
    {
     "name": "stdout",
     "output_type": "stream",
     "text": [
      "42/42 [==============================] - 1s 19ms/step\n",
      "test_acc 0.8333333361716497\n"
     ]
    }
   ],
   "source": [
    "test_loss,test_acc=model.evaluate(X_test,y_test_cat)\n",
    "print('test_acc',test_acc)"
   ]
  },
  {
   "cell_type": "code",
   "execution_count": 24,
   "metadata": {},
   "outputs": [
    {
     "name": "stdout",
     "output_type": "stream",
     "text": [
      "              precision    recall  f1-score   support\n",
      "\n",
      "     Class 0       0.29      1.00      0.44         2\n",
      "     Class 1       1.00      0.25      0.40         4\n",
      "     Class 2       0.78      0.78      0.78         9\n",
      "     Class 3       1.00      0.90      0.95        10\n",
      "     Class 4       0.94      0.94      0.94        16\n",
      "     Class 5       0.00      0.00      0.00         1\n",
      "\n",
      "    accuracy                           0.81        42\n",
      "   macro avg       0.67      0.64      0.58        42\n",
      "weighted avg       0.87      0.81      0.81        42\n",
      "\n"
     ]
    },
    {
     "name": "stderr",
     "output_type": "stream",
     "text": [
      "/Users/jeffreydelong/plaidml-venv/lib/python3.7/site-packages/sklearn/metrics/classification.py:1437: UndefinedMetricWarning: Precision and F-score are ill-defined and being set to 0.0 in labels with no predicted samples.\n",
      "  'precision', 'predicted', average, warn_for)\n"
     ]
    }
   ],
   "source": [
    "predicted_classes = model.predict(X_test)\n",
    "predicted_classes = np.argmax(np.round(predicted_classes),axis=1)\n",
    "from sklearn.metrics import classification_report\n",
    "target_names = [\"Class {}\".format(i) for i in range(6)]\n",
    "y_test_classes = np.argmax(y_test_cat, axis=-1)\n",
    "print(classification_report(y_test_classes, predicted_classes, target_names=target_names))"
   ]
  },
  {
   "cell_type": "code",
   "execution_count": 25,
   "metadata": {},
   "outputs": [
    {
     "data": {
      "text/plain": [
       "array([[ 2,  0,  0,  0,  0,  0],\n",
       "       [ 1,  1,  2,  0,  0,  0],\n",
       "       [ 2,  0,  7,  0,  0,  0],\n",
       "       [ 1,  0,  0,  9,  0,  0],\n",
       "       [ 1,  0,  0,  0, 15,  0],\n",
       "       [ 0,  0,  0,  0,  1,  0]])"
      ]
     },
     "execution_count": 25,
     "metadata": {},
     "output_type": "execute_result"
    }
   ],
   "source": [
    "from sklearn.metrics import confusion_matrix\n",
    "confusion_matrix(y_test_classes, predicted_classes)"
   ]
  },
  {
   "cell_type": "code",
   "execution_count": null,
   "metadata": {},
   "outputs": [],
   "source": []
  }
 ],
 "metadata": {
  "kernelspec": {
   "display_name": "Python 3",
   "language": "python",
   "name": "python3"
  },
  "language_info": {
   "codemirror_mode": {
    "name": "ipython",
    "version": 3
   },
   "file_extension": ".py",
   "mimetype": "text/x-python",
   "name": "python",
   "nbconvert_exporter": "python",
   "pygments_lexer": "ipython3",
   "version": "3.7.3"
  }
 },
 "nbformat": 4,
 "nbformat_minor": 2
}
