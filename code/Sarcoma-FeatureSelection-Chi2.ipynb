{
 "cells": [
  {
   "cell_type": "code",
   "execution_count": 4,
   "metadata": {},
   "outputs": [
    {
     "data": {
      "text/plain": [
       "(206, 20605)"
      ]
     },
     "execution_count": 4,
     "metadata": {},
     "output_type": "execute_result"
    }
   ],
   "source": [
    "import numpy as np\n",
    "import pandas as pd\n",
    "\n",
    "# load the sarcoma transcriptome data\n",
    "sarcoma_df = pd.read_csv('../Data/sarcoma-gene-exp-FPKM-no-labels.csv')\n",
    "sarcoma_df.shape"
   ]
  },
  {
   "cell_type": "code",
   "execution_count": 5,
   "metadata": {},
   "outputs": [
    {
     "data": {
      "text/plain": [
       "(206, 1)"
      ]
     },
     "execution_count": 5,
     "metadata": {},
     "output_type": "execute_result"
    }
   ],
   "source": [
    "sarcoma_labels_df = pd.read_csv('../Data/sarcoma-gene-exp-FPKM-labels-only.csv')\n",
    "sarcoma_labels_df.shape"
   ]
  },
  {
   "cell_type": "code",
   "execution_count": 3,
   "metadata": {},
   "outputs": [
    {
     "data": {
      "text/plain": [
       "(206, 200)"
      ]
     },
     "execution_count": 3,
     "metadata": {},
     "output_type": "execute_result"
    }
   ],
   "source": [
    "# Perform Chi2 analysis to identify 200 best features\n",
    "from sklearn.feature_selection import chi2, SelectKBest\n",
    "chi_best = SelectKBest(chi2, k=200)\n",
    "sarcoma_fs = chi_best.fit_transform(sarcoma_df, sarcoma_labels_df)\n",
    "sarcoma_fs.shape"
   ]
  },
  {
   "cell_type": "code",
   "execution_count": 4,
   "metadata": {},
   "outputs": [
    {
     "data": {
      "text/html": [
       "<div>\n",
       "<style scoped>\n",
       "    .dataframe tbody tr th:only-of-type {\n",
       "        vertical-align: middle;\n",
       "    }\n",
       "\n",
       "    .dataframe tbody tr th {\n",
       "        vertical-align: top;\n",
       "    }\n",
       "\n",
       "    .dataframe thead th {\n",
       "        text-align: right;\n",
       "    }\n",
       "</style>\n",
       "<table border=\"1\" class=\"dataframe\">\n",
       "  <thead>\n",
       "    <tr style=\"text-align: right;\">\n",
       "      <th></th>\n",
       "      <th>0</th>\n",
       "      <th>1</th>\n",
       "      <th>2</th>\n",
       "      <th>3</th>\n",
       "      <th>4</th>\n",
       "      <th>5</th>\n",
       "      <th>6</th>\n",
       "      <th>7</th>\n",
       "      <th>8</th>\n",
       "      <th>9</th>\n",
       "      <th>...</th>\n",
       "      <th>190</th>\n",
       "      <th>191</th>\n",
       "      <th>192</th>\n",
       "      <th>193</th>\n",
       "      <th>194</th>\n",
       "      <th>195</th>\n",
       "      <th>196</th>\n",
       "      <th>197</th>\n",
       "      <th>198</th>\n",
       "      <th>199</th>\n",
       "    </tr>\n",
       "  </thead>\n",
       "  <tbody>\n",
       "    <tr>\n",
       "      <th>0</th>\n",
       "      <td>386.746486</td>\n",
       "      <td>2.449039</td>\n",
       "      <td>1650.942083</td>\n",
       "      <td>7.320192</td>\n",
       "      <td>313.564817</td>\n",
       "      <td>6.238991</td>\n",
       "      <td>75.287285</td>\n",
       "      <td>174.512529</td>\n",
       "      <td>450.679800</td>\n",
       "      <td>1795.391642</td>\n",
       "      <td>...</td>\n",
       "      <td>250.438493</td>\n",
       "      <td>298.183852</td>\n",
       "      <td>2.989608</td>\n",
       "      <td>1406.132345</td>\n",
       "      <td>3418.023840</td>\n",
       "      <td>279.534051</td>\n",
       "      <td>138.308413</td>\n",
       "      <td>193.530635</td>\n",
       "      <td>133.307419</td>\n",
       "      <td>1405.361806</td>\n",
       "    </tr>\n",
       "    <tr>\n",
       "      <th>1</th>\n",
       "      <td>221.847440</td>\n",
       "      <td>1.618259</td>\n",
       "      <td>751.351877</td>\n",
       "      <td>28.012846</td>\n",
       "      <td>218.204368</td>\n",
       "      <td>0.176337</td>\n",
       "      <td>109.493391</td>\n",
       "      <td>329.665178</td>\n",
       "      <td>524.600755</td>\n",
       "      <td>1787.683581</td>\n",
       "      <td>...</td>\n",
       "      <td>800.432084</td>\n",
       "      <td>231.602964</td>\n",
       "      <td>67.087453</td>\n",
       "      <td>126.631062</td>\n",
       "      <td>2056.122159</td>\n",
       "      <td>9.777337</td>\n",
       "      <td>0.607324</td>\n",
       "      <td>379.004516</td>\n",
       "      <td>10.237354</td>\n",
       "      <td>155.380148</td>\n",
       "    </tr>\n",
       "    <tr>\n",
       "      <th>2</th>\n",
       "      <td>1501.132266</td>\n",
       "      <td>10.334774</td>\n",
       "      <td>671.737434</td>\n",
       "      <td>1.393683</td>\n",
       "      <td>222.882056</td>\n",
       "      <td>0.138505</td>\n",
       "      <td>174.749952</td>\n",
       "      <td>574.802840</td>\n",
       "      <td>1081.536709</td>\n",
       "      <td>1394.694007</td>\n",
       "      <td>...</td>\n",
       "      <td>357.708504</td>\n",
       "      <td>787.152822</td>\n",
       "      <td>17.067148</td>\n",
       "      <td>274.471193</td>\n",
       "      <td>2689.111858</td>\n",
       "      <td>0.178776</td>\n",
       "      <td>1.784545</td>\n",
       "      <td>455.808060</td>\n",
       "      <td>117.733055</td>\n",
       "      <td>1376.375842</td>\n",
       "    </tr>\n",
       "    <tr>\n",
       "      <th>3</th>\n",
       "      <td>566.908583</td>\n",
       "      <td>0.860552</td>\n",
       "      <td>597.198368</td>\n",
       "      <td>0.292326</td>\n",
       "      <td>140.009636</td>\n",
       "      <td>96.305853</td>\n",
       "      <td>181.779696</td>\n",
       "      <td>315.580757</td>\n",
       "      <td>283.240867</td>\n",
       "      <td>727.107574</td>\n",
       "      <td>...</td>\n",
       "      <td>220.592312</td>\n",
       "      <td>510.943255</td>\n",
       "      <td>2.735652</td>\n",
       "      <td>278.641625</td>\n",
       "      <td>1684.797516</td>\n",
       "      <td>5.367955</td>\n",
       "      <td>48.083169</td>\n",
       "      <td>295.288686</td>\n",
       "      <td>9.234245</td>\n",
       "      <td>276.010753</td>\n",
       "    </tr>\n",
       "    <tr>\n",
       "      <th>4</th>\n",
       "      <td>209.786803</td>\n",
       "      <td>0.029524</td>\n",
       "      <td>3249.513159</td>\n",
       "      <td>10.173948</td>\n",
       "      <td>400.744764</td>\n",
       "      <td>1.254673</td>\n",
       "      <td>174.919558</td>\n",
       "      <td>360.738096</td>\n",
       "      <td>223.623012</td>\n",
       "      <td>2129.884010</td>\n",
       "      <td>...</td>\n",
       "      <td>694.151744</td>\n",
       "      <td>419.882274</td>\n",
       "      <td>1.503315</td>\n",
       "      <td>1856.745470</td>\n",
       "      <td>2249.123326</td>\n",
       "      <td>2.039145</td>\n",
       "      <td>1.955179</td>\n",
       "      <td>217.974070</td>\n",
       "      <td>24.899399</td>\n",
       "      <td>232.425521</td>\n",
       "    </tr>\n",
       "  </tbody>\n",
       "</table>\n",
       "<p>5 rows × 200 columns</p>\n",
       "</div>"
      ],
      "text/plain": [
       "           0          1            2          3           4          5    \\\n",
       "0   386.746486   2.449039  1650.942083   7.320192  313.564817   6.238991   \n",
       "1   221.847440   1.618259   751.351877  28.012846  218.204368   0.176337   \n",
       "2  1501.132266  10.334774   671.737434   1.393683  222.882056   0.138505   \n",
       "3   566.908583   0.860552   597.198368   0.292326  140.009636  96.305853   \n",
       "4   209.786803   0.029524  3249.513159  10.173948  400.744764   1.254673   \n",
       "\n",
       "          6           7            8            9    ...         190  \\\n",
       "0   75.287285  174.512529   450.679800  1795.391642  ...  250.438493   \n",
       "1  109.493391  329.665178   524.600755  1787.683581  ...  800.432084   \n",
       "2  174.749952  574.802840  1081.536709  1394.694007  ...  357.708504   \n",
       "3  181.779696  315.580757   283.240867   727.107574  ...  220.592312   \n",
       "4  174.919558  360.738096   223.623012  2129.884010  ...  694.151744   \n",
       "\n",
       "          191        192          193          194         195         196  \\\n",
       "0  298.183852   2.989608  1406.132345  3418.023840  279.534051  138.308413   \n",
       "1  231.602964  67.087453   126.631062  2056.122159    9.777337    0.607324   \n",
       "2  787.152822  17.067148   274.471193  2689.111858    0.178776    1.784545   \n",
       "3  510.943255   2.735652   278.641625  1684.797516    5.367955   48.083169   \n",
       "4  419.882274   1.503315  1856.745470  2249.123326    2.039145    1.955179   \n",
       "\n",
       "          197         198          199  \n",
       "0  193.530635  133.307419  1405.361806  \n",
       "1  379.004516   10.237354   155.380148  \n",
       "2  455.808060  117.733055  1376.375842  \n",
       "3  295.288686    9.234245   276.010753  \n",
       "4  217.974070   24.899399   232.425521  \n",
       "\n",
       "[5 rows x 200 columns]"
      ]
     },
     "execution_count": 4,
     "metadata": {},
     "output_type": "execute_result"
    }
   ],
   "source": [
    "sarcoma_features_df = pd.DataFrame(sarcoma_fs)\n",
    "sarcoma_features_df.head()"
   ]
  },
  {
   "cell_type": "code",
   "execution_count": 5,
   "metadata": {},
   "outputs": [],
   "source": [
    "# Save csv file with best features\n",
    "sarcoma_features_df.to_csv(\"Data/sarcoma-gene-exp-FPKM-chi2-features.csv\", index=False)"
   ]
  },
  {
   "cell_type": "code",
   "execution_count": 6,
   "metadata": {},
   "outputs": [
    {
     "name": "stdout",
     "output_type": "stream",
     "text": [
      "200\n",
      "['ENSG00000227097', 'ENSG00000105048', 'ENSG00000198888', 'ENSG00000211679', 'ENSG00000211459', 'ENSG00000124107', 'ENSG00000138326', 'ENSG00000198034', 'ENSG00000074800', 'ENSG00000197956', 'ENSG00000239951', 'ENSG00000163661', 'ENSG00000174807', 'ENSG00000135506', 'ENSG00000049540', 'ENSG00000198786', 'ENSG00000198899', 'ENSG00000137124', 'ENSG00000125730', 'ENSG00000211892', 'ENSG00000143632', 'ENSG00000167526', 'ENSG00000142937', 'ENSG00000054938', 'ENSG00000104879', 'ENSG00000100316', 'ENSG00000211598', 'ENSG00000198938', 'ENSG00000269936', 'ENSG00000152583', 'ENSG00000019582', 'ENSG00000198727', 'ENSG00000140416', 'ENSG00000197746', 'ENSG00000182107', 'ENSG00000087245', 'ENSG00000012171', 'ENSG00000135446', 'ENSG00000234745', 'ENSG00000145423', 'ENSG00000101335', 'ENSG00000170891', 'ENSG00000177600', 'ENSG00000196126', 'ENSG00000196154', 'ENSG00000112306', 'ENSG00000087086', 'ENSG00000198125', 'ENSG00000175084', 'ENSG00000107796', 'ENSG00000172403', 'ENSG00000133392', 'ENSG00000102854', 'ENSG00000157227', 'ENSG00000197766', 'ENSG00000173991', 'ENSG00000163520', 'ENSG00000101210', 'ENSG00000211899', 'ENSG00000212907', 'ENSG00000113296', 'ENSG00000167244', 'ENSG00000159176', 'ENSG00000255737', 'ENSG00000205542', 'ENSG00000111640', 'ENSG00000125148', 'ENSG00000118785', 'ENSG00000211897', 'ENSG00000197958', 'ENSG00000106511', 'ENSG00000004776', 'ENSG00000068976', 'ENSG00000026025', 'ENSG00000198763', 'ENSG00000092758', 'ENSG00000198804', 'ENSG00000088882', 'ENSG00000241351', 'ENSG00000130255', 'ENSG00000142156', 'ENSG00000164530', 'ENSG00000163430', 'ENSG00000168542', 'ENSG00000122406', 'ENSG00000113140', 'ENSG00000210082', 'ENSG00000170889', 'ENSG00000161016', 'ENSG00000211677', 'ENSG00000105855', 'ENSG00000198840', 'ENSG00000132329', 'ENSG00000211893', 'ENSG00000142676', 'ENSG00000198712', 'ENSG00000197747', 'ENSG00000130176', 'ENSG00000139329', 'ENSG00000188488', 'ENSG00000166226', 'ENSG00000065534', 'ENSG00000260428', 'ENSG00000163017', 'ENSG00000156508', 'ENSG00000142669', 'ENSG00000185896', 'ENSG00000170458', 'ENSG00000106366', 'ENSG00000142541', 'ENSG00000118729', 'ENSG00000022267', 'ENSG00000046653', 'ENSG00000211896', 'ENSG00000188257', 'ENSG00000231500', 'ENSG00000173372', 'ENSG00000180730', 'ENSG00000100097', 'ENSG00000160307', 'ENSG00000206503', 'ENSG00000170801', 'ENSG00000204287', 'ENSG00000109475', 'ENSG00000115461', 'ENSG00000163815', 'ENSG00000164692', 'ENSG00000130635', 'ENSG00000129538', 'ENSG00000078596', 'ENSG00000143196', 'ENSG00000037897', 'ENSG00000135916', 'ENSG00000135679', 'ENSG00000011600', 'ENSG00000135404', 'ENSG00000182253', 'ENSG00000163191', 'ENSG00000064300', 'ENSG00000142534', 'ENSG00000135452', 'ENSG00000175899', 'ENSG00000105372', 'ENSG00000130203', 'ENSG00000175215', 'ENSG00000125868', 'ENSG00000011465', 'ENSG00000107317', 'ENSG00000174444', 'ENSG00000006016', 'ENSG00000111341', 'ENSG00000100979', 'ENSG00000166482', 'ENSG00000198755', 'ENSG00000211592', 'ENSG00000122786', 'ENSG00000103710', 'ENSG00000159189', 'ENSG00000140988', 'ENSG00000211895', 'ENSG00000165457', 'ENSG00000108821', 'ENSG00000034510', 'ENSG00000228253', 'ENSG00000177954', 'ENSG00000137154', 'ENSG00000063180', 'ENSG00000118523', 'ENSG00000167658', 'ENSG00000101955', 'ENSG00000106211', 'ENSG00000149591', 'ENSG00000147257', 'ENSG00000198886', 'ENSG00000189058', 'ENSG00000198523', 'ENSG00000198467', 'ENSG00000196924', 'ENSG00000167779', 'ENSG00000114854', 'ENSG00000120885', 'ENSG00000275385', 'ENSG00000089157', 'ENSG00000164733', 'ENSG00000126778', 'ENSG00000100985', 'ENSG00000133110', 'ENSG00000000005', 'ENSG00000196611', 'ENSG00000116661', 'ENSG00000173369', 'ENSG00000148303', 'ENSG00000102575', 'ENSG00000198695', 'ENSG00000075624', 'ENSG00000163431', 'ENSG00000131471', 'ENSG00000158710', 'ENSG00000109610', 'ENSG00000102265']\n"
     ]
    }
   ],
   "source": [
    "# Get the names associated with the 200 best features\n",
    "feature_names = list(sarcoma_df)\n",
    "#list of booleans\n",
    "mask = chi_best.get_support() \n",
    "# The list of your K best features\n",
    "new_features = [] \n",
    "\n",
    "for bool, feature in zip(mask, feature_names):\n",
    "    if bool:\n",
    "        (prefix, sep, suffix) = feature.rpartition('.')\n",
    "        new_features.append(prefix)\n",
    "        \n",
    "print(len(new_features))\n",
    "print(new_features)"
   ]
  },
  {
   "cell_type": "code",
   "execution_count": 7,
   "metadata": {},
   "outputs": [
    {
     "name": "stdout",
     "output_type": "stream",
     "text": [
      "querying 1-200...done.\n",
      "                             _id     _score   symbol notfound\n",
      "query                                                        \n",
      "ENSG00000227097  ENSG00000227097   6.910001  RPS28P7      NaN\n",
      "ENSG00000105048             7138  20.365880    TNNT1      NaN\n",
      "ENSG00000198888             4535  19.651003      ND1      NaN\n",
      "ENSG00000211679  ENSG00000211679  21.327978    IGLC3      NaN\n",
      "ENSG00000211459  ENSG00000211459  20.545593  MT-RNR1      NaN\n",
      "...                          ...        ...      ...      ...\n",
      "ENSG00000163431            25802  19.844347    LMOD1      NaN\n",
      "ENSG00000131471             8639  19.967790     AOC3      NaN\n",
      "ENSG00000158710             8407  21.115300   TAGLN2      NaN\n",
      "ENSG00000109610             6649  19.696651     SOD3      NaN\n",
      "ENSG00000102265             7076  19.391690    TIMP1      NaN\n",
      "\n",
      "[200 rows x 4 columns]\n"
     ]
    }
   ],
   "source": [
    "import mygene\n",
    "\n",
    "mg = mygene.MyGeneInfo()\n",
    "gene_symbol_list = mg.getgenes(new_features, fields='symbol', as_dataframe = True)\n",
    "print(gene_symbol_list)"
   ]
  },
  {
   "cell_type": "code",
   "execution_count": 8,
   "metadata": {},
   "outputs": [],
   "source": [
    "# Save csv file with list of best feature names\n",
    "features_list_df = pd.DataFrame(gene_symbol_list)\n",
    "features_list_df.to_csv(\"../Data/sarcoma-gene-exp-FPKM-chi2-gene_symbols-list.csv\", index=False)"
   ]
  },
  {
   "cell_type": "code",
   "execution_count": null,
   "metadata": {},
   "outputs": [],
   "source": []
  }
 ],
 "metadata": {
  "kernelspec": {
   "display_name": "Python 3",
   "language": "python",
   "name": "python3"
  },
  "language_info": {
   "codemirror_mode": {
    "name": "ipython",
    "version": 3
   },
   "file_extension": ".py",
   "mimetype": "text/x-python",
   "name": "python",
   "nbconvert_exporter": "python",
   "pygments_lexer": "ipython3",
   "version": "3.7.3"
  }
 },
 "nbformat": 4,
 "nbformat_minor": 2
}
