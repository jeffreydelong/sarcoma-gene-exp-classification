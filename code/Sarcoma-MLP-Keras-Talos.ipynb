{
 "cells": [
  {
   "cell_type": "code",
   "execution_count": 1,
   "metadata": {},
   "outputs": [],
   "source": [
    "# Imports for Talos and Keras\n",
    "\n",
    "import plaidml.keras\n",
    "plaidml.keras.install_backend()\n",
    "\n",
    "import talos as ta\n",
    "from talos.utils import metrics\n",
    "\n",
    "from keras.models import Sequential\n",
    "from keras.layers import Dense\n",
    "from keras.layers.core import Dropout\n",
    "from keras.layers.core import Activation\n",
    "from keras.utils import np_utils\n",
    "from keras.utils.np_utils import to_categorical\n",
    "from keras.activations import relu, elu\n",
    "from keras import regularizers\n",
    "from keras import optimizers\n",
    "\n",
    "import numpy as np\n",
    "import pandas as pd\n",
    "from sklearn.model_selection import train_test_split"
   ]
  },
  {
   "cell_type": "code",
   "execution_count": 2,
   "metadata": {},
   "outputs": [
    {
     "data": {
      "text/plain": [
       "(206, 20605)"
      ]
     },
     "execution_count": 2,
     "metadata": {},
     "output_type": "execute_result"
    }
   ],
   "source": [
    "# load the sarcoma transcriptome data\n",
    "sarcoma_df = pd.read_csv('../Data/sarcoma-gene-exp-FPKM-zscore-no-label.csv')\n",
    "sarcoma_df.shape"
   ]
  },
  {
   "cell_type": "code",
   "execution_count": 3,
   "metadata": {},
   "outputs": [
    {
     "data": {
      "text/plain": [
       "(206, 1)"
      ]
     },
     "execution_count": 3,
     "metadata": {},
     "output_type": "execute_result"
    }
   ],
   "source": [
    "# load label data\n",
    "sarcoma_labels_df = pd.read_csv('../Data/sarcoma-gene-exp-FPKM-labels-only.csv')\n",
    "sarcoma_labels_df.shape"
   ]
  },
  {
   "cell_type": "code",
   "execution_count": 7,
   "metadata": {},
   "outputs": [
    {
     "name": "stdout",
     "output_type": "stream",
     "text": [
      "[[-0.51154087  0.09480786 -0.35176093 ...  0.51624723  0.02346097\n",
      "   2.48359169]\n",
      " [-0.19129576  0.15347405  0.20261954 ... -0.41028013  2.86123234\n",
      "   0.16777757]\n",
      " [ 0.26472818  2.327348   -0.56049386 ... -0.21651268  0.0192731\n",
      "   0.76332633]\n",
      " ...\n",
      " [ 0.24931652 -0.03363532 -0.97441342 ... -0.50605902 -1.23871739\n",
      "   0.28153212]\n",
      " [ 0.2581943  -0.8373263  -0.19647611 ... -0.29302061 -0.78367962\n",
      "  -0.7597076 ]\n",
      " [-0.07085013 -0.29522455 -0.59015045 ... -0.50644652 -0.01137879\n",
      "  -0.39862195]]\n"
     ]
    }
   ],
   "source": [
    "# Convert transcriptome df to np array\n",
    "X = sarcoma_df.to_numpy()\n",
    "print(X)"
   ]
  },
  {
   "cell_type": "code",
   "execution_count": 8,
   "metadata": {},
   "outputs": [
    {
     "name": "stdout",
     "output_type": "stream",
     "text": [
      "[4 2 2 1 5 3 2 4 4 3 4 4 4 3 0 3 1 4 2 4 4 0 2 4 3 3 3 2 0 4 4 5 3 3 2 4 4\n",
      " 5 4 3 4 4 5 4 2 4 4 4 1 4 1 4 4 2 4 3 3 2 2 4 4 4 4 4 4 4 2 2 3 4 2 3 4 4\n",
      " 3 4 3 2 4 3 2 3 4 4 3 4 3 4 3 4 4 1 3 4 4 4 0 4 3 4 3 3 3 5 2 0 3 3 1 1 4\n",
      " 2 3 0 3 4 2 4 2 0 3 4 4 3 2 2 1 3 4 4 4 4 4 3 2 4 2 4 1 0 2 2 3 4 4 2 3 4\n",
      " 4 3 1 3 4 3 4 2 2 1 3 2 2 0 4 2 1 4 2 1 4 3 3 4 2 4 2 4 3 4 2 1 3 4 2 4 4\n",
      " 2 2 3 4 4 4 3 2 4 1 1 2 3 0 3 3 2 2 3 1 2]\n"
     ]
    }
   ],
   "source": [
    "# Convert label df to np array\n",
    "y_df = sarcoma_labels_df['label']\n",
    "y = y_df.to_numpy()\n",
    "print(y)"
   ]
  },
  {
   "cell_type": "code",
   "execution_count": 9,
   "metadata": {},
   "outputs": [
    {
     "name": "stdout",
     "output_type": "stream",
     "text": [
      "[[0. 0. 0. 0. 1. 0.]\n",
      " [0. 0. 1. 0. 0. 0.]\n",
      " [0. 0. 1. 0. 0. 0.]\n",
      " ...\n",
      " [0. 0. 0. 1. 0. 0.]\n",
      " [0. 1. 0. 0. 0. 0.]\n",
      " [0. 0. 1. 0. 0. 0.]]\n"
     ]
    }
   ],
   "source": [
    "y_cat = to_categorical(y)\n",
    "print(y_cat)"
   ]
  },
  {
   "cell_type": "code",
   "execution_count": 10,
   "metadata": {},
   "outputs": [],
   "source": [
    "# split into train and test sets\n",
    "X_train, X_test, y_train, y_test = train_test_split(\n",
    "    X, y_cat, test_size=0.2,\n",
    "    stratify=y_cat, random_state=0\n",
    ")"
   ]
  },
  {
   "cell_type": "code",
   "execution_count": 11,
   "metadata": {},
   "outputs": [],
   "source": [
    "# define the hyper-parameters\n",
    "p = {\n",
    "    'learning_rate': [0.01, 0.005],\n",
    "    'l1_reg': [0, 0.0001],\n",
    "    'l2_reg': [0, 0.0001, 0.001],\n",
    "    'dropout': [0, 0.2, 0.5]\n",
    "}"
   ]
  },
  {
   "cell_type": "code",
   "execution_count": 12,
   "metadata": {},
   "outputs": [],
   "source": [
    "# add input parameters to the function\n",
    "def sarcoma(x_train, y_train, x_val, y_val, params):\n",
    "    \n",
    "    # replace the hyperparameter inputs with references to params dictionary \n",
    "    model = Sequential()\n",
    "    model.add(Dense(5000, activation='relu', input_dim=20605))\n",
    "    model.add(Dense(5000, kernel_regularizer=regularizers.l1_l2(params['l1_reg'],params['l2_reg']), activation='relu'))\n",
    "    model.add(Dropout(params['dropout']))\n",
    "    model.add(Dense(5000, kernel_regularizer=regularizers.l1_l2(params['l1_reg'],params['l2_reg']), activation='relu'))\n",
    "    model.add(Dropout(params['dropout']))\n",
    "    model.add(Dense(6, activation='softmax'))\n",
    "    sgd = optimizers.SGD(lr=params['learning_rate'])\n",
    "#   sgd = optimizers.SGD(lr=0.005)\n",
    "    model.compile(loss='categorical_crossentropy', optimizer=sgd, metrics=['accuracy'])\n",
    "    \n",
    "    # make sure history object is returned by model.fit()\n",
    "    out = model.fit(x=x_train, \n",
    "                    y=y_train,\n",
    "                    validation_data=[x_val, y_val],\n",
    "                    epochs=10,\n",
    "                    batch_size=32,\n",
    "                    verbose=1)\n",
    "    \n",
    "    # modify the output model\n",
    "    return out, model"
   ]
  },
  {
   "cell_type": "code",
   "execution_count": 13,
   "metadata": {},
   "outputs": [
    {
     "name": "stderr",
     "output_type": "stream",
     "text": [
      "  0%|          | 0/18 [00:00<?, ?it/s]INFO:plaidml:Opening device \"metal_amd_radeon_pro_560x.0\"\n"
     ]
    },
    {
     "name": "stdout",
     "output_type": "stream",
     "text": [
      "Train on 131 samples, validate on 33 samples\n",
      "Epoch 1/10\n",
      "131/131 [==============================] - 5s 36ms/step - loss: 73.1422 - acc: 0.3817 - val_loss: 74.3965 - val_acc: 0.2727\n",
      "Epoch 2/10\n",
      "131/131 [==============================] - 5s 38ms/step - loss: 72.0577 - acc: 0.7176 - val_loss: 71.7996 - val_acc: 0.7879\n",
      "Epoch 3/10\n",
      "131/131 [==============================] - 5s 35ms/step - loss: 71.2385 - acc: 0.9924 - val_loss: 71.7314 - val_acc: 0.8182\n",
      "Epoch 4/10\n",
      "131/131 [==============================] - 5s 34ms/step - loss: 71.1592 - acc: 1.0000 - val_loss: 71.6855 - val_acc: 0.7879\n",
      "Epoch 5/10\n",
      "131/131 [==============================] - 5s 35ms/step - loss: 71.1071 - acc: 1.0000 - val_loss: 71.6844 - val_acc: 0.7879\n",
      "Epoch 6/10\n",
      "131/131 [==============================] - 5s 35ms/step - loss: 71.0633 - acc: 1.0000 - val_loss: 71.6119 - val_acc: 0.7879\n",
      "Epoch 7/10\n",
      "131/131 [==============================] - 5s 35ms/step - loss: 71.0151 - acc: 1.0000 - val_loss: 71.5715 - val_acc: 0.8182\n",
      "Epoch 8/10\n",
      "131/131 [==============================] - 5s 35ms/step - loss: 70.9726 - acc: 1.0000 - val_loss: 71.5272 - val_acc: 0.7879\n",
      "Epoch 9/10\n",
      "131/131 [==============================] - 5s 35ms/step - loss: 70.9313 - acc: 1.0000 - val_loss: 71.4864 - val_acc: 0.7879\n",
      "Epoch 10/10\n",
      "131/131 [==============================] - 5s 35ms/step - loss: 70.8905 - acc: 1.0000 - val_loss: 71.4473 - val_acc: 0.8485\n"
     ]
    },
    {
     "name": "stderr",
     "output_type": "stream",
     "text": [
      "  6%|▌         | 1/18 [00:48<13:41, 48.34s/it]INFO:plaidml:Opening device \"metal_amd_radeon_pro_560x.0\"\n"
     ]
    },
    {
     "name": "stdout",
     "output_type": "stream",
     "text": [
      "Train on 131 samples, validate on 33 samples\n",
      "Epoch 1/10\n",
      "131/131 [==============================] - 2s 16ms/step - loss: 2.1412 - acc: 0.3893 - val_loss: 7.5959 - val_acc: 0.2424\n",
      "Epoch 2/10\n",
      "131/131 [==============================] - 1s 5ms/step - loss: 3.4657 - acc: 0.5267 - val_loss: 4.7568 - val_acc: 0.4545\n",
      "Epoch 3/10\n",
      "131/131 [==============================] - 1s 5ms/step - loss: 1.2577 - acc: 0.7710 - val_loss: 1.7222 - val_acc: 0.6061\n",
      "Epoch 4/10\n",
      "131/131 [==============================] - 1s 5ms/step - loss: 0.4592 - acc: 0.8626 - val_loss: 0.6683 - val_acc: 0.7273\n",
      "Epoch 5/10\n",
      "131/131 [==============================] - 1s 5ms/step - loss: 0.1955 - acc: 0.9313 - val_loss: 2.0383 - val_acc: 0.5455\n",
      "Epoch 6/10\n",
      "131/131 [==============================] - 1s 5ms/step - loss: 0.6295 - acc: 0.8244 - val_loss: 2.2610 - val_acc: 0.4848\n",
      "Epoch 7/10\n",
      "131/131 [==============================] - 1s 5ms/step - loss: 0.2035 - acc: 0.9313 - val_loss: 0.6053 - val_acc: 0.7879\n",
      "Epoch 8/10\n",
      "131/131 [==============================] - 1s 5ms/step - loss: 0.0464 - acc: 0.9924 - val_loss: 0.5967 - val_acc: 0.8788\n",
      "Epoch 9/10\n",
      "131/131 [==============================] - 1s 5ms/step - loss: 0.0320 - acc: 1.0000 - val_loss: 0.6023 - val_acc: 0.8788\n",
      "Epoch 10/10\n",
      "131/131 [==============================] - 1s 5ms/step - loss: 0.0255 - acc: 1.0000 - val_loss: 0.6321 - val_acc: 0.8182\n"
     ]
    },
    {
     "name": "stderr",
     "output_type": "stream",
     "text": [
      " 11%|█         | 2/18 [00:58<09:49, 36.87s/it]INFO:plaidml:Opening device \"metal_amd_radeon_pro_560x.0\"\n"
     ]
    },
    {
     "name": "stdout",
     "output_type": "stream",
     "text": [
      "Train on 131 samples, validate on 33 samples\n",
      "Epoch 1/10\n",
      "131/131 [==============================] - 6s 46ms/step - loss: 64.2981 - acc: 0.3282 - val_loss: 63.3503 - val_acc: 0.7273\n",
      "Epoch 2/10\n",
      "131/131 [==============================] - 5s 39ms/step - loss: 63.1302 - acc: 0.6794 - val_loss: 64.3138 - val_acc: 0.3333\n",
      "Epoch 3/10\n",
      "131/131 [==============================] - 5s 36ms/step - loss: 63.1551 - acc: 0.7023 - val_loss: 63.1376 - val_acc: 0.6061\n",
      "Epoch 4/10\n",
      "131/131 [==============================] - 5s 36ms/step - loss: 62.6112 - acc: 0.8779 - val_loss: 63.1805 - val_acc: 0.6667\n",
      "Epoch 5/10\n",
      "131/131 [==============================] - 5s 36ms/step - loss: 62.5108 - acc: 0.8702 - val_loss: 62.9809 - val_acc: 0.7879\n",
      "Epoch 6/10\n",
      "131/131 [==============================] - 5s 36ms/step - loss: 62.3722 - acc: 0.9466 - val_loss: 63.2251 - val_acc: 0.6970\n",
      "Epoch 7/10\n",
      "131/131 [==============================] - 5s 36ms/step - loss: 62.4120 - acc: 0.9313 - val_loss: 62.8159 - val_acc: 0.8182\n",
      "Epoch 8/10\n",
      "131/131 [==============================] - 5s 36ms/step - loss: 62.2889 - acc: 0.9695 - val_loss: 62.8580 - val_acc: 0.7273\n",
      "Epoch 9/10\n",
      "131/131 [==============================] - 5s 36ms/step - loss: 62.2284 - acc: 0.9924 - val_loss: 62.7471 - val_acc: 0.8182\n",
      "Epoch 10/10\n",
      "131/131 [==============================] - 5s 36ms/step - loss: 62.1998 - acc: 1.0000 - val_loss: 62.7359 - val_acc: 0.8182\n"
     ]
    },
    {
     "name": "stderr",
     "output_type": "stream",
     "text": [
      " 17%|█▋        | 3/18 [01:49<10:17, 41.14s/it]INFO:plaidml:Opening device \"metal_amd_radeon_pro_560x.0\"\n"
     ]
    },
    {
     "name": "stdout",
     "output_type": "stream",
     "text": [
      "Train on 131 samples, validate on 33 samples\n",
      "Epoch 1/10\n",
      "131/131 [==============================] - 3s 25ms/step - loss: 11.4997 - acc: 0.4885 - val_loss: 12.1507 - val_acc: 0.3636\n",
      "Epoch 2/10\n",
      "131/131 [==============================] - 2s 17ms/step - loss: 10.8105 - acc: 0.7710 - val_loss: 12.9729 - val_acc: 0.3636\n",
      "Epoch 3/10\n",
      "131/131 [==============================] - 2s 15ms/step - loss: 10.6164 - acc: 0.7939 - val_loss: 11.3947 - val_acc: 0.6061\n",
      "Epoch 4/10\n",
      "131/131 [==============================] - 2s 15ms/step - loss: 10.2957 - acc: 0.9160 - val_loss: 10.8279 - val_acc: 0.7879\n",
      "Epoch 5/10\n",
      "131/131 [==============================] - 2s 15ms/step - loss: 10.1428 - acc: 0.9924 - val_loss: 10.8308 - val_acc: 0.7576\n",
      "Epoch 6/10\n",
      "131/131 [==============================] - 2s 15ms/step - loss: 10.1082 - acc: 0.9924 - val_loss: 10.7948 - val_acc: 0.8182\n",
      "Epoch 7/10\n",
      "131/131 [==============================] - 2s 15ms/step - loss: 10.0807 - acc: 1.0000 - val_loss: 10.7589 - val_acc: 0.8182\n",
      "Epoch 8/10\n",
      "131/131 [==============================] - 2s 15ms/step - loss: 10.0595 - acc: 1.0000 - val_loss: 10.7473 - val_acc: 0.8485\n",
      "Epoch 9/10\n",
      "131/131 [==============================] - 2s 15ms/step - loss: 10.0539 - acc: 1.0000 - val_loss: 10.7441 - val_acc: 0.8485\n",
      "Epoch 10/10\n",
      "131/131 [==============================] - 2s 15ms/step - loss: 10.0477 - acc: 1.0000 - val_loss: 10.7398 - val_acc: 0.8485\n"
     ]
    },
    {
     "name": "stderr",
     "output_type": "stream",
     "text": [
      " 22%|██▏       | 4/18 [02:12<08:21, 35.83s/it]INFO:plaidml:Opening device \"metal_amd_radeon_pro_560x.0\"\n"
     ]
    },
    {
     "name": "stdout",
     "output_type": "stream",
     "text": [
      "Train on 131 samples, validate on 33 samples\n",
      "Epoch 1/10\n",
      "131/131 [==============================] - 3s 25ms/step - loss: 3.5135 - acc: 0.3511 - val_loss: 2.1931 - val_acc: 0.7879\n",
      "Epoch 2/10\n",
      "131/131 [==============================] - 2s 17ms/step - loss: 1.4835 - acc: 0.8397 - val_loss: 1.8303 - val_acc: 0.8182\n",
      "Epoch 3/10\n",
      "131/131 [==============================] - 2s 15ms/step - loss: 1.1588 - acc: 0.9771 - val_loss: 1.7907 - val_acc: 0.8182\n",
      "Epoch 4/10\n",
      "131/131 [==============================] - 2s 15ms/step - loss: 1.0880 - acc: 1.0000 - val_loss: 1.7598 - val_acc: 0.8182\n",
      "Epoch 5/10\n",
      "131/131 [==============================] - 2s 15ms/step - loss: 1.0628 - acc: 1.0000 - val_loss: 1.7351 - val_acc: 0.8182\n",
      "Epoch 6/10\n",
      "131/131 [==============================] - 2s 15ms/step - loss: 1.0471 - acc: 1.0000 - val_loss: 1.7233 - val_acc: 0.8182\n",
      "Epoch 7/10\n",
      "131/131 [==============================] - 2s 15ms/step - loss: 1.0351 - acc: 1.0000 - val_loss: 1.7313 - val_acc: 0.8182\n",
      "Epoch 8/10\n",
      "131/131 [==============================] - 2s 15ms/step - loss: 1.0336 - acc: 1.0000 - val_loss: 1.7354 - val_acc: 0.8182\n",
      "Epoch 9/10\n",
      "131/131 [==============================] - 2s 15ms/step - loss: 1.0245 - acc: 1.0000 - val_loss: 1.7142 - val_acc: 0.8182\n",
      "Epoch 10/10\n",
      "131/131 [==============================] - 2s 15ms/step - loss: 1.0224 - acc: 1.0000 - val_loss: 1.7174 - val_acc: 0.8182\n"
     ]
    },
    {
     "name": "stderr",
     "output_type": "stream",
     "text": [
      " 28%|██▊       | 5/18 [02:36<06:58, 32.19s/it]INFO:plaidml:Opening device \"metal_amd_radeon_pro_560x.0\"\n"
     ]
    },
    {
     "name": "stdout",
     "output_type": "stream",
     "text": [
      "Train on 131 samples, validate on 33 samples\n",
      "Epoch 1/10\n",
      "131/131 [==============================] - 4s 34ms/step - loss: 64.2780 - acc: 0.2901 - val_loss: 66.0435 - val_acc: 0.3030\n",
      "Epoch 2/10\n",
      "131/131 [==============================] - 4s 33ms/step - loss: 63.1576 - acc: 0.6031 - val_loss: 63.1591 - val_acc: 0.4848\n",
      "Epoch 3/10\n",
      "131/131 [==============================] - 3s 21ms/step - loss: 61.7031 - acc: 0.8092 - val_loss: 63.8390 - val_acc: 0.5455\n",
      "Epoch 4/10\n",
      "131/131 [==============================] - 3s 21ms/step - loss: 61.6851 - acc: 0.8321 - val_loss: 62.0434 - val_acc: 0.6970\n",
      "Epoch 5/10\n",
      "131/131 [==============================] - 3s 23ms/step - loss: 61.3317 - acc: 0.9313 - val_loss: 62.0377 - val_acc: 0.6667\n",
      "Epoch 6/10\n",
      "131/131 [==============================] - 3s 21ms/step - loss: 61.2487 - acc: 0.9618 - val_loss: 61.6925 - val_acc: 0.7576\n",
      "Epoch 7/10\n",
      "131/131 [==============================] - 3s 21ms/step - loss: 61.1566 - acc: 0.9924 - val_loss: 61.6696 - val_acc: 0.7879\n",
      "Epoch 8/10\n",
      "131/131 [==============================] - 3s 21ms/step - loss: 61.1084 - acc: 1.0000 - val_loss: 61.6764 - val_acc: 0.7879\n",
      "Epoch 9/10\n",
      "131/131 [==============================] - 3s 23ms/step - loss: 61.0719 - acc: 1.0000 - val_loss: 61.6346 - val_acc: 0.7879\n",
      "Epoch 10/10\n",
      "131/131 [==============================] - 3s 21ms/step - loss: 61.0424 - acc: 1.0000 - val_loss: 61.6213 - val_acc: 0.7879\n"
     ]
    },
    {
     "name": "stderr",
     "output_type": "stream",
     "text": [
      " 33%|███▎      | 6/18 [03:10<06:30, 32.57s/it]INFO:plaidml:Opening device \"metal_amd_radeon_pro_560x.0\"\n"
     ]
    },
    {
     "name": "stdout",
     "output_type": "stream",
     "text": [
      "Train on 131 samples, validate on 33 samples\n",
      "Epoch 1/10\n",
      "131/131 [==============================] - 4s 33ms/step - loss: 11.4791 - acc: 0.4504 - val_loss: 11.6322 - val_acc: 0.5152\n",
      "Epoch 2/10\n",
      "131/131 [==============================] - 5s 35ms/step - loss: 10.6085 - acc: 0.8168 - val_loss: 11.3820 - val_acc: 0.5152\n",
      "Epoch 3/10\n",
      "131/131 [==============================] - 2s 19ms/step - loss: 10.2972 - acc: 0.9084 - val_loss: 10.8356 - val_acc: 0.7273\n",
      "Epoch 4/10\n",
      "131/131 [==============================] - 2s 19ms/step - loss: 10.1393 - acc: 1.0000 - val_loss: 10.8747 - val_acc: 0.7879\n",
      "Epoch 5/10\n",
      "131/131 [==============================] - 2s 19ms/step - loss: 10.1060 - acc: 1.0000 - val_loss: 10.7824 - val_acc: 0.7879\n",
      "Epoch 6/10\n",
      "131/131 [==============================] - 2s 19ms/step - loss: 10.0701 - acc: 1.0000 - val_loss: 10.7863 - val_acc: 0.8182\n",
      "Epoch 7/10\n",
      "131/131 [==============================] - 2s 19ms/step - loss: 10.0567 - acc: 1.0000 - val_loss: 10.7521 - val_acc: 0.7879\n",
      "Epoch 8/10\n",
      "131/131 [==============================] - 2s 19ms/step - loss: 10.0436 - acc: 1.0000 - val_loss: 10.7408 - val_acc: 0.8182\n",
      "Epoch 9/10\n",
      "131/131 [==============================] - 2s 19ms/step - loss: 10.0338 - acc: 1.0000 - val_loss: 10.6888 - val_acc: 0.8182\n",
      "Epoch 10/10\n",
      "131/131 [==============================] - 2s 19ms/step - loss: 10.0271 - acc: 1.0000 - val_loss: 10.6776 - val_acc: 0.8182\n"
     ]
    },
    {
     "name": "stderr",
     "output_type": "stream",
     "text": [
      " 39%|███▉      | 7/18 [03:43<05:59, 32.69s/it]INFO:plaidml:Opening device \"metal_amd_radeon_pro_560x.0\"\n"
     ]
    },
    {
     "name": "stdout",
     "output_type": "stream",
     "text": [
      "Train on 131 samples, validate on 33 samples\n",
      "Epoch 1/10\n",
      "131/131 [==============================] - 4s 34ms/step - loss: 2.9315 - acc: 0.4122 - val_loss: 7.3062 - val_acc: 0.2424\n",
      "Epoch 2/10\n",
      "131/131 [==============================] - 4s 28ms/step - loss: 2.7679 - acc: 0.6107 - val_loss: 2.1804 - val_acc: 0.5152\n",
      "Epoch 3/10\n",
      "131/131 [==============================] - 2s 19ms/step - loss: 1.2628 - acc: 0.9313 - val_loss: 1.6513 - val_acc: 0.7879\n",
      "Epoch 4/10\n",
      "131/131 [==============================] - 2s 19ms/step - loss: 1.0472 - acc: 1.0000 - val_loss: 1.6877 - val_acc: 0.7273\n",
      "Epoch 5/10\n",
      "131/131 [==============================] - 2s 19ms/step - loss: 1.0349 - acc: 1.0000 - val_loss: 1.6369 - val_acc: 0.7879\n",
      "Epoch 6/10\n",
      "131/131 [==============================] - 2s 19ms/step - loss: 1.0257 - acc: 1.0000 - val_loss: 1.6444 - val_acc: 0.7879\n",
      "Epoch 7/10\n",
      "131/131 [==============================] - 2s 19ms/step - loss: 1.0216 - acc: 1.0000 - val_loss: 1.6257 - val_acc: 0.7879\n",
      "Epoch 8/10\n",
      "131/131 [==============================] - 2s 19ms/step - loss: 1.0183 - acc: 1.0000 - val_loss: 1.6168 - val_acc: 0.7879\n",
      "Epoch 9/10\n",
      "131/131 [==============================] - 2s 19ms/step - loss: 1.0155 - acc: 1.0000 - val_loss: 1.6151 - val_acc: 0.8182\n",
      "Epoch 10/10\n",
      "131/131 [==============================] - 2s 19ms/step - loss: 1.0136 - acc: 1.0000 - val_loss: 1.6155 - val_acc: 0.8182\n"
     ]
    },
    {
     "name": "stderr",
     "output_type": "stream",
     "text": [
      " 44%|████▍     | 8/18 [04:15<05:24, 32.47s/it]INFO:plaidml:Opening device \"metal_amd_radeon_pro_560x.0\"\n"
     ]
    },
    {
     "name": "stdout",
     "output_type": "stream",
     "text": [
      "Train on 131 samples, validate on 33 samples\n",
      "Epoch 1/10\n",
      "131/131 [==============================] - 5s 42ms/step - loss: 64.0082 - acc: 0.3664 - val_loss: 65.5264 - val_acc: 0.3939\n",
      "Epoch 2/10\n",
      "131/131 [==============================] - 5s 39ms/step - loss: 63.0139 - acc: 0.7710 - val_loss: 63.1959 - val_acc: 0.6364\n",
      "Epoch 3/10\n",
      "131/131 [==============================] - 4s 31ms/step - loss: 62.3010 - acc: 0.9771 - val_loss: 62.8804 - val_acc: 0.7879\n",
      "Epoch 4/10\n",
      "131/131 [==============================] - 4s 31ms/step - loss: 62.2042 - acc: 1.0000 - val_loss: 62.7690 - val_acc: 0.8485\n",
      "Epoch 5/10\n",
      "131/131 [==============================] - 4s 31ms/step - loss: 62.1597 - acc: 1.0000 - val_loss: 62.7526 - val_acc: 0.8485\n",
      "Epoch 6/10\n",
      "131/131 [==============================] - 4s 31ms/step - loss: 62.1268 - acc: 1.0000 - val_loss: 62.7167 - val_acc: 0.8485\n",
      "Epoch 7/10\n",
      "131/131 [==============================] - 4s 31ms/step - loss: 62.0960 - acc: 1.0000 - val_loss: 62.6965 - val_acc: 0.8182\n",
      "Epoch 8/10\n",
      "131/131 [==============================] - 4s 31ms/step - loss: 62.0666 - acc: 1.0000 - val_loss: 62.6675 - val_acc: 0.8485\n",
      "Epoch 9/10\n",
      "131/131 [==============================] - 4s 31ms/step - loss: 62.0373 - acc: 1.0000 - val_loss: 62.6540 - val_acc: 0.8485\n",
      "Epoch 10/10\n",
      "131/131 [==============================] - 4s 31ms/step - loss: 62.0094 - acc: 1.0000 - val_loss: 62.6321 - val_acc: 0.8485\n"
     ]
    },
    {
     "name": "stderr",
     "output_type": "stream",
     "text": [
      " 50%|█████     | 9/18 [05:01<05:29, 36.63s/it]INFO:plaidml:Opening device \"metal_amd_radeon_pro_560x.0\"\n"
     ]
    },
    {
     "name": "stdout",
     "output_type": "stream",
     "text": [
      "Train on 131 samples, validate on 33 samples\n",
      "Epoch 1/10\n",
      "131/131 [==============================] - 3s 26ms/step - loss: 3.1360 - acc: 0.3740 - val_loss: 2.8497 - val_acc: 0.4545\n",
      "Epoch 2/10\n",
      "131/131 [==============================] - 2s 18ms/step - loss: 1.9376 - acc: 0.7099 - val_loss: 2.6641 - val_acc: 0.4545\n",
      "Epoch 3/10\n",
      "131/131 [==============================] - 2s 15ms/step - loss: 1.3512 - acc: 0.8931 - val_loss: 2.5202 - val_acc: 0.5758\n",
      "Epoch 4/10\n",
      "131/131 [==============================] - 2s 15ms/step - loss: 1.3280 - acc: 0.8702 - val_loss: 1.9128 - val_acc: 0.6970\n",
      "Epoch 5/10\n",
      "131/131 [==============================] - 2s 15ms/step - loss: 1.1279 - acc: 0.9466 - val_loss: 1.8237 - val_acc: 0.7273\n",
      "Epoch 6/10\n",
      "131/131 [==============================] - 2s 15ms/step - loss: 1.0740 - acc: 0.9847 - val_loss: 1.9005 - val_acc: 0.7576\n",
      "Epoch 7/10\n",
      "131/131 [==============================] - 2s 15ms/step - loss: 1.0644 - acc: 0.9924 - val_loss: 1.8319 - val_acc: 0.7576\n",
      "Epoch 8/10\n",
      "131/131 [==============================] - 2s 15ms/step - loss: 1.0649 - acc: 0.9924 - val_loss: 1.7517 - val_acc: 0.7576\n",
      "Epoch 9/10\n",
      "131/131 [==============================] - 2s 15ms/step - loss: 1.0616 - acc: 0.9924 - val_loss: 1.7814 - val_acc: 0.7273\n",
      "Epoch 10/10\n",
      "131/131 [==============================] - 2s 15ms/step - loss: 1.0488 - acc: 0.9924 - val_loss: 3.4623 - val_acc: 0.4848\n"
     ]
    },
    {
     "name": "stderr",
     "output_type": "stream",
     "text": [
      " 56%|█████▌    | 10/18 [05:26<04:24, 33.03s/it]INFO:plaidml:Opening device \"metal_amd_radeon_pro_560x.0\"\n"
     ]
    },
    {
     "name": "stdout",
     "output_type": "stream",
     "text": [
      "Train on 131 samples, validate on 33 samples\n",
      "Epoch 1/10\n",
      "131/131 [==============================] - 3s 26ms/step - loss: 2.4435 - acc: 0.4580 - val_loss: 3.7542 - val_acc: 0.3333\n",
      "Epoch 2/10\n",
      "131/131 [==============================] - 2s 17ms/step - loss: 2.0805 - acc: 0.6641 - val_loss: 2.1239 - val_acc: 0.5455\n",
      "Epoch 3/10\n",
      "131/131 [==============================] - 2s 15ms/step - loss: 1.3392 - acc: 0.9237 - val_loss: 1.7889 - val_acc: 0.8182\n",
      "Epoch 4/10\n",
      "131/131 [==============================] - 2s 15ms/step - loss: 1.2194 - acc: 0.9542 - val_loss: 2.0676 - val_acc: 0.5758\n",
      "Epoch 5/10\n",
      "131/131 [==============================] - 2s 15ms/step - loss: 1.1591 - acc: 0.9847 - val_loss: 1.7414 - val_acc: 0.8485\n",
      "Epoch 6/10\n",
      "131/131 [==============================] - 2s 15ms/step - loss: 1.1073 - acc: 1.0000 - val_loss: 1.7726 - val_acc: 0.7576\n",
      "Epoch 7/10\n",
      "131/131 [==============================] - 2s 15ms/step - loss: 1.0872 - acc: 1.0000 - val_loss: 1.7415 - val_acc: 0.8485\n",
      "Epoch 8/10\n",
      "131/131 [==============================] - 2s 15ms/step - loss: 1.0741 - acc: 1.0000 - val_loss: 1.7684 - val_acc: 0.7879\n",
      "Epoch 9/10\n",
      "131/131 [==============================] - 2s 15ms/step - loss: 1.0606 - acc: 1.0000 - val_loss: 1.7471 - val_acc: 0.7879\n",
      "Epoch 10/10\n",
      "131/131 [==============================] - 2s 15ms/step - loss: 1.0506 - acc: 1.0000 - val_loss: 1.7248 - val_acc: 0.7576\n"
     ]
    },
    {
     "name": "stderr",
     "output_type": "stream",
     "text": [
      " 61%|██████    | 11/18 [05:51<03:35, 30.72s/it]INFO:plaidml:Opening device \"metal_amd_radeon_pro_560x.0\"\n"
     ]
    },
    {
     "name": "stdout",
     "output_type": "stream",
     "text": [
      "Train on 131 samples, validate on 33 samples\n",
      "Epoch 1/10\n",
      "131/131 [==============================] - 4s 31ms/step - loss: 62.9216 - acc: 0.3817 - val_loss: 62.9387 - val_acc: 0.3939\n",
      "Epoch 2/10\n",
      "131/131 [==============================] - 4s 27ms/step - loss: 61.8423 - acc: 0.8015 - val_loss: 62.3833 - val_acc: 0.6061\n",
      "Epoch 3/10\n",
      "131/131 [==============================] - 3s 22ms/step - loss: 61.4670 - acc: 0.9618 - val_loss: 62.0341 - val_acc: 0.6970\n",
      "Epoch 4/10\n",
      "131/131 [==============================] - 3s 22ms/step - loss: 61.3712 - acc: 0.9924 - val_loss: 61.9610 - val_acc: 0.6970\n",
      "Epoch 5/10\n",
      "131/131 [==============================] - 3s 22ms/step - loss: 61.2883 - acc: 1.0000 - val_loss: 62.1001 - val_acc: 0.6364\n",
      "Epoch 6/10\n",
      "131/131 [==============================] - 3s 22ms/step - loss: 61.2629 - acc: 1.0000 - val_loss: 61.8997 - val_acc: 0.7879\n",
      "Epoch 7/10\n",
      "131/131 [==============================] - 3s 22ms/step - loss: 61.2204 - acc: 1.0000 - val_loss: 61.9169 - val_acc: 0.7273\n",
      "Epoch 8/10\n",
      "131/131 [==============================] - 3s 22ms/step - loss: 61.1984 - acc: 1.0000 - val_loss: 61.8830 - val_acc: 0.7273\n",
      "Epoch 9/10\n",
      "131/131 [==============================] - 3s 22ms/step - loss: 61.1778 - acc: 1.0000 - val_loss: 61.8675 - val_acc: 0.7273\n",
      "Epoch 10/10\n",
      "131/131 [==============================] - 3s 22ms/step - loss: 61.1600 - acc: 1.0000 - val_loss: 61.8533 - val_acc: 0.7273\n"
     ]
    },
    {
     "name": "stderr",
     "output_type": "stream",
     "text": [
      " 67%|██████▋   | 12/18 [06:25<03:10, 31.71s/it]INFO:plaidml:Opening device \"metal_amd_radeon_pro_560x.0\"\n"
     ]
    },
    {
     "name": "stdout",
     "output_type": "stream",
     "text": [
      "Train on 131 samples, validate on 33 samples\n",
      "Epoch 1/10\n",
      "131/131 [==============================] - 4s 31ms/step - loss: 63.1354 - acc: 0.3893 - val_loss: 63.9608 - val_acc: 0.5758\n",
      "Epoch 2/10\n",
      "131/131 [==============================] - 4s 27ms/step - loss: 61.8963 - acc: 0.8550 - val_loss: 63.2379 - val_acc: 0.4242\n",
      "Epoch 3/10\n",
      "131/131 [==============================] - 3s 22ms/step - loss: 61.3947 - acc: 0.9237 - val_loss: 61.8765 - val_acc: 0.8485\n",
      "Epoch 4/10\n",
      "131/131 [==============================] - 3s 22ms/step - loss: 61.2131 - acc: 1.0000 - val_loss: 61.8468 - val_acc: 0.8485\n",
      "Epoch 5/10\n",
      "131/131 [==============================] - 3s 22ms/step - loss: 61.1688 - acc: 1.0000 - val_loss: 61.8355 - val_acc: 0.7273\n",
      "Epoch 6/10\n",
      "131/131 [==============================] - 3s 22ms/step - loss: 61.1369 - acc: 1.0000 - val_loss: 61.8042 - val_acc: 0.8182\n",
      "Epoch 7/10\n",
      "131/131 [==============================] - 3s 22ms/step - loss: 61.1073 - acc: 1.0000 - val_loss: 61.7818 - val_acc: 0.8182\n",
      "Epoch 8/10\n",
      "131/131 [==============================] - 3s 22ms/step - loss: 61.0789 - acc: 1.0000 - val_loss: 61.7687 - val_acc: 0.7879\n",
      "Epoch 9/10\n",
      "131/131 [==============================] - 3s 22ms/step - loss: 61.0513 - acc: 1.0000 - val_loss: 61.7441 - val_acc: 0.7879\n",
      "Epoch 10/10\n",
      "131/131 [==============================] - 3s 22ms/step - loss: 61.0246 - acc: 1.0000 - val_loss: 61.7121 - val_acc: 0.7879\n"
     ]
    },
    {
     "name": "stderr",
     "output_type": "stream",
     "text": [
      " 72%|███████▏  | 13/18 [06:59<02:42, 32.49s/it]INFO:plaidml:Opening device \"metal_amd_radeon_pro_560x.0\"\n"
     ]
    },
    {
     "name": "stdout",
     "output_type": "stream",
     "text": [
      "Train on 131 samples, validate on 33 samples\n",
      "Epoch 1/10\n",
      "131/131 [==============================] - 4s 32ms/step - loss: 63.9450 - acc: 0.2977 - val_loss: 66.4978 - val_acc: 0.0000e+00\n",
      "Epoch 2/10\n",
      "131/131 [==============================] - 3s 25ms/step - loss: 62.5825 - acc: 0.6565 - val_loss: 62.2466 - val_acc: 0.5758\n",
      "Epoch 3/10\n",
      "131/131 [==============================] - 3s 21ms/step - loss: 61.3645 - acc: 0.9389 - val_loss: 61.8358 - val_acc: 0.7273\n",
      "Epoch 4/10\n",
      "131/131 [==============================] - 3s 21ms/step - loss: 61.2724 - acc: 0.9924 - val_loss: 61.9131 - val_acc: 0.7273\n",
      "Epoch 5/10\n",
      "131/131 [==============================] - 3s 23ms/step - loss: 61.2078 - acc: 1.0000 - val_loss: 61.7992 - val_acc: 0.7576\n",
      "Epoch 6/10\n",
      "131/131 [==============================] - 3s 21ms/step - loss: 61.1523 - acc: 1.0000 - val_loss: 61.8032 - val_acc: 0.7879\n",
      "Epoch 7/10\n",
      "131/131 [==============================] - 3s 21ms/step - loss: 61.1194 - acc: 1.0000 - val_loss: 61.7416 - val_acc: 0.7576\n",
      "Epoch 8/10\n",
      "131/131 [==============================] - 3s 21ms/step - loss: 61.0852 - acc: 1.0000 - val_loss: 61.7174 - val_acc: 0.7576\n",
      "Epoch 9/10\n",
      "131/131 [==============================] - 3s 23ms/step - loss: 61.0580 - acc: 1.0000 - val_loss: 61.6961 - val_acc: 0.7576\n",
      "Epoch 10/10\n",
      "131/131 [==============================] - 3s 21ms/step - loss: 61.0333 - acc: 1.0000 - val_loss: 61.6755 - val_acc: 0.7879\n"
     ]
    },
    {
     "name": "stderr",
     "output_type": "stream",
     "text": [
      " 78%|███████▊  | 14/18 [07:33<02:11, 32.87s/it]INFO:plaidml:Opening device \"metal_amd_radeon_pro_560x.0\"\n"
     ]
    },
    {
     "name": "stdout",
     "output_type": "stream",
     "text": [
      "Train on 131 samples, validate on 33 samples\n",
      "Epoch 1/10\n",
      "131/131 [==============================] - 6s 46ms/step - loss: 73.8203 - acc: 0.3282 - val_loss: 73.1924 - val_acc: 0.3939\n",
      "Epoch 2/10\n",
      "131/131 [==============================] - 6s 42ms/step - loss: 72.0852 - acc: 0.6794 - val_loss: 72.4499 - val_acc: 0.4242\n",
      "Epoch 3/10\n",
      "131/131 [==============================] - 4s 32ms/step - loss: 71.4742 - acc: 0.8779 - val_loss: 72.0751 - val_acc: 0.6970\n",
      "Epoch 4/10\n",
      "131/131 [==============================] - 5s 35ms/step - loss: 71.2883 - acc: 0.9542 - val_loss: 73.0999 - val_acc: 0.4242\n",
      "Epoch 5/10\n",
      "131/131 [==============================] - 4s 32ms/step - loss: 71.4949 - acc: 0.8092 - val_loss: 71.8078 - val_acc: 0.8182\n",
      "Epoch 6/10\n",
      "131/131 [==============================] - 4s 32ms/step - loss: 71.1155 - acc: 1.0000 - val_loss: 71.7961 - val_acc: 0.7576\n",
      "Epoch 7/10\n",
      "131/131 [==============================] - 4s 32ms/step - loss: 71.0660 - acc: 0.9847 - val_loss: 71.8619 - val_acc: 0.6667\n",
      "Epoch 8/10\n",
      "131/131 [==============================] - 4s 32ms/step - loss: 70.9956 - acc: 1.0000 - val_loss: 71.6492 - val_acc: 0.8182\n",
      "Epoch 9/10\n",
      "131/131 [==============================] - 4s 32ms/step - loss: 70.9579 - acc: 0.9924 - val_loss: 71.5225 - val_acc: 0.8182\n",
      "Epoch 10/10\n",
      "131/131 [==============================] - 4s 32ms/step - loss: 70.9060 - acc: 1.0000 - val_loss: 71.5033 - val_acc: 0.7879\n"
     ]
    },
    {
     "name": "stderr",
     "output_type": "stream",
     "text": [
      " 83%|████████▎ | 15/18 [08:22<01:52, 37.64s/it]INFO:plaidml:Opening device \"metal_amd_radeon_pro_560x.0\"\n"
     ]
    },
    {
     "name": "stdout",
     "output_type": "stream",
     "text": [
      "Train on 131 samples, validate on 33 samples\n",
      "Epoch 1/10\n",
      "131/131 [==============================] - 6s 44ms/step - loss: 73.0414 - acc: 0.3435 - val_loss: 72.8490 - val_acc: 0.5455\n",
      "Epoch 2/10\n",
      "131/131 [==============================] - 6s 45ms/step - loss: 72.1973 - acc: 0.6641 - val_loss: 72.5896 - val_acc: 0.4242\n",
      "Epoch 3/10\n",
      "131/131 [==============================] - 4s 32ms/step - loss: 71.8075 - acc: 0.8015 - val_loss: 72.0500 - val_acc: 0.6970\n",
      "Epoch 4/10\n",
      "131/131 [==============================] - 4s 32ms/step - loss: 71.6247 - acc: 0.8321 - val_loss: 72.1027 - val_acc: 0.7273\n",
      "Epoch 5/10\n",
      "131/131 [==============================] - 4s 32ms/step - loss: 71.5057 - acc: 0.9237 - val_loss: 71.8602 - val_acc: 0.8485\n",
      "Epoch 6/10\n",
      "131/131 [==============================] - 4s 32ms/step - loss: 71.3395 - acc: 0.9389 - val_loss: 71.8655 - val_acc: 0.6970\n",
      "Epoch 7/10\n",
      "131/131 [==============================] - 4s 32ms/step - loss: 71.3127 - acc: 0.9313 - val_loss: 71.7859 - val_acc: 0.8182\n",
      "Epoch 8/10\n",
      "131/131 [==============================] - 4s 32ms/step - loss: 71.2311 - acc: 0.9695 - val_loss: 72.3010 - val_acc: 0.5758\n",
      "Epoch 9/10\n",
      "131/131 [==============================] - 4s 32ms/step - loss: 71.2585 - acc: 0.9542 - val_loss: 71.6925 - val_acc: 0.7273\n",
      "Epoch 10/10\n",
      "131/131 [==============================] - 4s 32ms/step - loss: 71.1303 - acc: 1.0000 - val_loss: 71.6759 - val_acc: 0.7576\n"
     ]
    },
    {
     "name": "stderr",
     "output_type": "stream",
     "text": [
      " 89%|████████▉ | 16/18 [09:10<01:21, 40.83s/it]INFO:plaidml:Opening device \"metal_amd_radeon_pro_560x.0\"\n"
     ]
    },
    {
     "name": "stdout",
     "output_type": "stream",
     "text": [
      "Train on 131 samples, validate on 33 samples\n",
      "Epoch 1/10\n",
      "131/131 [==============================] - 4s 32ms/step - loss: 63.2318 - acc: 0.2977 - val_loss: 63.7692 - val_acc: 0.1818\n",
      "Epoch 2/10\n",
      "131/131 [==============================] - 4s 29ms/step - loss: 62.2594 - acc: 0.6031 - val_loss: 62.3807 - val_acc: 0.6061\n",
      "Epoch 3/10\n",
      "131/131 [==============================] - 3s 21ms/step - loss: 61.7621 - acc: 0.7863 - val_loss: 62.3631 - val_acc: 0.6061\n",
      "Epoch 4/10\n",
      "131/131 [==============================] - 3s 23ms/step - loss: 61.5809 - acc: 0.8626 - val_loss: 62.1880 - val_acc: 0.6667\n",
      "Epoch 5/10\n",
      "131/131 [==============================] - 3s 21ms/step - loss: 61.5527 - acc: 0.8855 - val_loss: 62.2234 - val_acc: 0.6061\n",
      "Epoch 6/10\n",
      "131/131 [==============================] - 3s 23ms/step - loss: 61.4047 - acc: 0.9237 - val_loss: 61.9570 - val_acc: 0.6667\n",
      "Epoch 7/10\n",
      "131/131 [==============================] - 3s 21ms/step - loss: 61.3435 - acc: 0.9466 - val_loss: 61.8474 - val_acc: 0.8485\n",
      "Epoch 8/10\n",
      "131/131 [==============================] - 3s 23ms/step - loss: 61.3122 - acc: 0.9618 - val_loss: 61.9156 - val_acc: 0.7576\n",
      "Epoch 9/10\n",
      "131/131 [==============================] - 3s 21ms/step - loss: 61.2349 - acc: 0.9847 - val_loss: 61.9867 - val_acc: 0.6970\n",
      "Epoch 10/10\n",
      "131/131 [==============================] - 3s 23ms/step - loss: 61.2519 - acc: 0.9618 - val_loss: 61.7581 - val_acc: 0.8485\n"
     ]
    },
    {
     "name": "stderr",
     "output_type": "stream",
     "text": [
      " 94%|█████████▍| 17/18 [09:44<00:38, 38.89s/it]INFO:plaidml:Opening device \"metal_amd_radeon_pro_560x.0\"\n"
     ]
    },
    {
     "name": "stdout",
     "output_type": "stream",
     "text": [
      "Train on 131 samples, validate on 33 samples\n",
      "Epoch 1/10\n",
      "131/131 [==============================] - 2s 16ms/step - loss: 1.4753 - acc: 0.4275 - val_loss: 2.1911 - val_acc: 0.4545\n",
      "Epoch 2/10\n",
      "131/131 [==============================] - 1s 5ms/step - loss: 0.8313 - acc: 0.7023 - val_loss: 0.9797 - val_acc: 0.6667\n",
      "Epoch 3/10\n",
      "131/131 [==============================] - 1s 5ms/step - loss: 0.3581 - acc: 0.9313 - val_loss: 0.9645 - val_acc: 0.6667\n",
      "Epoch 4/10\n",
      "131/131 [==============================] - 1s 5ms/step - loss: 0.2139 - acc: 0.9771 - val_loss: 0.8079 - val_acc: 0.7273\n",
      "Epoch 5/10\n",
      "131/131 [==============================] - 1s 5ms/step - loss: 0.1557 - acc: 0.9924 - val_loss: 0.7873 - val_acc: 0.7273\n",
      "Epoch 6/10\n",
      "131/131 [==============================] - 1s 5ms/step - loss: 0.1031 - acc: 1.0000 - val_loss: 0.7501 - val_acc: 0.7879\n",
      "Epoch 7/10\n",
      "131/131 [==============================] - 1s 5ms/step - loss: 0.0902 - acc: 1.0000 - val_loss: 0.7562 - val_acc: 0.7576\n",
      "Epoch 8/10\n",
      "131/131 [==============================] - 1s 5ms/step - loss: 0.0693 - acc: 1.0000 - val_loss: 0.7469 - val_acc: 0.7576\n",
      "Epoch 9/10\n",
      "131/131 [==============================] - 1s 5ms/step - loss: 0.0596 - acc: 1.0000 - val_loss: 0.7321 - val_acc: 0.7879\n",
      "Epoch 10/10\n",
      "131/131 [==============================] - 1s 5ms/step - loss: 0.0493 - acc: 1.0000 - val_loss: 0.7312 - val_acc: 0.7879\n"
     ]
    },
    {
     "name": "stderr",
     "output_type": "stream",
     "text": [
      "100%|██████████| 18/18 [09:55<00:00, 33.09s/it]\n"
     ]
    }
   ],
   "source": [
    "t = ta.Scan(x=X_train, y=y_train, params=p, model=sarcoma, experiment_name='sarcoma-mlp', val_split=.2, fraction_limit=0.5)"
   ]
  },
  {
   "cell_type": "code",
   "execution_count": 14,
   "metadata": {},
   "outputs": [
    {
     "name": "stderr",
     "output_type": "stream",
     "text": [
      "INFO:plaidml:Opening device \"metal_amd_radeon_pro_560x.0\"\n"
     ]
    }
   ],
   "source": [
    "bestmodel = t.best_model(metric='val_acc')"
   ]
  },
  {
   "cell_type": "code",
   "execution_count": 15,
   "metadata": {},
   "outputs": [
    {
     "name": "stdout",
     "output_type": "stream",
     "text": [
      "_________________________________________________________________\n",
      "Layer (type)                 Output Shape              Param #   \n",
      "=================================================================\n",
      "dense_1 (Dense)              (None, 5000)              103030000 \n",
      "_________________________________________________________________\n",
      "dense_2 (Dense)              (None, 5000)              25005000  \n",
      "_________________________________________________________________\n",
      "dropout_1 (Dropout)          (None, 5000)              0         \n",
      "_________________________________________________________________\n",
      "dense_3 (Dense)              (None, 5000)              25005000  \n",
      "_________________________________________________________________\n",
      "dropout_2 (Dropout)          (None, 5000)              0         \n",
      "_________________________________________________________________\n",
      "dense_4 (Dense)              (None, 6)                 30006     \n",
      "=================================================================\n",
      "Total params: 153,070,006\n",
      "Trainable params: 153,070,006\n",
      "Non-trainable params: 0\n",
      "_________________________________________________________________\n"
     ]
    }
   ],
   "source": [
    "bestmodel.summary()"
   ]
  },
  {
   "cell_type": "code",
   "execution_count": 16,
   "metadata": {},
   "outputs": [
    {
     "data": {
      "text/html": [
       "<div>\n",
       "<style scoped>\n",
       "    .dataframe tbody tr th:only-of-type {\n",
       "        vertical-align: middle;\n",
       "    }\n",
       "\n",
       "    .dataframe tbody tr th {\n",
       "        vertical-align: top;\n",
       "    }\n",
       "\n",
       "    .dataframe thead th {\n",
       "        text-align: right;\n",
       "    }\n",
       "</style>\n",
       "<table border=\"1\" class=\"dataframe\">\n",
       "  <thead>\n",
       "    <tr style=\"text-align: right;\">\n",
       "      <th></th>\n",
       "      <th>round_epochs</th>\n",
       "      <th>val_loss</th>\n",
       "      <th>val_acc</th>\n",
       "      <th>loss</th>\n",
       "      <th>acc</th>\n",
       "      <th>dropout</th>\n",
       "      <th>l1_reg</th>\n",
       "      <th>l2_reg</th>\n",
       "      <th>learning_rate</th>\n",
       "    </tr>\n",
       "  </thead>\n",
       "  <tbody>\n",
       "    <tr>\n",
       "      <th>0</th>\n",
       "      <td>10</td>\n",
       "      <td>71.447259</td>\n",
       "      <td>0.848485</td>\n",
       "      <td>70.890496</td>\n",
       "      <td>1.000000</td>\n",
       "      <td>0.0</td>\n",
       "      <td>0.0001</td>\n",
       "      <td>0.0010</td>\n",
       "      <td>0.010</td>\n",
       "    </tr>\n",
       "    <tr>\n",
       "      <th>3</th>\n",
       "      <td>10</td>\n",
       "      <td>10.739784</td>\n",
       "      <td>0.848485</td>\n",
       "      <td>10.047701</td>\n",
       "      <td>1.000000</td>\n",
       "      <td>0.2</td>\n",
       "      <td>0.0000</td>\n",
       "      <td>0.0010</td>\n",
       "      <td>0.005</td>\n",
       "    </tr>\n",
       "    <tr>\n",
       "      <th>16</th>\n",
       "      <td>10</td>\n",
       "      <td>61.758084</td>\n",
       "      <td>0.848485</td>\n",
       "      <td>61.251933</td>\n",
       "      <td>0.961832</td>\n",
       "      <td>0.5</td>\n",
       "      <td>0.0001</td>\n",
       "      <td>0.0000</td>\n",
       "      <td>0.005</td>\n",
       "    </tr>\n",
       "    <tr>\n",
       "      <th>8</th>\n",
       "      <td>10</td>\n",
       "      <td>62.632102</td>\n",
       "      <td>0.848485</td>\n",
       "      <td>62.009417</td>\n",
       "      <td>1.000000</td>\n",
       "      <td>0.0</td>\n",
       "      <td>0.0001</td>\n",
       "      <td>0.0001</td>\n",
       "      <td>0.010</td>\n",
       "    </tr>\n",
       "    <tr>\n",
       "      <th>2</th>\n",
       "      <td>10</td>\n",
       "      <td>62.735926</td>\n",
       "      <td>0.818182</td>\n",
       "      <td>62.199835</td>\n",
       "      <td>1.000000</td>\n",
       "      <td>0.5</td>\n",
       "      <td>0.0001</td>\n",
       "      <td>0.0001</td>\n",
       "      <td>0.005</td>\n",
       "    </tr>\n",
       "    <tr>\n",
       "      <th>4</th>\n",
       "      <td>10</td>\n",
       "      <td>1.717382</td>\n",
       "      <td>0.818182</td>\n",
       "      <td>1.022391</td>\n",
       "      <td>1.000000</td>\n",
       "      <td>0.2</td>\n",
       "      <td>0.0000</td>\n",
       "      <td>0.0001</td>\n",
       "      <td>0.010</td>\n",
       "    </tr>\n",
       "    <tr>\n",
       "      <th>6</th>\n",
       "      <td>10</td>\n",
       "      <td>10.677575</td>\n",
       "      <td>0.818182</td>\n",
       "      <td>10.027064</td>\n",
       "      <td>1.000000</td>\n",
       "      <td>0.0</td>\n",
       "      <td>0.0000</td>\n",
       "      <td>0.0010</td>\n",
       "      <td>0.005</td>\n",
       "    </tr>\n",
       "    <tr>\n",
       "      <th>7</th>\n",
       "      <td>10</td>\n",
       "      <td>1.615484</td>\n",
       "      <td>0.818182</td>\n",
       "      <td>1.013629</td>\n",
       "      <td>1.000000</td>\n",
       "      <td>0.0</td>\n",
       "      <td>0.0000</td>\n",
       "      <td>0.0001</td>\n",
       "      <td>0.010</td>\n",
       "    </tr>\n",
       "    <tr>\n",
       "      <th>1</th>\n",
       "      <td>10</td>\n",
       "      <td>0.632082</td>\n",
       "      <td>0.818182</td>\n",
       "      <td>0.025548</td>\n",
       "      <td>1.000000</td>\n",
       "      <td>0.5</td>\n",
       "      <td>0.0000</td>\n",
       "      <td>0.0000</td>\n",
       "      <td>0.010</td>\n",
       "    </tr>\n",
       "    <tr>\n",
       "      <th>12</th>\n",
       "      <td>10</td>\n",
       "      <td>61.712055</td>\n",
       "      <td>0.787879</td>\n",
       "      <td>61.024607</td>\n",
       "      <td>1.000000</td>\n",
       "      <td>0.0</td>\n",
       "      <td>0.0001</td>\n",
       "      <td>0.0000</td>\n",
       "      <td>0.010</td>\n",
       "    </tr>\n",
       "    <tr>\n",
       "      <th>14</th>\n",
       "      <td>10</td>\n",
       "      <td>71.503281</td>\n",
       "      <td>0.787879</td>\n",
       "      <td>70.906019</td>\n",
       "      <td>1.000000</td>\n",
       "      <td>0.5</td>\n",
       "      <td>0.0001</td>\n",
       "      <td>0.0010</td>\n",
       "      <td>0.010</td>\n",
       "    </tr>\n",
       "    <tr>\n",
       "      <th>13</th>\n",
       "      <td>10</td>\n",
       "      <td>61.675547</td>\n",
       "      <td>0.787879</td>\n",
       "      <td>61.033278</td>\n",
       "      <td>1.000000</td>\n",
       "      <td>0.2</td>\n",
       "      <td>0.0001</td>\n",
       "      <td>0.0000</td>\n",
       "      <td>0.010</td>\n",
       "    </tr>\n",
       "    <tr>\n",
       "      <th>17</th>\n",
       "      <td>10</td>\n",
       "      <td>0.731218</td>\n",
       "      <td>0.787879</td>\n",
       "      <td>0.049254</td>\n",
       "      <td>1.000000</td>\n",
       "      <td>0.2</td>\n",
       "      <td>0.0000</td>\n",
       "      <td>0.0000</td>\n",
       "      <td>0.005</td>\n",
       "    </tr>\n",
       "    <tr>\n",
       "      <th>5</th>\n",
       "      <td>10</td>\n",
       "      <td>61.621348</td>\n",
       "      <td>0.787879</td>\n",
       "      <td>61.042366</td>\n",
       "      <td>1.000000</td>\n",
       "      <td>0.5</td>\n",
       "      <td>0.0001</td>\n",
       "      <td>0.0000</td>\n",
       "      <td>0.010</td>\n",
       "    </tr>\n",
       "    <tr>\n",
       "      <th>10</th>\n",
       "      <td>10</td>\n",
       "      <td>1.724764</td>\n",
       "      <td>0.757576</td>\n",
       "      <td>1.050611</td>\n",
       "      <td>1.000000</td>\n",
       "      <td>0.2</td>\n",
       "      <td>0.0000</td>\n",
       "      <td>0.0001</td>\n",
       "      <td>0.005</td>\n",
       "    </tr>\n",
       "    <tr>\n",
       "      <th>15</th>\n",
       "      <td>10</td>\n",
       "      <td>71.675870</td>\n",
       "      <td>0.757576</td>\n",
       "      <td>71.130289</td>\n",
       "      <td>1.000000</td>\n",
       "      <td>0.5</td>\n",
       "      <td>0.0001</td>\n",
       "      <td>0.0010</td>\n",
       "      <td>0.005</td>\n",
       "    </tr>\n",
       "    <tr>\n",
       "      <th>11</th>\n",
       "      <td>10</td>\n",
       "      <td>61.853295</td>\n",
       "      <td>0.727273</td>\n",
       "      <td>61.159962</td>\n",
       "      <td>1.000000</td>\n",
       "      <td>0.0</td>\n",
       "      <td>0.0001</td>\n",
       "      <td>0.0000</td>\n",
       "      <td>0.005</td>\n",
       "    </tr>\n",
       "    <tr>\n",
       "      <th>9</th>\n",
       "      <td>10</td>\n",
       "      <td>3.462275</td>\n",
       "      <td>0.484848</td>\n",
       "      <td>1.048797</td>\n",
       "      <td>0.992366</td>\n",
       "      <td>0.5</td>\n",
       "      <td>0.0000</td>\n",
       "      <td>0.0001</td>\n",
       "      <td>0.010</td>\n",
       "    </tr>\n",
       "  </tbody>\n",
       "</table>\n",
       "</div>"
      ],
      "text/plain": [
       "    round_epochs   val_loss   val_acc       loss       acc  dropout  l1_reg  \\\n",
       "0             10  71.447259  0.848485  70.890496  1.000000      0.0  0.0001   \n",
       "3             10  10.739784  0.848485  10.047701  1.000000      0.2  0.0000   \n",
       "16            10  61.758084  0.848485  61.251933  0.961832      0.5  0.0001   \n",
       "8             10  62.632102  0.848485  62.009417  1.000000      0.0  0.0001   \n",
       "2             10  62.735926  0.818182  62.199835  1.000000      0.5  0.0001   \n",
       "4             10   1.717382  0.818182   1.022391  1.000000      0.2  0.0000   \n",
       "6             10  10.677575  0.818182  10.027064  1.000000      0.0  0.0000   \n",
       "7             10   1.615484  0.818182   1.013629  1.000000      0.0  0.0000   \n",
       "1             10   0.632082  0.818182   0.025548  1.000000      0.5  0.0000   \n",
       "12            10  61.712055  0.787879  61.024607  1.000000      0.0  0.0001   \n",
       "14            10  71.503281  0.787879  70.906019  1.000000      0.5  0.0001   \n",
       "13            10  61.675547  0.787879  61.033278  1.000000      0.2  0.0001   \n",
       "17            10   0.731218  0.787879   0.049254  1.000000      0.2  0.0000   \n",
       "5             10  61.621348  0.787879  61.042366  1.000000      0.5  0.0001   \n",
       "10            10   1.724764  0.757576   1.050611  1.000000      0.2  0.0000   \n",
       "15            10  71.675870  0.757576  71.130289  1.000000      0.5  0.0001   \n",
       "11            10  61.853295  0.727273  61.159962  1.000000      0.0  0.0001   \n",
       "9             10   3.462275  0.484848   1.048797  0.992366      0.5  0.0000   \n",
       "\n",
       "    l2_reg  learning_rate  \n",
       "0   0.0010          0.010  \n",
       "3   0.0010          0.005  \n",
       "16  0.0000          0.005  \n",
       "8   0.0001          0.010  \n",
       "2   0.0001          0.005  \n",
       "4   0.0001          0.010  \n",
       "6   0.0010          0.005  \n",
       "7   0.0001          0.010  \n",
       "1   0.0000          0.010  \n",
       "12  0.0000          0.010  \n",
       "14  0.0010          0.010  \n",
       "13  0.0000          0.010  \n",
       "17  0.0000          0.005  \n",
       "5   0.0000          0.010  \n",
       "10  0.0001          0.005  \n",
       "15  0.0010          0.005  \n",
       "11  0.0000          0.005  \n",
       "9   0.0001          0.010  "
      ]
     },
     "execution_count": 16,
     "metadata": {},
     "output_type": "execute_result"
    }
   ],
   "source": [
    "t.data.sort_values('val_acc', ascending=False)"
   ]
  },
  {
   "cell_type": "code",
   "execution_count": 17,
   "metadata": {},
   "outputs": [
    {
     "data": {
      "image/png": "[encoded data removed]",
      "text/plain": [
       "<Figure size 576x576 with 2 Axes>"
      ]
     },
     "metadata": {},
     "output_type": "display_data"
    }
   ],
   "source": [
    "a = ta.Analyze(t)\n",
    "a.plot_corr('val_acc', ['loss', 'acc', 'precision', 'recall', 'f1score',\n",
    "                            'val_loss', 'val_acc', 'val_precision', 'val_recall'])"
   ]
  },
  {
   "cell_type": "code",
   "execution_count": 19,
   "metadata": {},
   "outputs": [
    {
     "name": "stdout",
     "output_type": "stream",
     "text": [
      "42/42 [==============================] - 2s 38ms/step\n",
      "test loss: 71.53\n",
      "test accuracy: 0.79\n",
      "\n"
     ]
    }
   ],
   "source": [
    "#  \n",
    "sgd=optimizers.SGD(lr=0.01)\n",
    "bestmodel.compile(loss='categorical_crossentropy', optimizer=sgd, metrics=['accuracy'])\n",
    "\n",
    "print(\"\"\"test loss: %.2f\n",
    "test accuracy: %.2f\n",
    "\"\"\" % tuple(bestmodel.evaluate(X_test, y_test)))"
   ]
  },
  {
   "cell_type": "code",
   "execution_count": 20,
   "metadata": {},
   "outputs": [
    {
     "name": "stdout",
     "output_type": "stream",
     "text": [
      "              precision    recall  f1-score   support\n",
      "\n",
      "     Class 0       0.29      1.00      0.44         2\n",
      "     Class 1       0.00      0.00      0.00         4\n",
      "     Class 2       0.50      0.67      0.57         9\n",
      "     Class 3       1.00      1.00      1.00        10\n",
      "     Class 4       1.00      0.81      0.90        16\n",
      "     Class 5       0.00      0.00      0.00         1\n",
      "\n",
      "    accuracy                           0.74        42\n",
      "   macro avg       0.46      0.58      0.49        42\n",
      "weighted avg       0.74      0.74      0.72        42\n",
      "\n"
     ]
    }
   ],
   "source": [
    "predicted_classes = bestmodel.predict(X_test)\n",
    "predicted_classes = np.argmax(np.round(predicted_classes),axis=1)\n",
    "from sklearn.metrics import classification_report\n",
    "target_names = [\"Class {}\".format(i) for i in range(6)]\n",
    "y_test_classes = np.argmax(y_test, axis=-1)\n",
    "print(classification_report(y_test_classes, predicted_classes, target_names=target_names))"
   ]
  },
  {
   "cell_type": "code",
   "execution_count": 21,
   "metadata": {},
   "outputs": [
    {
     "data": {
      "text/plain": [
       "array([[ 2,  0,  0,  0,  0,  0],\n",
       "       [ 1,  0,  3,  0,  0,  0],\n",
       "       [ 3,  0,  6,  0,  0,  0],\n",
       "       [ 0,  0,  0, 10,  0,  0],\n",
       "       [ 0,  0,  3,  0, 13,  0],\n",
       "       [ 1,  0,  0,  0,  0,  0]])"
      ]
     },
     "execution_count": 21,
     "metadata": {},
     "output_type": "execute_result"
    }
   ],
   "source": [
    "from sklearn.metrics import confusion_matrix\n",
    "confusion_matrix(y_test_classes, predicted_classes)"
   ]
  },
  {
   "cell_type": "code",
   "execution_count": null,
   "metadata": {},
   "outputs": [],
   "source": []
  }
 ],
 "metadata": {
  "kernelspec": {
   "display_name": "Python 3",
   "language": "python",
   "name": "python3"
  },
  "language_info": {
   "codemirror_mode": {
    "name": "ipython",
    "version": 3
   },
   "file_extension": ".py",
   "mimetype": "text/x-python",
   "name": "python",
   "nbconvert_exporter": "python",
   "pygments_lexer": "ipython3",
   "version": "3.7.3"
  }
 },
 "nbformat": 4,
 "nbformat_minor": 2
}
