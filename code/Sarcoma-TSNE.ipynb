{
 "cells": [
  {
   "cell_type": "code",
   "execution_count": 4,
   "metadata": {},
   "outputs": [
    {
     "data": {
      "text/plain": [
       "(206, 20605)"
      ]
     },
     "execution_count": 4,
     "metadata": {},
     "output_type": "execute_result"
    }
   ],
   "source": [
    "import numpy as np\n",
    "import pandas as pd\n",
    "\n",
    "# load the sarcoma transcriptome data\n",
    "sarcoma_df = pd.read_csv('../Data/sarcoma-gene-exp-FPKM-zscore-no-label.csv')\n",
    "sarcoma_df.shape"
   ]
  },
  {
   "cell_type": "code",
   "execution_count": 5,
   "metadata": {},
   "outputs": [
    {
     "data": {
      "text/plain": [
       "(206, 1)"
      ]
     },
     "execution_count": 5,
     "metadata": {},
     "output_type": "execute_result"
    }
   ],
   "source": [
    "sarcoma_labels_df = pd.read_csv('../Data/sarcoma-gene-exp-FPKM-labels-only.csv')\n",
    "sarcoma_labels_df.shape"
   ]
  },
  {
   "cell_type": "code",
   "execution_count": 6,
   "metadata": {},
   "outputs": [
    {
     "name": "stdout",
     "output_type": "stream",
     "text": [
      "[[-0.51154087  0.09480786 -0.35176093 ...  0.51624723  0.02346097\n",
      "   2.48359169]\n",
      " [-0.19129576  0.15347405  0.20261954 ... -0.41028013  2.86123234\n",
      "   0.16777757]\n",
      " [ 0.26472818  2.327348   -0.56049386 ... -0.21651268  0.0192731\n",
      "   0.76332633]\n",
      " ...\n",
      " [ 0.24931652 -0.03363532 -0.97441342 ... -0.50605902 -1.23871739\n",
      "   0.28153212]\n",
      " [ 0.2581943  -0.8373263  -0.19647611 ... -0.29302061 -0.78367962\n",
      "  -0.7597076 ]\n",
      " [-0.07085013 -0.29522455 -0.59015045 ... -0.50644652 -0.01137879\n",
      "  -0.39862195]]\n"
     ]
    }
   ],
   "source": [
    "# Convert transriptome df to np array\n",
    "X = sarcoma_df.to_numpy()\n",
    "print(X)"
   ]
  },
  {
   "cell_type": "code",
   "execution_count": 7,
   "metadata": {},
   "outputs": [
    {
     "name": "stdout",
     "output_type": "stream",
     "text": [
      "[4 2 2 1 5 3 2 4 4 3 4 4 4 3 0 3 1 4 2 4 4 0 2 4 3 3 3 2 0 4 4 5 3 3 2 4 4\n",
      " 5 4 3 4 4 5 4 2 4 4 4 1 4 1 4 4 2 4 3 3 2 2 4 4 4 4 4 4 4 2 2 3 4 2 3 4 4\n",
      " 3 4 3 2 4 3 2 3 4 4 3 4 3 4 3 4 4 1 3 4 4 4 0 4 3 4 3 3 3 5 2 0 3 3 1 1 4\n",
      " 2 3 0 3 4 2 4 2 0 3 4 4 3 2 2 1 3 4 4 4 4 4 3 2 4 2 4 1 0 2 2 3 4 4 2 3 4\n",
      " 4 3 1 3 4 3 4 2 2 1 3 2 2 0 4 2 1 4 2 1 4 3 3 4 2 4 2 4 3 4 2 1 3 4 2 4 4\n",
      " 2 2 3 4 4 4 3 2 4 1 1 2 3 0 3 3 2 2 3 1 2]\n"
     ]
    }
   ],
   "source": [
    "# Convert label df to np array\n",
    "y_df = sarcoma_labels_df['label']\n",
    "y = y_df.to_numpy()\n",
    "print(y)"
   ]
  },
  {
   "cell_type": "code",
   "execution_count": 8,
   "metadata": {},
   "outputs": [
    {
     "data": {
      "text/plain": [
       "(206, 2)"
      ]
     },
     "execution_count": 8,
     "metadata": {},
     "output_type": "execute_result"
    }
   ],
   "source": [
    "# For t-SNE analysis a perplexity of 60 and an angle of 0.5 (default - used with Barnes-Hut T-SNE) were used. \n",
    "from sklearn.manifold import TSNE\n",
    "X_embedded = TSNE(n_components=2, perplexity=60, angle=0.5).fit_transform(X)\n",
    "# X_embedded = TSNE(n_components=200, perplexity=60, method=\"exact\").fit_transform(X)\n",
    "X_embedded.shape"
   ]
  },
  {
   "cell_type": "code",
   "execution_count": 9,
   "metadata": {},
   "outputs": [
    {
     "data": {
      "text/html": [
       "<div>\n",
       "<style scoped>\n",
       "    .dataframe tbody tr th:only-of-type {\n",
       "        vertical-align: middle;\n",
       "    }\n",
       "\n",
       "    .dataframe tbody tr th {\n",
       "        vertical-align: top;\n",
       "    }\n",
       "\n",
       "    .dataframe thead th {\n",
       "        text-align: right;\n",
       "    }\n",
       "</style>\n",
       "<table border=\"1\" class=\"dataframe\">\n",
       "  <thead>\n",
       "    <tr style=\"text-align: right;\">\n",
       "      <th></th>\n",
       "      <th>comp1</th>\n",
       "      <th>comp2</th>\n",
       "      <th>label</th>\n",
       "    </tr>\n",
       "  </thead>\n",
       "  <tbody>\n",
       "    <tr>\n",
       "      <th>0</th>\n",
       "      <td>-2.044162</td>\n",
       "      <td>-0.698508</td>\n",
       "      <td>4</td>\n",
       "    </tr>\n",
       "    <tr>\n",
       "      <th>1</th>\n",
       "      <td>2.707274</td>\n",
       "      <td>-3.209725</td>\n",
       "      <td>2</td>\n",
       "    </tr>\n",
       "    <tr>\n",
       "      <th>2</th>\n",
       "      <td>4.010680</td>\n",
       "      <td>-3.049489</td>\n",
       "      <td>2</td>\n",
       "    </tr>\n",
       "    <tr>\n",
       "      <th>3</th>\n",
       "      <td>2.111965</td>\n",
       "      <td>1.105205</td>\n",
       "      <td>1</td>\n",
       "    </tr>\n",
       "    <tr>\n",
       "      <th>4</th>\n",
       "      <td>0.714024</td>\n",
       "      <td>-4.678055</td>\n",
       "      <td>5</td>\n",
       "    </tr>\n",
       "    <tr>\n",
       "      <th>...</th>\n",
       "      <td>...</td>\n",
       "      <td>...</td>\n",
       "      <td>...</td>\n",
       "    </tr>\n",
       "    <tr>\n",
       "      <th>201</th>\n",
       "      <td>2.794348</td>\n",
       "      <td>-1.708138</td>\n",
       "      <td>2</td>\n",
       "    </tr>\n",
       "    <tr>\n",
       "      <th>202</th>\n",
       "      <td>3.306505</td>\n",
       "      <td>-1.784921</td>\n",
       "      <td>2</td>\n",
       "    </tr>\n",
       "    <tr>\n",
       "      <th>203</th>\n",
       "      <td>6.430726</td>\n",
       "      <td>-1.510255</td>\n",
       "      <td>3</td>\n",
       "    </tr>\n",
       "    <tr>\n",
       "      <th>204</th>\n",
       "      <td>2.738297</td>\n",
       "      <td>0.816103</td>\n",
       "      <td>1</td>\n",
       "    </tr>\n",
       "    <tr>\n",
       "      <th>205</th>\n",
       "      <td>2.280553</td>\n",
       "      <td>-1.646911</td>\n",
       "      <td>2</td>\n",
       "    </tr>\n",
       "  </tbody>\n",
       "</table>\n",
       "<p>206 rows × 3 columns</p>\n",
       "</div>"
      ],
      "text/plain": [
       "        comp1     comp2  label\n",
       "0   -2.044162 -0.698508      4\n",
       "1    2.707274 -3.209725      2\n",
       "2    4.010680 -3.049489      2\n",
       "3    2.111965  1.105205      1\n",
       "4    0.714024 -4.678055      5\n",
       "..        ...       ...    ...\n",
       "201  2.794348 -1.708138      2\n",
       "202  3.306505 -1.784921      2\n",
       "203  6.430726 -1.510255      3\n",
       "204  2.738297  0.816103      1\n",
       "205  2.280553 -1.646911      2\n",
       "\n",
       "[206 rows x 3 columns]"
      ]
     },
     "execution_count": 9,
     "metadata": {},
     "output_type": "execute_result"
    }
   ],
   "source": [
    "# concatenate the components with the label and then get the mean of each component grouped by label\n",
    "sarcoma_tsne_df = pd.DataFrame(X_embedded) \n",
    "components_labels_df = pd.merge(sarcoma_tsne_df, sarcoma_labels_df, right_index=True, left_index=True)\n",
    "components_labels_df.columns = ['comp1','comp2','label']\n",
    "components_labels_df"
   ]
  },
  {
   "cell_type": "code",
   "execution_count": 10,
   "metadata": {},
   "outputs": [
    {
     "data": {
      "text/plain": [
       "<bound method NDFrame.head of      label short histo\n",
       "0        4         LMS\n",
       "1        2         UPS\n",
       "2        2         UPS\n",
       "3        1         MFS\n",
       "4        5       MPNST\n",
       "..     ...         ...\n",
       "201      2         UPS\n",
       "202      2         UPS\n",
       "203      3       DDLPS\n",
       "204      1         MFS\n",
       "205      2         UPS\n",
       "\n",
       "[206 rows x 2 columns]>"
      ]
     },
     "execution_count": 10,
     "metadata": {},
     "output_type": "execute_result"
    }
   ],
   "source": [
    "sarcoma_histo_df = pd.read_csv('../Data/sarcoma-gene-exp-FPKM-labels-histo.csv')\n",
    "sarcoma_histo_df.head"
   ]
  },
  {
   "cell_type": "code",
   "execution_count": 11,
   "metadata": {},
   "outputs": [
    {
     "name": "stdout",
     "output_type": "stream",
     "text": [
      "        comp1     comp2  label short histo\n",
      "0   -2.044162 -0.698508      4         LMS\n",
      "1    2.707274 -3.209725      2         UPS\n",
      "2    4.010680 -3.049489      2         UPS\n",
      "3    2.111965  1.105205      1         MFS\n",
      "4    0.714024 -4.678055      5       MPNST\n",
      "..        ...       ...    ...         ...\n",
      "201  2.794348 -1.708138      2         UPS\n",
      "202  3.306505 -1.784921      2         UPS\n",
      "203  6.430726 -1.510255      3       DDLPS\n",
      "204  2.738297  0.816103      1         MFS\n",
      "205  2.280553 -1.646911      2         UPS\n",
      "\n",
      "[206 rows x 4 columns]\n"
     ]
    }
   ],
   "source": [
    "df = pd.concat([components_labels_df, sarcoma_histo_df['short histo']], axis=1)\n",
    "print(df)"
   ]
  },
  {
   "cell_type": "code",
   "execution_count": 15,
   "metadata": {},
   "outputs": [
    {
     "name": "stdout",
     "output_type": "stream",
     "text": [
      "short histo\n",
      "DDLPS    3.712120\n",
      "LMS     -1.282786\n",
      "MFS      3.261610\n",
      "MPNST    0.202957\n",
      "SS       3.032709\n",
      "UPS      3.341476\n",
      "Name: comp1, dtype: float32\n",
      "short histo\n",
      "DDLPS    0.154690\n",
      "LMS     -0.475945\n",
      "MFS     -1.011569\n",
      "MPNST    0.729395\n",
      "SS       4.155985\n",
      "UPS     -1.180273\n",
      "Name: comp2, dtype: float32\n"
     ]
    }
   ],
   "source": [
    "# groupby the label and take the mean of each component\n",
    "grouped_labels = df.groupby('short histo')   \n",
    "\n",
    "comp1_label_mean = grouped_labels['comp1'].mean()\n",
    "comp2_label_mean = grouped_labels['comp2'].mean()\n",
    "\n",
    "#comp1_mean = grouped_labels['comp1'].mean().reset_index\n",
    "#comp2_mean = grouped_labels['comp2'].mean().reset_index\n",
    "\n",
    "\n",
    "print(comp1_label_mean)\n",
    "print(comp2_label_mean)"
   ]
  },
  {
   "cell_type": "code",
   "execution_count": 19,
   "metadata": {},
   "outputs": [
    {
     "data": {
      "image/png": "[encoded data removed]",
      "text/plain": [
       "<Figure size 432x288 with 1 Axes>"
      ]
     },
     "metadata": {
      "needs_background": "light"
     },
     "output_type": "display_data"
    }
   ],
   "source": [
    "# plot the groupings\n",
    "import matplotlib.pyplot as plt\n",
    "plt.plot(comp2_label_mean, comp1_label_mean, 'ro')\n",
    "plt.ylabel('comp1')\n",
    "plt.xlabel('comp2')\n",
    " \n",
    "plt.show()"
   ]
  },
  {
   "cell_type": "code",
   "execution_count": 27,
   "metadata": {},
   "outputs": [],
   "source": [
    "dfm = df.groupby('short histo').mean()"
   ]
  },
  {
   "cell_type": "code",
   "execution_count": 29,
   "metadata": {},
   "outputs": [
    {
     "name": "stdout",
     "output_type": "stream",
     "text": [
      "comp1\n",
      "comp2\n",
      "label\n"
     ]
    }
   ],
   "source": [
    "for r in dfm:\n",
    "    print(r)"
   ]
  },
  {
   "cell_type": "code",
   "execution_count": 31,
   "metadata": {},
   "outputs": [
    {
     "data": {
      "image/png": "[encoded data removed]",
      "text/plain": [
       "<Figure size 432x288 with 1 Axes>"
      ]
     },
     "metadata": {
      "needs_background": "light"
     },
     "output_type": "display_data"
    }
   ],
   "source": [
    "# figure out how to add types to each point\n",
    "import matplotlib.pyplot as plt\n",
    "plt.plot(comp2_label_mean, comp1_label_mean, 'ro')\n",
    "plt.ylabel('comp1')\n",
    "plt.xlabel('comp2')\n",
    "# zip joins x and y coordinates in pairs\n",
    "for label, row in df.groupby('short histo').mean().iterrows():\n",
    "\n",
    "    plt.annotate(label, # this is the text\n",
    "                 (row['comp2'],row['comp1']), # this is the point to label\n",
    "                 textcoords=\"offset points\", # how to position the text\n",
    "                 xytext=(0,10), # distance from text to points (x,y)\n",
    "                 ha='center') # horizontal alignment can be left, right or center\n",
    "\n",
    "plt.show()"
   ]
  },
  {
   "cell_type": "code",
   "execution_count": 11,
   "metadata": {},
   "outputs": [],
   "source": [
    "components_labels_df.to_csv(\"../Data/sarcoma-gene-exp-FPKM-tsne2.csv\", index=False)"
   ]
  },
  {
   "cell_type": "code",
   "execution_count": null,
   "metadata": {},
   "outputs": [],
   "source": []
  }
 ],
 "metadata": {
  "kernelspec": {
   "display_name": "Python 3",
   "language": "python",
   "name": "python3"
  },
  "language_info": {
   "codemirror_mode": {
    "name": "ipython",
    "version": 3
   },
   "file_extension": ".py",
   "mimetype": "text/x-python",
   "name": "python",
   "nbconvert_exporter": "python",
   "pygments_lexer": "ipython3",
   "version": "3.7.3"
  }
 },
 "nbformat": 4,
 "nbformat_minor": 2
}
