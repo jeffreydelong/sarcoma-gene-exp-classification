{
 "cells": [
  {
   "cell_type": "code",
   "execution_count": 1,
   "metadata": {},
   "outputs": [
    {
     "data": {
      "text/plain": [
       "(206, 20605)"
      ]
     },
     "execution_count": 1,
     "metadata": {},
     "output_type": "execute_result"
    }
   ],
   "source": [
    "import numpy as np\n",
    "import pandas as pd\n",
    "\n",
    "# load the sarcoma transcriptome data\n",
    "sarcoma_df = pd.read_csv('../Data/sarcoma-gene-exp-FPKM-zscore-no-label.csv')\n",
    "sarcoma_df.shape"
   ]
  },
  {
   "cell_type": "code",
   "execution_count": 2,
   "metadata": {},
   "outputs": [
    {
     "data": {
      "text/plain": [
       "(206, 2)"
      ]
     },
     "execution_count": 2,
     "metadata": {},
     "output_type": "execute_result"
    }
   ],
   "source": [
    "sarcoma_labels_df = pd.read_csv('../Data/sarcoma-gene-exp-FPKM-labels-histo.csv')\n",
    "sarcoma_labels_df.shape"
   ]
  },
  {
   "cell_type": "code",
   "execution_count": 3,
   "metadata": {},
   "outputs": [
    {
     "data": {
      "text/plain": [
       "<bound method NDFrame.head of      label short histo\n",
       "0        4         LMS\n",
       "1        2         UPS\n",
       "2        2         UPS\n",
       "3        1         MFS\n",
       "4        5       MPNST\n",
       "..     ...         ...\n",
       "201      2         UPS\n",
       "202      2         UPS\n",
       "203      3       DDLPS\n",
       "204      1         MFS\n",
       "205      2         UPS\n",
       "\n",
       "[206 rows x 2 columns]>"
      ]
     },
     "execution_count": 3,
     "metadata": {},
     "output_type": "execute_result"
    }
   ],
   "source": [
    "sarcoma_labels_df.head"
   ]
  },
  {
   "cell_type": "code",
   "execution_count": 4,
   "metadata": {},
   "outputs": [
    {
     "name": "stdout",
     "output_type": "stream",
     "text": [
      "[[-0.51154087  0.09480786 -0.35176093 ...  0.51624723  0.02346097\n",
      "   2.48359169]\n",
      " [-0.19129576  0.15347405  0.20261954 ... -0.41028013  2.86123234\n",
      "   0.16777757]\n",
      " [ 0.26472818  2.327348   -0.56049386 ... -0.21651268  0.0192731\n",
      "   0.76332633]\n",
      " ...\n",
      " [ 0.24931652 -0.03363532 -0.97441342 ... -0.50605902 -1.23871739\n",
      "   0.28153212]\n",
      " [ 0.2581943  -0.8373263  -0.19647611 ... -0.29302061 -0.78367962\n",
      "  -0.7597076 ]\n",
      " [-0.07085013 -0.29522455 -0.59015045 ... -0.50644652 -0.01137879\n",
      "  -0.39862195]]\n"
     ]
    }
   ],
   "source": [
    "# Convert transriptome df to np array\n",
    "X = sarcoma_df.to_numpy()\n",
    "print(X)"
   ]
  },
  {
   "cell_type": "code",
   "execution_count": 5,
   "metadata": {},
   "outputs": [
    {
     "name": "stdout",
     "output_type": "stream",
     "text": [
      "[4 2 2 1 5 3 2 4 4 3 4 4 4 3 0 3 1 4 2 4 4 0 2 4 3 3 3 2 0 4 4 5 3 3 2 4 4\n",
      " 5 4 3 4 4 5 4 2 4 4 4 1 4 1 4 4 2 4 3 3 2 2 4 4 4 4 4 4 4 2 2 3 4 2 3 4 4\n",
      " 3 4 3 2 4 3 2 3 4 4 3 4 3 4 3 4 4 1 3 4 4 4 0 4 3 4 3 3 3 5 2 0 3 3 1 1 4\n",
      " 2 3 0 3 4 2 4 2 0 3 4 4 3 2 2 1 3 4 4 4 4 4 3 2 4 2 4 1 0 2 2 3 4 4 2 3 4\n",
      " 4 3 1 3 4 3 4 2 2 1 3 2 2 0 4 2 1 4 2 1 4 3 3 4 2 4 2 4 3 4 2 1 3 4 2 4 4\n",
      " 2 2 3 4 4 4 3 2 4 1 1 2 3 0 3 3 2 2 3 1 2]\n"
     ]
    }
   ],
   "source": [
    "# Convert label df to np array\n",
    "y_df = sarcoma_labels_df['label']\n",
    "type_df = sarcoma_labels_df['short histo']\n",
    "y = y_df.to_numpy()\n",
    "types = type_df.to_numpy()\n",
    "print(y)"
   ]
  },
  {
   "cell_type": "code",
   "execution_count": 6,
   "metadata": {},
   "outputs": [
    {
     "name": "stdout",
     "output_type": "stream",
     "text": [
      "-3461747.906506519\n"
     ]
    }
   ],
   "source": [
    "from sklearn.cluster import KMeans\n",
    "\n",
    "# , max_iter=500\n",
    "kmeans = KMeans(n_clusters=6)\n",
    "kmeans.fit(sarcoma_df)\n",
    "labels = kmeans.predict(sarcoma_df)\n",
    "score = kmeans.score(sarcoma_df)\n",
    "print(score)\n",
    "#print(labels)"
   ]
  },
  {
   "cell_type": "code",
   "execution_count": 7,
   "metadata": {},
   "outputs": [
    {
     "data": {
      "text/plain": [
       "3461747.906506518"
      ]
     },
     "execution_count": 7,
     "metadata": {},
     "output_type": "execute_result"
    }
   ],
   "source": [
    "kmeans.inertia_"
   ]
  },
  {
   "cell_type": "code",
   "execution_count": 8,
   "metadata": {},
   "outputs": [
    {
     "name": "stdout",
     "output_type": "stream",
     "text": [
      "cluster  short histo\n",
      "0        LMS            61\n",
      "         UPS             1\n",
      "1        MPNST           2\n",
      "2        DDLPS          12\n",
      "         LMS             7\n",
      "         MFS             7\n",
      "         MPNST           3\n",
      "         UPS            11\n",
      "3        DDLPS           9\n",
      "         LMS             4\n",
      "         MFS             4\n",
      "         UPS            15\n",
      "4        SS             10\n",
      "5        DDLPS          29\n",
      "         LMS             8\n",
      "         MFS             6\n",
      "         UPS            17\n",
      "dtype: int64\n"
     ]
    }
   ],
   "source": [
    "from pandas import DataFrame\n",
    "\n",
    "cluster_labels_df = DataFrame(data=labels)\n",
    "cluster_labels_df.columns = [\"cluster\"]\n",
    "# cluster_labels_df.head\n",
    "cluster_df = pd.concat([cluster_labels_df, type_df], axis=1)\n",
    "#cluster_df.head\n",
    "results = cluster_df.groupby([\"cluster\", 'short histo']).size()\n",
    "print(results)"
   ]
  },
  {
   "cell_type": "code",
   "execution_count": 10,
   "metadata": {},
   "outputs": [],
   "source": [
    "# create dataframe from Kmeans cluster array\n",
    "sarcoma_kmeans_df = pd.DataFrame(results)   \n",
    "# write sarcoma_pca_df to a csv file\n",
    "sarcoma_kmeans_df.to_csv(\"../Data/sarcoma-gene-exp-FPKM-kmeans-histo.csv\", index=True)"
   ]
  },
  {
   "cell_type": "code",
   "execution_count": 11,
   "metadata": {},
   "outputs": [
    {
     "name": "stdout",
     "output_type": "stream",
     "text": [
      "-3721761.841618592\n"
     ]
    }
   ],
   "source": [
    "from sklearn.cluster import KMeans\n",
    "\n",
    "# , max_iter=500\n",
    "kmeans = KMeans(n_clusters=3)\n",
    "kmeans.fit(sarcoma_df)\n",
    "labels = kmeans.predict(sarcoma_df)\n",
    "score = kmeans.score(sarcoma_df)\n",
    "print(score)\n",
    "#print(labels)"
   ]
  },
  {
   "cell_type": "code",
   "execution_count": 12,
   "metadata": {},
   "outputs": [
    {
     "name": "stdout",
     "output_type": "stream",
     "text": [
      "cluster  short histo\n",
      "0        DDLPS          39\n",
      "         LMS            16\n",
      "         MFS            17\n",
      "         MPNST           2\n",
      "         SS              3\n",
      "         UPS            39\n",
      "1        DDLPS          11\n",
      "         LMS             9\n",
      "         MPNST           3\n",
      "         SS              7\n",
      "         UPS             1\n",
      "2        LMS            55\n",
      "         UPS             4\n",
      "dtype: int64\n"
     ]
    }
   ],
   "source": [
    "from pandas import DataFrame\n",
    "\n",
    "cluster_labels_df = DataFrame(data=labels)\n",
    "cluster_labels_df.columns = [\"cluster\"]\n",
    "# cluster_labels_df.head\n",
    "cluster_df = pd.concat([cluster_labels_df, type_df], axis=1)\n",
    "#cluster_df.head\n",
    "results = cluster_df.groupby([\"cluster\", 'short histo']).size()\n",
    "print(results)"
   ]
  },
  {
   "cell_type": "code",
   "execution_count": null,
   "metadata": {},
   "outputs": [],
   "source": []
  }
 ],
 "metadata": {
  "kernelspec": {
   "display_name": "Python 3",
   "language": "python",
   "name": "python3"
  },
  "language_info": {
   "codemirror_mode": {
    "name": "ipython",
    "version": 3
   },
   "file_extension": ".py",
   "mimetype": "text/x-python",
   "name": "python",
   "nbconvert_exporter": "python",
   "pygments_lexer": "ipython3",
   "version": "3.7.3"
  }
 },
 "nbformat": 4,
 "nbformat_minor": 2
}
