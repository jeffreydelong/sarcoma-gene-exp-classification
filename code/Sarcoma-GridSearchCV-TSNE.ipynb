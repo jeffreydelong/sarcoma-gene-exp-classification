{
 "cells": [
  {
   "cell_type": "code",
   "execution_count": 1,
   "metadata": {},
   "outputs": [
    {
     "data": {
      "text/plain": [
       "(206, 3)"
      ]
     },
     "execution_count": 1,
     "metadata": {},
     "output_type": "execute_result"
    }
   ],
   "source": [
    "import numpy as np\n",
    "import pandas as pd\n",
    "import matplotlib.pyplot as plt\n",
    "# load the TSNE model\n",
    "sarcoma_tsne_df = pd.read_csv('../Data/sarcoma-gene-exp-FPKM-tsne2.csv')\n",
    "sarcoma_tsne_df.shape"
   ]
  },
  {
   "cell_type": "code",
   "execution_count": 2,
   "metadata": {},
   "outputs": [
    {
     "name": "stdout",
     "output_type": "stream",
     "text": [
      "[[ 1.5101881   4.495065  ]\n",
      " [-0.3933316  -2.2554176 ]\n",
      " [ 0.52394176 -2.9038317 ]\n",
      " [ 2.4056387   0.77142346]\n",
      " [-2.5902762  -1.8893213 ]\n",
      " [-0.74589753  1.5878414 ]\n",
      " [ 0.8318154  -0.4103697 ]\n",
      " [ 0.34786895 -1.8117441 ]\n",
      " [ 2.3835487   4.318263  ]\n",
      " [-0.3787896  -4.135516  ]\n",
      " [ 3.2163546   5.402535  ]\n",
      " [ 0.5341209   5.0063424 ]\n",
      " [ 0.89254034  4.400904  ]\n",
      " [-1.656523    2.1570492 ]\n",
      " [-3.2748675   2.4115992 ]\n",
      " [ 2.8672967  -3.676628  ]\n",
      " [-1.3153446  -2.1818364 ]\n",
      " [ 1.0054144   4.390404  ]\n",
      " [ 1.8168291   1.1770047 ]\n",
      " [ 0.76507306  6.1616173 ]\n",
      " [-0.49324757  6.2095857 ]\n",
      " [-3.162166    0.24230962]\n",
      " [ 1.5632206  -4.763572  ]\n",
      " [ 1.8031838   6.2502847 ]\n",
      " [ 3.5639775   1.767928  ]\n",
      " [ 2.3249142  -0.15714957]\n",
      " [ 1.7055893  -0.13778462]\n",
      " [ 0.54223424 -3.003455  ]\n",
      " [-1.6626078   0.01909894]\n",
      " [ 3.7204676   1.27804   ]\n",
      " [ 1.3868074   3.1736996 ]\n",
      " [ 4.626502    2.9895117 ]\n",
      " [ 4.696998    2.8944385 ]\n",
      " [ 1.0404147  -1.9515623 ]\n",
      " [ 1.3718221  -2.971115  ]\n",
      " [ 0.6894906   0.0091331 ]\n",
      " [-0.1307336   3.0051074 ]\n",
      " [ 5.049547    2.263709  ]\n",
      " [ 1.3352714   1.7750269 ]\n",
      " [ 1.4816992  -0.7883667 ]\n",
      " [ 1.4545481   4.662686  ]\n",
      " [ 0.4226452   3.014158  ]\n",
      " [ 4.5490437   2.8662355 ]\n",
      " [ 2.2125058   5.7547464 ]\n",
      " [-0.37885958 -4.1601686 ]\n",
      " [ 2.3321443   5.858597  ]\n",
      " [-1.1603732   4.812996  ]\n",
      " [ 1.7759684   6.2963586 ]\n",
      " [-0.888699   -1.167935  ]\n",
      " [-0.09502616  3.3652947 ]\n",
      " [ 2.1118777   0.48901525]\n",
      " [ 1.1477724   4.7958536 ]\n",
      " [ 0.6449028   5.7658772 ]\n",
      " [ 2.5158465   1.0103787 ]\n",
      " [ 1.0227262   3.9552596 ]\n",
      " [ 0.6568303  -0.85841054]\n",
      " [ 2.682119   -0.10533583]\n",
      " [ 0.74031484 -2.2858624 ]\n",
      " [ 2.2808557   1.9986703 ]\n",
      " [ 3.2821474   4.4119973 ]\n",
      " [ 0.50157744  5.471963  ]\n",
      " [ 1.7450765   3.6910849 ]\n",
      " [ 0.57082915 -3.6582186 ]\n",
      " [ 0.13781954  2.9807549 ]\n",
      " [ 1.1946306   1.9013741 ]\n",
      " [ 1.7125676   4.1794176 ]\n",
      " [ 1.5976152  -4.7664027 ]\n",
      " [ 0.5621281  -0.36612472]\n",
      " [ 2.1128943  -1.2529416 ]\n",
      " [-0.31712303  6.1162663 ]\n",
      " [ 1.5999631  -4.574456  ]\n",
      " [ 3.268929   -2.2805533 ]\n",
      " [ 0.25298434  7.0190296 ]\n",
      " [-1.2386158   3.6524582 ]\n",
      " [ 1.415569   -1.9948009 ]\n",
      " [ 0.74852866  4.4513483 ]\n",
      " [ 2.8801239  -0.47517234]\n",
      " [ 1.90242    -4.3635006 ]\n",
      " [-0.47315505  3.5791438 ]\n",
      " [ 1.7406431  -2.6678386 ]\n",
      " [ 2.8828657  -1.191081  ]\n",
      " [ 2.6082125  -0.689917  ]\n",
      " [ 0.5145958  -1.9267303 ]\n",
      " [ 1.7248077   4.874167  ]\n",
      " [ 2.1030462  -4.008344  ]\n",
      " [ 0.6276892   4.4411964 ]\n",
      " [ 2.5545468  -3.0187035 ]\n",
      " [ 1.2548301   6.7241035 ]\n",
      " [ 1.4714354  -1.2873316 ]\n",
      " [ 1.3583132   7.321828  ]\n",
      " [ 1.3843259   3.8232226 ]\n",
      " [-0.39022872 -1.3122697 ]\n",
      " [ 2.5892453  -1.7369263 ]\n",
      " [ 2.0650315   5.131905  ]\n",
      " [ 0.98186725 -0.36487293]\n",
      " [-1.1957767  -3.1686027 ]\n",
      " [-3.0342572   0.195266  ]\n",
      " [ 0.4860978   4.382869  ]\n",
      " [ 2.9817662  -1.9792199 ]\n",
      " [ 0.84623176  1.1616589 ]\n",
      " [ 1.6948582  -0.8538809 ]\n",
      " [ 2.0515318  -2.5742905 ]\n",
      " [ 2.9723444   0.18139704]\n",
      " [ 1.5004882   0.80931765]\n",
      " [ 4.290276   -0.50611466]\n",
      " [-3.2276297   0.50961214]\n",
      " [ 2.1846867  -3.430462  ]\n",
      " [ 3.0711389   0.35441476]\n",
      " [ 2.0053482  -1.3112833 ]\n",
      " [ 0.17116891 -5.029299  ]\n",
      " [ 0.549146    1.560963  ]\n",
      " [-0.5957493  -2.5839539 ]\n",
      " [ 2.0564013  -2.3942108 ]\n",
      " [-3.144166    2.5521624 ]\n",
      " [ 1.5720973  -0.86934096]\n",
      " [ 1.0184284   5.4705715 ]\n",
      " [ 2.0705602  -4.5468125 ]\n",
      " [-0.52004045  4.5660386 ]\n",
      " [ 0.44590837  0.5582292 ]\n",
      " [-3.3345208  -0.6458832 ]\n",
      " [ 2.4140093  -0.48464152]\n",
      " [ 1.8866276   4.821746  ]\n",
      " [-0.13632621 -0.32241765]\n",
      " [ 1.2331368  -0.96999186]\n",
      " [ 4.299138   -3.7580109 ]\n",
      " [ 0.565723    0.58687544]\n",
      " [-1.4147475  -1.300788  ]\n",
      " [ 0.07853472  1.1942072 ]\n",
      " [-0.83255076  5.1230516 ]\n",
      " [ 1.3956877   2.3467476 ]\n",
      " [ 0.43263584  4.8877597 ]\n",
      " [-0.34812182 -2.3943295 ]\n",
      " [ 1.2681471   5.943355  ]\n",
      " [ 2.3394349  -1.528084  ]\n",
      " [ 3.50872    -0.7368707 ]\n",
      " [-0.6441056   3.816753  ]\n",
      " [ 0.7307612  -1.6958597 ]\n",
      " [ 1.553473    5.3304653 ]\n",
      " [ 2.9549346  -0.54617405]\n",
      " [-3.2501926   2.5950353 ]\n",
      " [ 1.0551231  -3.988889  ]\n",
      " [ 3.945444   -1.5319839 ]\n",
      " [ 2.903694    0.21782692]\n",
      " [ 1.0110995   4.9682503 ]\n",
      " [ 2.3415427   5.2711244 ]\n",
      " [ 0.6075407   0.15487911]\n",
      " [ 1.846666   -1.727841  ]\n",
      " [ 1.5543448   4.1156707 ]\n",
      " [ 2.5713115   1.7542486 ]\n",
      " [ 2.0287087  -0.21206222]\n",
      " [ 2.818985    1.0358863 ]\n",
      " [-0.28186235  0.91443074]\n",
      " [ 1.0038652   6.28489   ]\n",
      " [-1.4872589   2.1676972 ]\n",
      " [-1.0255353   6.279741  ]\n",
      " [ 2.7748694  -3.2299855 ]\n",
      " [ 4.77168     3.7795591 ]\n",
      " [ 2.9974906  -1.601844  ]\n",
      " [-1.749897    0.80574375]\n",
      " [-0.43138638  0.39360338]\n",
      " [ 2.3639705   0.5386936 ]\n",
      " [ 5.8858137   0.97702754]\n",
      " [ 5.012361    2.5727065 ]\n",
      " [ 5.0875254  -1.7584722 ]\n",
      " [ 0.28948915 -3.1794043 ]\n",
      " [ 2.4047945   3.1528423 ]\n",
      " [ 3.4185486  -0.74202335]\n",
      " [ 3.957933   -0.10544862]\n",
      " [-1.5274956   4.4807706 ]\n",
      " [-0.34672666 -1.1489608 ]\n",
      " [ 2.0366383  -3.354346  ]\n",
      " [ 1.0316625   4.033948  ]\n",
      " [ 1.9238352   3.6929371 ]\n",
      " [ 0.01704751  3.937228  ]\n",
      " [ 1.1714723  -3.3944504 ]\n",
      " [ 2.933438    2.4843524 ]\n",
      " [-0.08401859  1.8808922 ]\n",
      " [ 1.5062543   3.7723212 ]\n",
      " [ 0.71025753 -0.07983805]\n",
      " [ 4.9329996  -0.8849503 ]\n",
      " [ 3.1520696  -1.3660399 ]\n",
      " [ 1.2958378   6.492259  ]\n",
      " [ 3.7666547  -1.6598166 ]\n",
      " [ 1.6479161   4.6370115 ]\n",
      " [ 1.6029809  -5.278625  ]\n",
      " [ 0.8386327  -0.13097699]\n",
      " [ 4.520005    0.08830188]\n",
      " [-1.949186    2.5065916 ]\n",
      " [ 1.1369393   4.2242217 ]\n",
      " [ 1.1283568   5.716793  ]\n",
      " [ 2.2822027   6.514969  ]\n",
      " [ 1.9202079  -0.48491487]\n",
      " [-0.4789282  -0.8097406 ]\n",
      " [ 3.5731657   3.3985646 ]\n",
      " [ 1.2249261  -4.633853  ]\n",
      " [ 3.7116833  -4.1607757 ]\n",
      " [ 4.105715   -1.8855959 ]\n",
      " [ 4.3375425   0.84707904]\n",
      " [-3.2635074   2.5111766 ]\n",
      " [ 3.9772344  -0.8980852 ]\n",
      " [ 1.9200629  -2.2327592 ]\n",
      " [ 0.5642019  -1.0625061 ]\n",
      " [ 0.78857154 -1.4309651 ]\n",
      " [ 2.3810244  -3.8683481 ]\n",
      " [ 3.3710635  -0.30550724]\n",
      " [ 0.416448   -0.822416  ]]\n"
     ]
    }
   ],
   "source": [
    "# convert df to array\n",
    "X_df = sarcoma_tsne_df.iloc[:, 0:2]\n",
    "X = X_df.to_numpy()\n",
    "print(X)"
   ]
  },
  {
   "cell_type": "code",
   "execution_count": 4,
   "metadata": {},
   "outputs": [
    {
     "data": {
      "text/plain": [
       "(206, 1)"
      ]
     },
     "execution_count": 4,
     "metadata": {},
     "output_type": "execute_result"
    }
   ],
   "source": [
    "# read in labels\n",
    "sarcoma_labels_df = pd.read_csv('../Data/sarcoma-gene-exp-FPKM-labels-only.csv')\n",
    "sarcoma_labels_df.shape"
   ]
  },
  {
   "cell_type": "code",
   "execution_count": 5,
   "metadata": {},
   "outputs": [
    {
     "name": "stdout",
     "output_type": "stream",
     "text": [
      "[4 2 2 1 5 3 2 4 4 3 4 4 4 3 0 3 1 4 2 4 4 0 2 4 3 3 3 2 0 4 4 5 3 3 2 4 4\n",
      " 5 4 3 4 4 5 4 2 4 4 4 1 4 1 4 4 2 4 3 3 2 2 4 4 4 4 4 4 4 2 2 3 4 2 3 4 4\n",
      " 3 4 3 2 4 3 2 3 4 4 3 4 3 4 3 4 4 1 3 4 4 4 0 4 3 4 3 3 3 5 2 0 3 3 1 1 4\n",
      " 2 3 0 3 4 2 4 2 0 3 4 4 3 2 2 1 3 4 4 4 4 4 3 2 4 2 4 1 0 2 2 3 4 4 2 3 4\n",
      " 4 3 1 3 4 3 4 2 2 1 3 2 2 0 4 2 1 4 2 1 4 3 3 4 2 4 2 4 3 4 2 1 3 4 2 4 4\n",
      " 2 2 3 4 4 4 3 2 4 1 1 2 3 0 3 3 2 2 3 1 2]\n"
     ]
    }
   ],
   "source": [
    "y_df = sarcoma_labels_df['label']\n",
    "y = y_df.to_numpy()\n",
    "print(y)"
   ]
  },
  {
   "cell_type": "code",
   "execution_count": 6,
   "metadata": {},
   "outputs": [
    {
     "name": "stdout",
     "output_type": "stream",
     "text": [
      "Frequency of unique values of the said array:\n",
      "[[ 0  1  2  3  4  5]\n",
      " [10 17 44 50 80  5]]\n"
     ]
    }
   ],
   "source": [
    "# Get a count of the unique values in each categories to make sure there are enought to support cross-validation\n",
    "unique_elements, counts_elements = np.unique(y, return_counts=True)\n",
    "print(\"Frequency of unique values of the said array:\")\n",
    "print(np.asarray((unique_elements, counts_elements)))"
   ]
  },
  {
   "cell_type": "code",
   "execution_count": 7,
   "metadata": {},
   "outputs": [],
   "source": [
    "# Use Stratified Kfold split\n",
    "from sklearn.model_selection import StratifiedKFold,train_test_split\n",
    "k_fold = StratifiedKFold(n_splits=4,shuffle=True,random_state=2019)\n",
    "# Split training and test data\n",
    "X_train, X_test, y_train, y_test = train_test_split(X, y, test_size=0.25, random_state=2018, stratify=y)\n",
    "# Create k folds with trainng data\n",
    "for train_index, cv_index in k_fold.split(np.zeros(len(X_train)), y_train.ravel()):\n",
    "    X_train_fold, X_cv_fold = X_train[train_index,:], X_train[cv_index,:]\n",
    "    y_train_fold, y_cv_fold = y_train[train_index], y_train[cv_index]"
   ]
  },
  {
   "cell_type": "code",
   "execution_count": 8,
   "metadata": {},
   "outputs": [
    {
     "name": "stdout",
     "output_type": "stream",
     "text": [
      "1.0\n",
      "0.6585365853658537\n",
      "1.0\n",
      "0.6052631578947368\n",
      "1.0\n",
      "0.7105263157894737\n",
      "1.0\n",
      "0.7027027027027027\n",
      "0.6923076923076923\n"
     ]
    }
   ],
   "source": [
    "# KNN Classifier\n",
    "from sklearn.neighbors import KNeighborsClassifier\n",
    "\n",
    "# instantiate the model\n",
    "neigh = KNeighborsClassifier(n_neighbors=7)\n",
    "for train_index, cv_index in k_fold.split(np.zeros(len(X_train)), y_train.ravel()):\n",
    "    X_train_fold, X_cv_fold = X_train[train_index,:], X_train[cv_index,:]\n",
    "    y_train_fold, y_cv_fold = y_train[train_index], y_train[cv_index]\n",
    "    #print(y_train_fold)\n",
    "    neigh.fit(X_train_fold, y_train_fold) \n",
    "    # model evaluation for training set\n",
    "    y_train_pred = neigh.predict(X_train_fold)\n",
    "    y_test_pred = neigh.predict(X_cv_fold)\n",
    "    # record training set accuracy\n",
    "    print(neigh.score(X_train_fold, y_train_pred))\n",
    "    # record generalization accuracy\n",
    "    print(neigh.score(X_cv_fold, y_cv_fold))\n",
    "print(neigh.score(X_test, y_test))"
   ]
  },
  {
   "cell_type": "code",
   "execution_count": 9,
   "metadata": {},
   "outputs": [
    {
     "name": "stdout",
     "output_type": "stream",
     "text": [
      "0.7079646017699115\n",
      "0.6097560975609756\n",
      "0.6724137931034483\n",
      "0.7105263157894737\n",
      "0.6724137931034483\n",
      "0.7105263157894737\n",
      "0.6752136752136753\n",
      "0.7027027027027027\n",
      "0.6538461538461539\n"
     ]
    }
   ],
   "source": [
    "# SVM Classifier\n",
    "from sklearn.svm import SVC\n",
    "\n",
    "svc = SVC(kernel='rbf', gamma='scale', C=1.0)\n",
    "for train_index, cv_index in k_fold.split(np.zeros(len(X_train)), y_train.ravel()):\n",
    "    X_train_fold, X_cv_fold = X_train[train_index,:], X_train[cv_index,:]\n",
    "    y_train_fold, y_cv_fold = y_train[train_index], y_train[cv_index]\n",
    "    svc.fit(X_train, y_train) \n",
    "    # model evaluation for training set\n",
    "    y_train_pred = svc.predict(X_train_fold)\n",
    "    y_test_pred = svc.predict(X_cv_fold)\n",
    "    # record training set accuracy\n",
    "    print(svc.score(X_train_fold, y_train_fold))\n",
    "    # record generalization accuracy\n",
    "    print(svc.score(X_cv_fold, y_cv_fold))\n",
    "print(svc.score(X_test, y_test))"
   ]
  },
  {
   "cell_type": "code",
   "execution_count": 10,
   "metadata": {},
   "outputs": [
    {
     "name": "stdout",
     "output_type": "stream",
     "text": [
      "0.7876106194690266\n",
      "0.6341463414634146\n",
      "0.8448275862068966\n",
      "0.5526315789473685\n",
      "0.8103448275862069\n",
      "0.7368421052631579\n",
      "0.811965811965812\n",
      "0.7027027027027027\n",
      "0.6538461538461539\n"
     ]
    }
   ],
   "source": [
    "# Random Forest Classifier\n",
    "from sklearn.ensemble import RandomForestClassifier\n",
    "\n",
    "rfc = RandomForestClassifier(max_depth=4, random_state=0, n_estimators=100) \n",
    "for train_index, cv_index in k_fold.split(np.zeros(len(X_train)), y_train.ravel()):\n",
    "    X_train_fold, X_cv_fold = X_train[train_index,:], X_train[cv_index,:]\n",
    "    y_train_fold, y_cv_fold = y_train[train_index], y_train[cv_index]\n",
    "    rfc.fit(X_train_fold, y_train_fold) \n",
    "    # model evaluation for training set\n",
    "    y_train_pred = rfc.predict(X_train)\n",
    "    y_test_pred = rfc.predict(X_cv_fold)\n",
    "    # record training set accuracy\n",
    "    print(rfc.score(X_train_fold, y_train_fold))\n",
    "    # record generalization accuracy\n",
    "    print(rfc.score(X_cv_fold, y_cv_fold))\n",
    "print(rfc.score(X_test, y_test))"
   ]
  },
  {
   "cell_type": "code",
   "execution_count": 11,
   "metadata": {},
   "outputs": [
    {
     "name": "stdout",
     "output_type": "stream",
     "text": [
      "0.6460176991150443\n",
      "0.4634146341463415\n",
      "0.5862068965517241\n",
      "0.5526315789473685\n",
      "0.5517241379310345\n",
      "0.5\n",
      "0.5555555555555556\n",
      "0.5675675675675675\n",
      "0.5769230769230769\n"
     ]
    }
   ],
   "source": [
    "# Logistic Regression Classifier\n",
    "from sklearn.linear_model import LogisticRegression\n",
    "\n",
    "lrc = LogisticRegression(multi_class='multinomial', solver='sag', max_iter=1000, C=1.0, random_state=0, penalty='l2') \n",
    "for train_index, cv_index in k_fold.split(np.zeros(len(X_train)), y_train.ravel()):\n",
    "    X_train_fold, X_cv_fold = X_train[train_index,:], X_train[cv_index,:]\n",
    "    y_train_fold, y_cv_fold = y_train[train_index], y_train[cv_index]\n",
    "    lrc.fit(X_train_fold, y_train_fold) \n",
    "    # model evaluation for training set\n",
    "    y_train_pred = lrc.predict(X_train)\n",
    "    y_test_pred = lrc.predict(X_cv_fold)\n",
    "    # record training set accuracy\n",
    "    print(lrc.score(X_train_fold, y_train_fold))\n",
    "    # record generalization accuracy\n",
    "    print(lrc.score(X_cv_fold, y_cv_fold))\n",
    "print(lrc.score(X_test, y_test))"
   ]
  },
  {
   "cell_type": "code",
   "execution_count": 12,
   "metadata": {},
   "outputs": [],
   "source": [
    "from sklearn.metrics import accuracy_score\n",
    "from sklearn.model_selection import GridSearchCV"
   ]
  },
  {
   "cell_type": "code",
   "execution_count": 13,
   "metadata": {},
   "outputs": [
    {
     "name": "stdout",
     "output_type": "stream",
     "text": [
      "Best Number of Neighbors: 4\n",
      "Accuracy Score: 0.6923076923076923\n"
     ]
    },
    {
     "name": "stderr",
     "output_type": "stream",
     "text": [
      "/Users/jeffreydelong/plaidml-venv/lib/python3.7/site-packages/sklearn/model_selection/_search.py:814: DeprecationWarning: The default of the `iid` parameter will change from True to False in version 0.22 and will be removed in 0.24. This will change numeric results when test-set sizes are unequal.\n",
      "  DeprecationWarning)\n"
     ]
    }
   ],
   "source": [
    "# Grid search for KNN\n",
    "from sklearn.neighbors import KNeighborsClassifier\n",
    "\n",
    "# Specify number of neighbors as hyperparameter\n",
    "neighbors = range(1, 12)\n",
    "\n",
    "# Create hyperparameter options\n",
    "hyperparameters = dict(n_neighbors=neighbors)\n",
    "gs_knn = GridSearchCV(KNeighborsClassifier(), hyperparameters, cv=4, scoring=\"accuracy\", verbose=0)\n",
    "# Fit search\n",
    "best_model_knn = gs_knn.fit(X_train, y_train)\n",
    "    \n",
    "# View best hyperparameters\n",
    "print('Best Number of Neighbors:', best_model_knn.best_estimator_.get_params()['n_neighbors'])\n",
    "\n",
    "# Test the model and report Accuracy score\n",
    "print('Accuracy Score:', accuracy_score(y_test, best_model_knn.predict(X_test)))\n"
   ]
  },
  {
   "cell_type": "code",
   "execution_count": 14,
   "metadata": {},
   "outputs": [
    {
     "name": "stdout",
     "output_type": "stream",
     "text": [
      "Best value of C 100.0\n",
      "Best value of gamma 0.1\n",
      "Accuracy Score: 0.7115384615384616\n"
     ]
    },
    {
     "name": "stderr",
     "output_type": "stream",
     "text": [
      "/Users/jeffreydelong/plaidml-venv/lib/python3.7/site-packages/sklearn/model_selection/_search.py:814: DeprecationWarning: The default of the `iid` parameter will change from True to False in version 0.22 and will be removed in 0.24. This will change numeric results when test-set sizes are unequal.\n",
      "  DeprecationWarning)\n"
     ]
    }
   ],
   "source": [
    "# Grid search for SVM\n",
    "from sklearn.svm import SVC\n",
    "\n",
    "# Create hyperparameter space\n",
    "C_range = np.logspace(-2, 10, 13)\n",
    "# print(C_range)\n",
    "gamma_range = np.logspace(-9, 3, 13)\n",
    "# Create hyperparameter options\n",
    "hyperparameters = dict(C=C_range, gamma=gamma_range)\n",
    "gs_svm = GridSearchCV(SVC(kernel='rbf'), hyperparameters, cv=4, scoring=\"accuracy\", verbose=0)\n",
    "# Fit search\n",
    "best_model_svm = gs_svm.fit(X_train, y_train)\n",
    "\n",
    "# View best hyperparameters\n",
    "print('Best value of C', best_model_svm.best_estimator_.get_params()['C'])\n",
    "print('Best value of gamma', best_model_svm.best_estimator_.get_params()['gamma'])\n",
    "\n",
    "# Test the model and report Accuracy score\n",
    "print('Accuracy Score:', accuracy_score(y_test, best_model_svm.predict(X_test)))"
   ]
  },
  {
   "cell_type": "code",
   "execution_count": 15,
   "metadata": {},
   "outputs": [
    {
     "name": "stdout",
     "output_type": "stream",
     "text": [
      "Best value of Max depth 7\n",
      "Accuracy Score: 0.6730769230769231\n"
     ]
    },
    {
     "name": "stderr",
     "output_type": "stream",
     "text": [
      "/Users/jeffreydelong/plaidml-venv/lib/python3.7/site-packages/sklearn/model_selection/_search.py:814: DeprecationWarning: The default of the `iid` parameter will change from True to False in version 0.22 and will be removed in 0.24. This will change numeric results when test-set sizes are unequal.\n",
      "  DeprecationWarning)\n"
     ]
    }
   ],
   "source": [
    "# Grid search for RF\n",
    "from sklearn.ensemble import RandomForestClassifier\n",
    "\n",
    "# Create hyperparameter space\n",
    "maxdepth=range(1, 12)\n",
    "# Create hyperparameter options\n",
    "hyperparameters = dict(max_depth=maxdepth)\n",
    "gs_rfc = GridSearchCV(RandomForestClassifier(random_state=0, n_estimators=100), hyperparameters, cv=4, scoring=\"accuracy\", verbose=0)\n",
    "# Fit search\n",
    "best_model_rfc = gs_rfc.fit(X_train, y_train)\n",
    "    \n",
    "# View best hyperparameters\n",
    "print('Best value of Max depth', best_model_rfc.best_estimator_.get_params()['max_depth'])\n",
    "\n",
    "# Test the model and report Accuracy score\n",
    "print('Accuracy Score:', accuracy_score(y_test, best_model_rfc.predict(X_test)))"
   ]
  },
  {
   "cell_type": "code",
   "execution_count": 16,
   "metadata": {},
   "outputs": [
    {
     "name": "stdout",
     "output_type": "stream",
     "text": [
      "Best value of C 1.0\n",
      "Accuracy Score: 0.5961538461538461\n"
     ]
    },
    {
     "name": "stderr",
     "output_type": "stream",
     "text": [
      "/Users/jeffreydelong/plaidml-venv/lib/python3.7/site-packages/sklearn/model_selection/_search.py:814: DeprecationWarning: The default of the `iid` parameter will change from True to False in version 0.22 and will be removed in 0.24. This will change numeric results when test-set sizes are unequal.\n",
      "  DeprecationWarning)\n"
     ]
    }
   ],
   "source": [
    "# Grid search for LR\n",
    "from sklearn.linear_model import LogisticRegression\n",
    "\n",
    "# Create hyperparameter space\n",
    "C = np.logspace(0, 4, 10)\n",
    "# print(C)\n",
    "# Create hyperparameter options\n",
    "hyperparameters = dict(C=C)\n",
    "gs_lrc = GridSearchCV(LogisticRegression(multi_class='multinomial', solver='sag', max_iter=5000, random_state=0, penalty='l2') , hyperparameters, cv=4, scoring=\"accuracy\", verbose=0)\n",
    "# Fit search\n",
    "best_model_lrc = gs_lrc.fit(X_train, y_train)\n",
    "    \n",
    "# View best hyperparameters\n",
    "print('Best value of C', best_model_lrc.best_estimator_.get_params()['C'])\n",
    "\n",
    "# Test the model and report Accuracy score\n",
    "print('Accuracy Score:', accuracy_score(y_test, best_model_lrc.predict(X_test)))"
   ]
  },
  {
   "cell_type": "code",
   "execution_count": null,
   "metadata": {},
   "outputs": [],
   "source": []
  }
 ],
 "metadata": {
  "kernelspec": {
   "display_name": "Python 3",
   "language": "python",
   "name": "python3"
  },
  "language_info": {
   "codemirror_mode": {
    "name": "ipython",
    "version": 3
   },
   "file_extension": ".py",
   "mimetype": "text/x-python",
   "name": "python",
   "nbconvert_exporter": "python",
   "pygments_lexer": "ipython3",
   "version": "3.7.3"
  }
 },
 "nbformat": 4,
 "nbformat_minor": 2
}
