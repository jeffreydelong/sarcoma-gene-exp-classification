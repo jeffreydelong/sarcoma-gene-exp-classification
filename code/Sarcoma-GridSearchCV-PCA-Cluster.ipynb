{
 "cells": [
  {
   "cell_type": "code",
   "execution_count": 1,
   "metadata": {},
   "outputs": [
    {
     "data": {
      "text/plain": [
       "(206, 200)"
      ]
     },
     "execution_count": 1,
     "metadata": {},
     "output_type": "execute_result"
    }
   ],
   "source": [
    "import numpy as np\n",
    "import pandas as pd\n",
    "import matplotlib.pyplot as plt\n",
    "# load the PCA model\n",
    "sarcoma_pca_df = pd.read_csv('Data/sarcoma-gene-exp-FPKM-zscore-no-label-pca.csv')\n",
    "sarcoma_pca_df.shape"
   ]
  },
  {
   "cell_type": "code",
   "execution_count": 2,
   "metadata": {},
   "outputs": [
    {
     "data": {
      "text/plain": [
       "(206, 1)"
      ]
     },
     "execution_count": 2,
     "metadata": {},
     "output_type": "execute_result"
    }
   ],
   "source": [
    "# read in clusters\n",
    "sarcoma_clusters_df = pd.read_csv('Data/sarcoma-gene-exp-FPKM-clusters.csv')\n",
    "sarcoma_clusters_df.shape"
   ]
  },
  {
   "cell_type": "code",
   "execution_count": 3,
   "metadata": {},
   "outputs": [
    {
     "data": {
      "text/plain": [
       "(206, 201)"
      ]
     },
     "execution_count": 3,
     "metadata": {},
     "output_type": "execute_result"
    }
   ],
   "source": [
    "# Add clusters to features\n",
    "sarcoma_df = pd.concat([sarcoma_pca_df, sarcoma_clusters_df], axis=1)\n",
    "sarcoma_df.shape"
   ]
  },
  {
   "cell_type": "code",
   "execution_count": 4,
   "metadata": {},
   "outputs": [
    {
     "name": "stdout",
     "output_type": "stream",
     "text": [
      "[[ -7.1299698   19.54480635 -46.93123398 ...  -4.10253815   9.48270406\n",
      "    0.        ]\n",
      " [ 21.38528472 -34.44671658 -29.18157729 ...  -0.64404502   2.35522261\n",
      "    1.        ]\n",
      " [ 57.2761131    7.93957393   9.81154604 ...  -3.74922884   1.06255723\n",
      "    2.        ]\n",
      " ...\n",
      " [ 78.94052539  27.36499822  12.99505297 ...  -1.18656512   0.23846643\n",
      "    2.        ]\n",
      " [  8.56846777 -21.26322469   9.74749633 ...  -0.78065868  -2.19142863\n",
      "    1.        ]\n",
      " [ 19.09385664 -14.72218889 -10.0079258  ...  -0.81136289  -3.5071335\n",
      "    1.        ]]\n"
     ]
    }
   ],
   "source": [
    "# convert df to array\n",
    "X = sarcoma_df.to_numpy()\n",
    "print(X)"
   ]
  },
  {
   "cell_type": "code",
   "execution_count": 5,
   "metadata": {},
   "outputs": [
    {
     "data": {
      "text/plain": [
       "(206, 1)"
      ]
     },
     "execution_count": 5,
     "metadata": {},
     "output_type": "execute_result"
    }
   ],
   "source": [
    "# read in labels\n",
    "sarcoma_labels_df = pd.read_csv('Data/sarcoma-gene-exp-FPKM-labels-only.csv')\n",
    "sarcoma_labels_df.shape"
   ]
  },
  {
   "cell_type": "code",
   "execution_count": 6,
   "metadata": {},
   "outputs": [
    {
     "name": "stdout",
     "output_type": "stream",
     "text": [
      "[4 2 2 1 5 3 2 4 4 3 4 4 4 3 0 3 1 4 2 4 4 0 2 4 3 3 3 2 0 4 4 5 3 3 2 4 4\n",
      " 5 4 3 4 4 5 4 2 4 4 4 1 4 1 4 4 2 4 3 3 2 2 4 4 4 4 4 4 4 2 2 3 4 2 3 4 4\n",
      " 3 4 3 2 4 3 2 3 4 4 3 4 3 4 3 4 4 1 3 4 4 4 0 4 3 4 3 3 3 5 2 0 3 3 1 1 4\n",
      " 2 3 0 3 4 2 4 2 0 3 4 4 3 2 2 1 3 4 4 4 4 4 3 2 4 2 4 1 0 2 2 3 4 4 2 3 4\n",
      " 4 3 1 3 4 3 4 2 2 1 3 2 2 0 4 2 1 4 2 1 4 3 3 4 2 4 2 4 3 4 2 1 3 4 2 4 4\n",
      " 2 2 3 4 4 4 3 2 4 1 1 2 3 0 3 3 2 2 3 1 2]\n"
     ]
    }
   ],
   "source": [
    "# Convert label df to np array\n",
    "y_df = sarcoma_labels_df['label']\n",
    "y = y_df.to_numpy()\n",
    "print(y)"
   ]
  },
  {
   "cell_type": "code",
   "execution_count": 7,
   "metadata": {},
   "outputs": [],
   "source": [
    "# Use Stratified Kfold split\n",
    "from sklearn.model_selection import StratifiedKFold,train_test_split\n",
    "k_fold = StratifiedKFold(n_splits=4,shuffle=True,random_state=2019)\n",
    "# Split training and test data\n",
    "X_train, X_test, y_train, y_test = train_test_split(X, y, test_size=0.25, random_state=2018, stratify=y)\n",
    "# Create k folds with trainng data\n",
    "for train_index, cv_index in k_fold.split(np.zeros(len(X_train)), y_train.ravel()):\n",
    "    X_train_fold, X_cv_fold = X_train[train_index,:], X_train[cv_index,:]\n",
    "    y_train_fold, y_cv_fold = y_train[train_index], y_train[cv_index]"
   ]
  },
  {
   "cell_type": "code",
   "execution_count": 8,
   "metadata": {},
   "outputs": [
    {
     "name": "stdout",
     "output_type": "stream",
     "text": [
      "1.0\n",
      "0.6341463414634146\n",
      "1.0\n",
      "0.7105263157894737\n",
      "1.0\n",
      "0.7894736842105263\n",
      "1.0\n",
      "0.8378378378378378\n",
      "0.6538461538461539\n"
     ]
    }
   ],
   "source": [
    "# KNN Classifier\n",
    "from sklearn.neighbors import KNeighborsClassifier\n",
    "\n",
    "# instantiate the model\n",
    "neigh = KNeighborsClassifier(n_neighbors=7)\n",
    "for train_index, cv_index in k_fold.split(np.zeros(len(X_train)), y_train.ravel()):\n",
    "    X_train_fold, X_cv_fold = X_train[train_index,:], X_train[cv_index,:]\n",
    "    y_train_fold, y_cv_fold = y_train[train_index], y_train[cv_index]\n",
    "    neigh.fit(X_train_fold, y_train_fold) \n",
    "    # model evaluation for training set\n",
    "    y_train_pred = neigh.predict(X_train_fold)\n",
    "    y_test_pred = neigh.predict(X_cv_fold)\n",
    "    # record training set accuracy\n",
    "    print(neigh.score(X_train_fold, y_train_pred))\n",
    "    # record generalization accuracy\n",
    "    print(neigh.score(X_cv_fold, y_cv_fold))\n",
    "print(neigh.score(X_test, y_test))"
   ]
  },
  {
   "cell_type": "code",
   "execution_count": 9,
   "metadata": {},
   "outputs": [
    {
     "name": "stdout",
     "output_type": "stream",
     "text": [
      "0.9646017699115044\n",
      "0.9024390243902439\n",
      "0.9482758620689655\n",
      "0.9473684210526315\n",
      "0.9310344827586207\n",
      "1.0\n",
      "0.9487179487179487\n",
      "0.9459459459459459\n",
      "0.7307692307692307\n"
     ]
    }
   ],
   "source": [
    "# SVM Classifier\n",
    "from sklearn.svm import SVC\n",
    "\n",
    "svc = SVC(kernel='rbf', gamma='scale', C=1.0)\n",
    "for train_index, cv_index in k_fold.split(np.zeros(len(X_train)), y_train.ravel()):\n",
    "    X_train_fold, X_cv_fold = X_train[train_index,:], X_train[cv_index,:]\n",
    "    y_train_fold, y_cv_fold = y_train[train_index], y_train[cv_index]\n",
    "    svc.fit(X_train, y_train) \n",
    "    # model evaluation for training set\n",
    "    y_train_pred = svc.predict(X_train_fold)\n",
    "    y_test_pred = svc.predict(X_cv_fold)\n",
    "    # record training set accuracy\n",
    "    print(svc.score(X_train_fold, y_train_fold))\n",
    "    # record generalization accuracy\n",
    "    print(svc.score(X_cv_fold, y_cv_fold))\n",
    "print(svc.score(X_test, y_test))"
   ]
  },
  {
   "cell_type": "code",
   "execution_count": 10,
   "metadata": {},
   "outputs": [
    {
     "name": "stdout",
     "output_type": "stream",
     "text": [
      "0.9911504424778761\n",
      "0.5365853658536586\n",
      "0.9482758620689655\n",
      "0.5526315789473685\n",
      "0.9827586206896551\n",
      "0.631578947368421\n",
      "0.9743589743589743\n",
      "0.5945945945945946\n",
      "0.5192307692307693\n"
     ]
    }
   ],
   "source": [
    "# Random Forest Classifier\n",
    "from sklearn.ensemble import RandomForestClassifier\n",
    "\n",
    "rfc = RandomForestClassifier(max_depth=4, random_state=0, n_estimators=100) \n",
    "for train_index, cv_index in k_fold.split(np.zeros(len(X_train)), y_train.ravel()):\n",
    "    X_train_fold, X_cv_fold = X_train[train_index,:], X_train[cv_index,:]\n",
    "    y_train_fold, y_cv_fold = y_train[train_index], y_train[cv_index]\n",
    "    rfc.fit(X_train_fold, y_train_fold) \n",
    "    # model evaluation for training set\n",
    "    y_train_pred = rfc.predict(X_train)\n",
    "    y_test_pred = rfc.predict(X_cv_fold)\n",
    "    # record training set accuracy\n",
    "    print(rfc.score(X_train_fold, y_train_fold))\n",
    "    # record generalization accuracy\n",
    "    print(rfc.score(X_cv_fold, y_cv_fold))\n",
    "print(rfc.score(X_test, y_test))"
   ]
  },
  {
   "cell_type": "code",
   "execution_count": 11,
   "metadata": {},
   "outputs": [
    {
     "name": "stdout",
     "output_type": "stream",
     "text": [
      "1.0\n",
      "0.7073170731707317\n",
      "1.0\n",
      "0.7105263157894737\n",
      "1.0\n",
      "0.8421052631578947\n",
      "1.0\n",
      "0.8108108108108109\n",
      "0.8269230769230769\n"
     ]
    }
   ],
   "source": [
    "# Logistic Regression Classifier\n",
    "from sklearn.linear_model import LogisticRegression\n",
    "\n",
    "lrc = LogisticRegression(multi_class='multinomial', solver='sag', max_iter=1000, C=1.0, random_state=0, penalty='l2') \n",
    "for train_index, cv_index in k_fold.split(np.zeros(len(X_train)), y_train.ravel()):\n",
    "    X_train_fold, X_cv_fold = X_train[train_index,:], X_train[cv_index,:]\n",
    "    y_train_fold, y_cv_fold = y_train[train_index], y_train[cv_index]\n",
    "    lrc.fit(X_train_fold, y_train_fold) \n",
    "    # model evaluation for training set\n",
    "    y_train_pred = lrc.predict(X_train)\n",
    "    y_test_pred = lrc.predict(X_cv_fold)\n",
    "    # record training set accuracy\n",
    "    print(lrc.score(X_train_fold, y_train_fold))\n",
    "    # record generalization accuracy\n",
    "    print(lrc.score(X_cv_fold, y_cv_fold))\n",
    "print(lrc.score(X_test, y_test))"
   ]
  },
  {
   "cell_type": "code",
   "execution_count": 12,
   "metadata": {},
   "outputs": [],
   "source": [
    "from sklearn.metrics import accuracy_score\n",
    "from sklearn.model_selection import GridSearchCV"
   ]
  },
  {
   "cell_type": "code",
   "execution_count": 13,
   "metadata": {},
   "outputs": [
    {
     "name": "stdout",
     "output_type": "stream",
     "text": [
      "Best Number of Neighbors: 11\n",
      "Accuracy Score: 0.6923076923076923\n"
     ]
    },
    {
     "name": "stderr",
     "output_type": "stream",
     "text": [
      "/Users/jeffreydelong/plaidml-venv/lib/python3.7/site-packages/sklearn/model_selection/_search.py:814: DeprecationWarning: The default of the `iid` parameter will change from True to False in version 0.22 and will be removed in 0.24. This will change numeric results when test-set sizes are unequal.\n",
      "  DeprecationWarning)\n"
     ]
    }
   ],
   "source": [
    "# Grid search for KNN\n",
    "from sklearn.neighbors import KNeighborsClassifier\n",
    "\n",
    "# Specify number of neighbors as hyperparameter\n",
    "neighbors = range(1, 12)\n",
    "\n",
    "# Create hyperparameter options\n",
    "hyperparameters = dict(n_neighbors=neighbors)\n",
    "gs_knn = GridSearchCV(KNeighborsClassifier(), hyperparameters, cv=4, scoring=\"accuracy\", verbose=0)\n",
    "# Fit search\n",
    "best_model_knn = gs_knn.fit(X_train, y_train)\n",
    "    \n",
    "# View best hyperparameters\n",
    "print('Best Number of Neighbors:', best_model_knn.best_estimator_.get_params()['n_neighbors'])\n",
    "\n",
    "# Test the model and report Accuracy score\n",
    "print('Accuracy Score:', accuracy_score(y_test, best_model_knn.predict(X_test)))\n"
   ]
  },
  {
   "cell_type": "code",
   "execution_count": 14,
   "metadata": {},
   "outputs": [
    {
     "name": "stdout",
     "output_type": "stream",
     "text": [
      "Best value of C 100.0\n",
      "Best value of gamma 1e-05\n",
      "Accuracy Score: 0.7692307692307693\n"
     ]
    },
    {
     "name": "stderr",
     "output_type": "stream",
     "text": [
      "/Users/jeffreydelong/plaidml-venv/lib/python3.7/site-packages/sklearn/model_selection/_search.py:814: DeprecationWarning: The default of the `iid` parameter will change from True to False in version 0.22 and will be removed in 0.24. This will change numeric results when test-set sizes are unequal.\n",
      "  DeprecationWarning)\n"
     ]
    }
   ],
   "source": [
    "# Grid search for SVM\n",
    "from sklearn.svm import SVC\n",
    "\n",
    "# Create hyperparameter space\n",
    "C_range = np.logspace(-2, 10, 13)\n",
    "gamma_range = np.logspace(-9, 3, 13)\n",
    "# Create hyperparameter options\n",
    "hyperparameters = dict(C=C_range, gamma=gamma_range)\n",
    "gs_svm = GridSearchCV(SVC(kernel='rbf'), hyperparameters, cv=4, scoring=\"accuracy\", verbose=0)\n",
    "# Fit search\n",
    "best_model_svm = gs_svm.fit(X_train, y_train)\n",
    "\n",
    "# View best hyperparameters\n",
    "print('Best value of C', best_model_svm.best_estimator_.get_params()['C'])\n",
    "print('Best value of gamma', best_model_svm.best_estimator_.get_params()['gamma'])\n",
    "\n",
    "# Test the model and report Accuracy score\n",
    "print('Accuracy Score:', accuracy_score(y_test, best_model_svm.predict(X_test)))"
   ]
  },
  {
   "cell_type": "code",
   "execution_count": 15,
   "metadata": {},
   "outputs": [
    {
     "name": "stdout",
     "output_type": "stream",
     "text": [
      "Best value of Max depth 7\n",
      "Accuracy Score: 0.6730769230769231\n"
     ]
    },
    {
     "name": "stderr",
     "output_type": "stream",
     "text": [
      "/Users/jeffreydelong/plaidml-venv/lib/python3.7/site-packages/sklearn/model_selection/_search.py:814: DeprecationWarning: The default of the `iid` parameter will change from True to False in version 0.22 and will be removed in 0.24. This will change numeric results when test-set sizes are unequal.\n",
      "  DeprecationWarning)\n"
     ]
    }
   ],
   "source": [
    "# Grid search for RF\n",
    "from sklearn.ensemble import RandomForestClassifier\n",
    "\n",
    "# Create hyperparameter space\n",
    "maxdepth=range(1, 12)\n",
    "# Create hyperparameter options\n",
    "hyperparameters = dict(max_depth=maxdepth)\n",
    "gs_rfc = GridSearchCV(RandomForestClassifier(random_state=0, n_estimators=100), hyperparameters, cv=4, scoring=\"accuracy\", verbose=0)\n",
    "# Fit search\n",
    "best_model_rfc = gs_rfc.fit(X_train, y_train)\n",
    "    \n",
    "# View best hyperparameters\n",
    "print('Best value of Max depth', best_model_rfc.best_estimator_.get_params()['max_depth'])\n",
    "\n",
    "# Test the model and report Accuracy score\n",
    "print('Accuracy Score:', accuracy_score(y_test, best_model_rfc.predict(X_test)))"
   ]
  },
  {
   "cell_type": "code",
   "execution_count": 16,
   "metadata": {},
   "outputs": [
    {
     "name": "stderr",
     "output_type": "stream",
     "text": [
      "/Users/jeffreydelong/plaidml-venv/lib/python3.7/site-packages/sklearn/model_selection/_search.py:814: DeprecationWarning: The default of the `iid` parameter will change from True to False in version 0.22 and will be removed in 0.24. This will change numeric results when test-set sizes are unequal.\n",
      "  DeprecationWarning)\n"
     ]
    },
    {
     "name": "stdout",
     "output_type": "stream",
     "text": [
      "Best value of C 1.0\n",
      "Accuracy Score: 0.8076923076923077\n"
     ]
    }
   ],
   "source": [
    "# Grid search for LR\n",
    "from sklearn.linear_model import LogisticRegression\n",
    "\n",
    "# Create hyperparameter space\n",
    "C = np.logspace(0, 4, 10)\n",
    "#print(C)\n",
    "# Create hyperparameter options\n",
    "hyperparameters = dict(C=C)\n",
    "gs_lrc = GridSearchCV(LogisticRegression(multi_class='multinomial', solver='sag', max_iter=5000, random_state=0, penalty='l2') , hyperparameters, cv=4, scoring=\"accuracy\", verbose=0)\n",
    "# Fit search\n",
    "best_model_lrc = gs_lrc.fit(X_train, y_train)\n",
    "    \n",
    "# View best hyperparameters\n",
    "print('Best value of C', best_model_lrc.best_estimator_.get_params()['C'])\n",
    "\n",
    "# Test the model and report Accuracy score\n",
    "print('Accuracy Score:', accuracy_score(y_test, best_model_lrc.predict(X_test)))"
   ]
  },
  {
   "cell_type": "code",
   "execution_count": 17,
   "metadata": {},
   "outputs": [
    {
     "name": "stdout",
     "output_type": "stream",
     "text": [
      "              precision    recall  f1-score   support\n",
      "\n",
      "     Class 0       1.00      1.00      1.00         3\n",
      "     Class 1       0.25      0.25      0.25         4\n",
      "     Class 2       0.57      0.73      0.64        11\n",
      "     Class 3       0.92      0.92      0.92        13\n",
      "     Class 4       1.00      0.85      0.92        20\n",
      "     Class 5       1.00      1.00      1.00         1\n",
      "\n",
      "    accuracy                           0.81        52\n",
      "   macro avg       0.79      0.79      0.79        52\n",
      "weighted avg       0.83      0.81      0.82        52\n",
      "\n"
     ]
    }
   ],
   "source": [
    "# Best model is LR with C = 1\n",
    "lrc = LogisticRegression(multi_class='multinomial', solver='sag', max_iter=1000, C=1.0, random_state=0, penalty='l2') \n",
    "lrc.fit(X_train, y_train) \n",
    "\n",
    "y_pred = lrc.predict(X_test)\n",
    "from sklearn.metrics import classification_report\n",
    "class_names = [\"Class {}\".format(i) for i in range(6)]\n",
    "print(classification_report(y_test, y_pred, target_names=class_names))\n"
   ]
  },
  {
   "cell_type": "code",
   "execution_count": 18,
   "metadata": {},
   "outputs": [
    {
     "data": {
      "text/plain": [
       "array([[ 3,  0,  0,  0,  0,  0],\n",
       "       [ 0,  1,  3,  0,  0,  0],\n",
       "       [ 0,  2,  8,  1,  0,  0],\n",
       "       [ 0,  1,  0, 12,  0,  0],\n",
       "       [ 0,  0,  3,  0, 17,  0],\n",
       "       [ 0,  0,  0,  0,  0,  1]])"
      ]
     },
     "execution_count": 18,
     "metadata": {},
     "output_type": "execute_result"
    }
   ],
   "source": [
    "from sklearn.metrics import confusion_matrix\n",
    "confusion_matrix(y_test, y_pred)"
   ]
  },
  {
   "cell_type": "code",
   "execution_count": null,
   "metadata": {},
   "outputs": [],
   "source": []
  }
 ],
 "metadata": {
  "kernelspec": {
   "display_name": "Python 3",
   "language": "python",
   "name": "python3"
  },
  "language_info": {
   "codemirror_mode": {
    "name": "ipython",
    "version": 3
   },
   "file_extension": ".py",
   "mimetype": "text/x-python",
   "name": "python",
   "nbconvert_exporter": "python",
   "pygments_lexer": "ipython3",
   "version": "3.7.3"
  }
 },
 "nbformat": 4,
 "nbformat_minor": 2
}
