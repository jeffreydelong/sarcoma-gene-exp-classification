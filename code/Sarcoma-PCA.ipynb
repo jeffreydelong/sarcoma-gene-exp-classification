{
 "cells": [
  {
   "cell_type": "code",
   "execution_count": 1,
   "metadata": {},
   "outputs": [
    {
     "data": {
      "text/plain": [
       "(206, 20605)"
      ]
     },
     "execution_count": 1,
     "metadata": {},
     "output_type": "execute_result"
    }
   ],
   "source": [
    "# Perform Principal Component Analysis on Sarcoma FKPM z-score normalized data\n",
    "# Making the imports\n",
    "import numpy as np\n",
    "import pandas as pd\n",
    "import matplotlib.pyplot as plt\n",
    "\n",
    "# Preprocessing Input data\n",
    "sarcoma_df = pd.read_csv('../Data/sarcoma-gene-exp-FPKM-zscore-no-label.csv')\n",
    "sarcoma_df.shape"
   ]
  },
  {
   "cell_type": "code",
   "execution_count": 2,
   "metadata": {
    "scrolled": true
   },
   "outputs": [
    {
     "name": "stdout",
     "output_type": "stream",
     "text": [
      "[[-0.51154087  0.09480786 -0.35176093 ...  0.51624723  0.02346097\n",
      "   2.48359169]\n",
      " [-0.19129576  0.15347405  0.20261954 ... -0.41028013  2.86123234\n",
      "   0.16777757]\n",
      " [ 0.26472818  2.327348   -0.56049386 ... -0.21651268  0.0192731\n",
      "   0.76332633]\n",
      " ...\n",
      " [ 0.24931652 -0.03363532 -0.97441342 ... -0.50605902 -1.23871739\n",
      "   0.28153212]\n",
      " [ 0.2581943  -0.8373263  -0.19647611 ... -0.29302061 -0.78367962\n",
      "  -0.7597076 ]\n",
      " [-0.07085013 -0.29522455 -0.59015045 ... -0.50644652 -0.01137879\n",
      "  -0.39862195]]\n"
     ]
    }
   ],
   "source": [
    "# convert dataframe to np array\n",
    "sarcoma_data = sarcoma_df.to_numpy()\n",
    "print(sarcoma_data)"
   ]
  },
  {
   "cell_type": "code",
   "execution_count": 3,
   "metadata": {},
   "outputs": [
    {
     "name": "stdout",
     "output_type": "stream",
     "text": [
      "PCA fit is complete\n"
     ]
    }
   ],
   "source": [
    "# Run PCA based on preserving variance\n",
    "from sklearn.decomposition import PCA\n",
    "\n",
    "pca = PCA(n_components=0.95)\n",
    "pca.fit(sarcoma_data)\n",
    "print(\"PCA fit is complete\")"
   ]
  },
  {
   "cell_type": "code",
   "execution_count": 4,
   "metadata": {},
   "outputs": [
    {
     "name": "stdout",
     "output_type": "stream",
     "text": [
      "[674.83158823 481.05224647 473.0665292  382.29287415 358.86847849\n",
      " 295.63385283 273.91517381 268.50568152 253.29574041 242.97597005\n",
      " 241.65427397 232.18674028 226.84241658 220.43630213 215.6470579\n",
      " 209.40850367 205.30306957 203.36283376 196.96259587 193.95647995\n",
      " 191.24583067 189.74849118 184.38767728 181.44436332 179.67807458\n",
      " 179.29633977 175.31807495 174.16500438 172.32605238 170.23623164\n",
      " 165.88626225 163.35233442 162.4350658  160.73462102 159.60681216\n",
      " 158.15710306 156.60549893 155.26986504 153.3881538  150.37250464\n",
      " 148.80788374 148.408911   147.90431246 145.82832113 144.66599868\n",
      " 143.89639255 142.99546493 140.82165273 139.66212655 138.7585404\n",
      " 137.70108843 137.26736355 136.76449801 135.01531947 134.70898792\n",
      " 132.92335461 131.74089838 130.51997399 129.58959279 128.11393797\n",
      " 127.33156291 126.75905549 126.01356457 125.53831728 124.95180907\n",
      " 123.96409681 122.8680507  122.67418674 121.97150811 120.71334697\n",
      " 120.38542894 119.6182137  118.91572029 118.64945393 117.51488815\n",
      " 116.80029608 116.45291258 116.02968601 115.21017647 114.73939425\n",
      " 113.84962818 113.21858802 112.83659233 111.66509842 111.29667073\n",
      " 110.90440812 110.79883485 110.13299954 109.64510598 109.13647478\n",
      " 108.30150805 107.23236252 107.1269828  106.7982396  106.51960259\n",
      " 105.85402527 105.78785429 105.01444833 104.37060726 103.58816579\n",
      " 102.82033137 102.40887691 101.78730463 101.55689492 101.20655552\n",
      " 100.64906794 100.18739241  99.99136942  99.47863255  99.01526304\n",
      "  98.54317664  98.21081628  97.72033852  97.37147268  97.09118528\n",
      "  96.73649692  96.30248834  95.81219897  95.57380385  95.13357174\n",
      "  94.09448881  93.69033977  93.4187029   93.37856736  93.14100553\n",
      "  92.73841075  92.61958679  92.38316483  92.04078354  91.40715833\n",
      "  90.96469791  90.60905085  90.02322732  89.86188393  89.41566108\n",
      "  89.0423222   88.56472285  88.28481761  87.96085721  87.8726142\n",
      "  87.50561864  87.34937324  86.78911279  86.32232624  85.91937403\n",
      "  85.80612862  85.30122254  84.94862076  84.4283565   84.27239913\n",
      "  83.93847172  83.30780283  83.17901379  82.72110955  82.27975276\n",
      "  81.95464561  81.50738116  81.29695203  80.82979696  80.40139209\n",
      "  80.12724943  79.97260068  79.49115661]\n"
     ]
    }
   ],
   "source": [
    "print(pca.singular_values_)  "
   ]
  },
  {
   "cell_type": "code",
   "execution_count": 5,
   "metadata": {},
   "outputs": [
    {
     "name": "stdout",
     "output_type": "stream",
     "text": [
      "PCA transformation is complete\n"
     ]
    }
   ],
   "source": [
    "# Perform PCA transformation\n",
    "sarcoma_data_pca = pca.transform(sarcoma_data)\n",
    "print(\"PCA transformation is complete\")"
   ]
  },
  {
   "cell_type": "code",
   "execution_count": 6,
   "metadata": {},
   "outputs": [
    {
     "name": "stdout",
     "output_type": "stream",
     "text": [
      "reduced shape: (206, 163)\n"
     ]
    }
   ],
   "source": [
    "print(\"reduced shape: {}\".format(str(sarcoma_data_pca.shape)))"
   ]
  },
  {
   "cell_type": "code",
   "execution_count": 7,
   "metadata": {},
   "outputs": [
    {
     "data": {
      "text/plain": [
       "array([[ -7.1299698 ,  19.54480635, -46.93123398, ...,  -5.20201632,\n",
       "         -6.68736361,   2.18412099],\n",
       "       [ 21.38528472, -34.44671658, -29.18157729, ..., -10.89246806,\n",
       "          1.2741249 ,   7.78042611],\n",
       "       [ 57.2761131 ,   7.93957393,   9.81154604, ...,   3.43791233,\n",
       "        -11.25802252,  -5.61020023],\n",
       "       ...,\n",
       "       [ 78.94052539,  27.36499822,  12.99505297, ...,   1.6504554 ,\n",
       "         -0.35151221,   6.23520363],\n",
       "       [  8.56846777, -21.26322469,   9.74749633, ...,  10.69648535,\n",
       "          0.19657854,   3.12135705],\n",
       "       [ 19.09385664, -14.72218889, -10.0079258 , ...,   4.28801274,\n",
       "         -1.52572152,  -6.56352494]])"
      ]
     },
     "execution_count": 7,
     "metadata": {},
     "output_type": "execute_result"
    }
   ],
   "source": [
    "sarcoma_data_pca"
   ]
  },
  {
   "cell_type": "code",
   "execution_count": 8,
   "metadata": {},
   "outputs": [],
   "source": [
    "# create dataframe from PCA array\n",
    "sarcoma_pca_df = pd.DataFrame(sarcoma_data_pca)   \n",
    "# write sarcoma_pca_df to a csv file\n",
    "sarcoma_pca_df.to_csv(\"../Data/sarcoma-gene-exp-FPKM-zscore-no-label-pca.csv\", index=False)"
   ]
  },
  {
   "cell_type": "code",
   "execution_count": null,
   "metadata": {},
   "outputs": [],
   "source": []
  }
 ],
 "metadata": {
  "kernelspec": {
   "display_name": "Python 3",
   "language": "python",
   "name": "python3"
  },
  "language_info": {
   "codemirror_mode": {
    "name": "ipython",
    "version": 3
   },
   "file_extension": ".py",
   "mimetype": "text/x-python",
   "name": "python",
   "nbconvert_exporter": "python",
   "pygments_lexer": "ipython3",
   "version": "3.7.3"
  }
 },
 "nbformat": 4,
 "nbformat_minor": 2
}
