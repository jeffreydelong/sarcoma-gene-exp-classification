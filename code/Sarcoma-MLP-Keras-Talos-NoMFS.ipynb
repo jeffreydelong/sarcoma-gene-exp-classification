{
 "cells": [
  {
   "cell_type": "code",
   "execution_count": 1,
   "metadata": {},
   "outputs": [],
   "source": [
    "# Imports for Talos and Keras\n",
    "\n",
    "import plaidml.keras\n",
    "plaidml.keras.install_backend()\n",
    "\n",
    "import talos as ta\n",
    "from talos.utils import metrics\n",
    "\n",
    "from keras.models import Sequential\n",
    "from keras.layers import Dense\n",
    "from keras.layers.core import Dropout\n",
    "from keras.layers.core import Activation\n",
    "from keras.utils import np_utils\n",
    "from keras.utils.np_utils import to_categorical\n",
    "from keras.activations import relu, elu\n",
    "from keras import regularizers\n",
    "from keras import optimizers\n",
    "\n",
    "import numpy as np\n",
    "import pandas as pd\n",
    "from sklearn.model_selection import train_test_split"
   ]
  },
  {
   "cell_type": "code",
   "execution_count": 9,
   "metadata": {},
   "outputs": [
    {
     "data": {
      "text/plain": [
       "(189, 20605)"
      ]
     },
     "execution_count": 9,
     "metadata": {},
     "output_type": "execute_result"
    }
   ],
   "source": [
    "# load the sarcoma transcriptome data\n",
    "sarcoma_df = pd.read_csv('../Data/sarcoma-gene-exp-FPKM-zscore-no-label-nomfs.csv')\n",
    "sarcoma_df.shape"
   ]
  },
  {
   "cell_type": "code",
   "execution_count": 10,
   "metadata": {},
   "outputs": [
    {
     "data": {
      "text/plain": [
       "(189, 1)"
      ]
     },
     "execution_count": 10,
     "metadata": {},
     "output_type": "execute_result"
    }
   ],
   "source": [
    "# load label data\n",
    "sarcoma_labels_df = pd.read_csv('../Data/sarcoma-gene-exp-FPKM-labels-nomfs.csv')\n",
    "sarcoma_labels_df.shape"
   ]
  },
  {
   "cell_type": "code",
   "execution_count": 11,
   "metadata": {},
   "outputs": [
    {
     "name": "stdout",
     "output_type": "stream",
     "text": [
      "[[-0.51154087  0.09480786 -0.35176093 ...  0.51624723  0.02346097\n",
      "   2.48359169]\n",
      " [-0.19129576  0.15347405  0.20261954 ... -0.41028013  2.86123234\n",
      "   0.16777757]\n",
      " [ 0.26472818  2.327348   -0.56049386 ... -0.21651268  0.0192731\n",
      "   0.76332633]\n",
      " ...\n",
      " [-0.2652622  -0.48026337 -1.16285933 ... -0.36779173  0.24949394\n",
      "  -0.36985907]\n",
      " [ 0.24931652 -0.03363532 -0.97441342 ... -0.50605902 -1.23871739\n",
      "   0.28153212]\n",
      " [-0.07085013 -0.29522455 -0.59015045 ... -0.50644652 -0.01137879\n",
      "  -0.39862195]]\n"
     ]
    }
   ],
   "source": [
    "# Convert transcriptome df to np array\n",
    "X = sarcoma_df.to_numpy()\n",
    "print(X)"
   ]
  },
  {
   "cell_type": "code",
   "execution_count": 12,
   "metadata": {},
   "outputs": [
    {
     "name": "stdout",
     "output_type": "stream",
     "text": [
      "[4 2 2 5 3 2 4 4 3 4 4 4 3 0 3 4 2 4 4 0 2 4 3 3 3 2 0 4 4 5 3 3 2 4 4 5 4\n",
      " 3 4 4 5 4 2 4 4 4 4 4 4 2 4 3 3 2 2 4 4 4 4 4 4 4 2 2 3 4 2 3 4 4 3 4 3 2\n",
      " 4 3 2 3 4 4 3 4 3 4 3 4 4 3 4 4 4 0 4 3 4 3 3 3 5 2 0 3 3 4 2 3 0 3 4 2 4\n",
      " 2 0 3 4 4 3 2 2 3 4 4 4 4 4 3 2 4 2 4 0 2 2 3 4 4 2 3 4 4 3 3 4 3 4 2 2 3\n",
      " 2 2 0 4 2 4 2 4 3 3 4 2 4 2 4 3 4 2 3 4 2 4 4 2 2 3 4 4 4 3 2 4 2 3 0 3 3\n",
      " 2 2 3 2]\n"
     ]
    }
   ],
   "source": [
    "# Convert label df to np array\n",
    "y_df = sarcoma_labels_df['label']\n",
    "y = y_df.to_numpy()\n",
    "print(y)"
   ]
  },
  {
   "cell_type": "code",
   "execution_count": 13,
   "metadata": {},
   "outputs": [
    {
     "name": "stdout",
     "output_type": "stream",
     "text": [
      "[[0. 0. 0. 0. 1. 0.]\n",
      " [0. 0. 1. 0. 0. 0.]\n",
      " [0. 0. 1. 0. 0. 0.]\n",
      " ...\n",
      " [0. 0. 1. 0. 0. 0.]\n",
      " [0. 0. 0. 1. 0. 0.]\n",
      " [0. 0. 1. 0. 0. 0.]]\n"
     ]
    }
   ],
   "source": [
    "y_cat = to_categorical(y)\n",
    "print(y_cat)"
   ]
  },
  {
   "cell_type": "code",
   "execution_count": 14,
   "metadata": {},
   "outputs": [
    {
     "name": "stdout",
     "output_type": "stream",
     "text": [
      "[[0. 0. 0. 1. 0.]\n",
      " [0. 1. 0. 0. 0.]\n",
      " [0. 1. 0. 0. 0.]\n",
      " [0. 0. 0. 0. 1.]\n",
      " [0. 0. 1. 0. 0.]\n",
      " [0. 1. 0. 0. 0.]\n",
      " [0. 0. 0. 1. 0.]\n",
      " [0. 0. 0. 1. 0.]\n",
      " [0. 0. 1. 0. 0.]\n",
      " [0. 0. 0. 1. 0.]\n",
      " [0. 0. 0. 1. 0.]\n",
      " [0. 0. 0. 1. 0.]\n",
      " [0. 0. 1. 0. 0.]\n",
      " [1. 0. 0. 0. 0.]\n",
      " [0. 0. 1. 0. 0.]\n",
      " [0. 0. 0. 1. 0.]\n",
      " [0. 1. 0. 0. 0.]\n",
      " [0. 0. 0. 1. 0.]\n",
      " [0. 0. 0. 1. 0.]\n",
      " [1. 0. 0. 0. 0.]\n",
      " [0. 1. 0. 0. 0.]\n",
      " [0. 0. 0. 1. 0.]\n",
      " [0. 0. 1. 0. 0.]\n",
      " [0. 0. 1. 0. 0.]\n",
      " [0. 0. 1. 0. 0.]\n",
      " [0. 1. 0. 0. 0.]\n",
      " [1. 0. 0. 0. 0.]\n",
      " [0. 0. 0. 1. 0.]\n",
      " [0. 0. 0. 1. 0.]\n",
      " [0. 0. 0. 0. 1.]\n",
      " [0. 0. 1. 0. 0.]\n",
      " [0. 0. 1. 0. 0.]\n",
      " [0. 1. 0. 0. 0.]\n",
      " [0. 0. 0. 1. 0.]\n",
      " [0. 0. 0. 1. 0.]\n",
      " [0. 0. 0. 0. 1.]\n",
      " [0. 0. 0. 1. 0.]\n",
      " [0. 0. 1. 0. 0.]\n",
      " [0. 0. 0. 1. 0.]\n",
      " [0. 0. 0. 1. 0.]\n",
      " [0. 0. 0. 0. 1.]\n",
      " [0. 0. 0. 1. 0.]\n",
      " [0. 1. 0. 0. 0.]\n",
      " [0. 0. 0. 1. 0.]\n",
      " [0. 0. 0. 1. 0.]\n",
      " [0. 0. 0. 1. 0.]\n",
      " [0. 0. 0. 1. 0.]\n",
      " [0. 0. 0. 1. 0.]\n",
      " [0. 0. 0. 1. 0.]\n",
      " [0. 1. 0. 0. 0.]\n",
      " [0. 0. 0. 1. 0.]\n",
      " [0. 0. 1. 0. 0.]\n",
      " [0. 0. 1. 0. 0.]\n",
      " [0. 1. 0. 0. 0.]\n",
      " [0. 1. 0. 0. 0.]\n",
      " [0. 0. 0. 1. 0.]\n",
      " [0. 0. 0. 1. 0.]\n",
      " [0. 0. 0. 1. 0.]\n",
      " [0. 0. 0. 1. 0.]\n",
      " [0. 0. 0. 1. 0.]\n",
      " [0. 0. 0. 1. 0.]\n",
      " [0. 0. 0. 1. 0.]\n",
      " [0. 1. 0. 0. 0.]\n",
      " [0. 1. 0. 0. 0.]\n",
      " [0. 0. 1. 0. 0.]\n",
      " [0. 0. 0. 1. 0.]\n",
      " [0. 1. 0. 0. 0.]\n",
      " [0. 0. 1. 0. 0.]\n",
      " [0. 0. 0. 1. 0.]\n",
      " [0. 0. 0. 1. 0.]\n",
      " [0. 0. 1. 0. 0.]\n",
      " [0. 0. 0. 1. 0.]\n",
      " [0. 0. 1. 0. 0.]\n",
      " [0. 1. 0. 0. 0.]\n",
      " [0. 0. 0. 1. 0.]\n",
      " [0. 0. 1. 0. 0.]\n",
      " [0. 1. 0. 0. 0.]\n",
      " [0. 0. 1. 0. 0.]\n",
      " [0. 0. 0. 1. 0.]\n",
      " [0. 0. 0. 1. 0.]\n",
      " [0. 0. 1. 0. 0.]\n",
      " [0. 0. 0. 1. 0.]\n",
      " [0. 0. 1. 0. 0.]\n",
      " [0. 0. 0. 1. 0.]\n",
      " [0. 0. 1. 0. 0.]\n",
      " [0. 0. 0. 1. 0.]\n",
      " [0. 0. 0. 1. 0.]\n",
      " [0. 0. 1. 0. 0.]\n",
      " [0. 0. 0. 1. 0.]\n",
      " [0. 0. 0. 1. 0.]\n",
      " [0. 0. 0. 1. 0.]\n",
      " [1. 0. 0. 0. 0.]\n",
      " [0. 0. 0. 1. 0.]\n",
      " [0. 0. 1. 0. 0.]\n",
      " [0. 0. 0. 1. 0.]\n",
      " [0. 0. 1. 0. 0.]\n",
      " [0. 0. 1. 0. 0.]\n",
      " [0. 0. 1. 0. 0.]\n",
      " [0. 0. 0. 0. 1.]\n",
      " [0. 1. 0. 0. 0.]\n",
      " [1. 0. 0. 0. 0.]\n",
      " [0. 0. 1. 0. 0.]\n",
      " [0. 0. 1. 0. 0.]\n",
      " [0. 0. 0. 1. 0.]\n",
      " [0. 1. 0. 0. 0.]\n",
      " [0. 0. 1. 0. 0.]\n",
      " [1. 0. 0. 0. 0.]\n",
      " [0. 0. 1. 0. 0.]\n",
      " [0. 0. 0. 1. 0.]\n",
      " [0. 1. 0. 0. 0.]\n",
      " [0. 0. 0. 1. 0.]\n",
      " [0. 1. 0. 0. 0.]\n",
      " [1. 0. 0. 0. 0.]\n",
      " [0. 0. 1. 0. 0.]\n",
      " [0. 0. 0. 1. 0.]\n",
      " [0. 0. 0. 1. 0.]\n",
      " [0. 0. 1. 0. 0.]\n",
      " [0. 1. 0. 0. 0.]\n",
      " [0. 1. 0. 0. 0.]\n",
      " [0. 0. 1. 0. 0.]\n",
      " [0. 0. 0. 1. 0.]\n",
      " [0. 0. 0. 1. 0.]\n",
      " [0. 0. 0. 1. 0.]\n",
      " [0. 0. 0. 1. 0.]\n",
      " [0. 0. 0. 1. 0.]\n",
      " [0. 0. 1. 0. 0.]\n",
      " [0. 1. 0. 0. 0.]\n",
      " [0. 0. 0. 1. 0.]\n",
      " [0. 1. 0. 0. 0.]\n",
      " [0. 0. 0. 1. 0.]\n",
      " [1. 0. 0. 0. 0.]\n",
      " [0. 1. 0. 0. 0.]\n",
      " [0. 1. 0. 0. 0.]\n",
      " [0. 0. 1. 0. 0.]\n",
      " [0. 0. 0. 1. 0.]\n",
      " [0. 0. 0. 1. 0.]\n",
      " [0. 1. 0. 0. 0.]\n",
      " [0. 0. 1. 0. 0.]\n",
      " [0. 0. 0. 1. 0.]\n",
      " [0. 0. 0. 1. 0.]\n",
      " [0. 0. 1. 0. 0.]\n",
      " [0. 0. 1. 0. 0.]\n",
      " [0. 0. 0. 1. 0.]\n",
      " [0. 0. 1. 0. 0.]\n",
      " [0. 0. 0. 1. 0.]\n",
      " [0. 1. 0. 0. 0.]\n",
      " [0. 1. 0. 0. 0.]\n",
      " [0. 0. 1. 0. 0.]\n",
      " [0. 1. 0. 0. 0.]\n",
      " [0. 1. 0. 0. 0.]\n",
      " [1. 0. 0. 0. 0.]\n",
      " [0. 0. 0. 1. 0.]\n",
      " [0. 1. 0. 0. 0.]\n",
      " [0. 0. 0. 1. 0.]\n",
      " [0. 1. 0. 0. 0.]\n",
      " [0. 0. 0. 1. 0.]\n",
      " [0. 0. 1. 0. 0.]\n",
      " [0. 0. 1. 0. 0.]\n",
      " [0. 0. 0. 1. 0.]\n",
      " [0. 1. 0. 0. 0.]\n",
      " [0. 0. 0. 1. 0.]\n",
      " [0. 1. 0. 0. 0.]\n",
      " [0. 0. 0. 1. 0.]\n",
      " [0. 0. 1. 0. 0.]\n",
      " [0. 0. 0. 1. 0.]\n",
      " [0. 1. 0. 0. 0.]\n",
      " [0. 0. 1. 0. 0.]\n",
      " [0. 0. 0. 1. 0.]\n",
      " [0. 1. 0. 0. 0.]\n",
      " [0. 0. 0. 1. 0.]\n",
      " [0. 0. 0. 1. 0.]\n",
      " [0. 1. 0. 0. 0.]\n",
      " [0. 1. 0. 0. 0.]\n",
      " [0. 0. 1. 0. 0.]\n",
      " [0. 0. 0. 1. 0.]\n",
      " [0. 0. 0. 1. 0.]\n",
      " [0. 0. 0. 1. 0.]\n",
      " [0. 0. 1. 0. 0.]\n",
      " [0. 1. 0. 0. 0.]\n",
      " [0. 0. 0. 1. 0.]\n",
      " [0. 1. 0. 0. 0.]\n",
      " [0. 0. 1. 0. 0.]\n",
      " [1. 0. 0. 0. 0.]\n",
      " [0. 0. 1. 0. 0.]\n",
      " [0. 0. 1. 0. 0.]\n",
      " [0. 1. 0. 0. 0.]\n",
      " [0. 1. 0. 0. 0.]\n",
      " [0. 0. 1. 0. 0.]\n",
      " [0. 1. 0. 0. 0.]]\n"
     ]
    }
   ],
   "source": [
    "# remove 2n d column of zeros\n",
    "y_cat = np.delete(y_cat, np.s_[1:2], axis=1)   \n",
    "print(y_cat)"
   ]
  },
  {
   "cell_type": "code",
   "execution_count": 15,
   "metadata": {},
   "outputs": [],
   "source": [
    "# split into train and test sets\n",
    "X_train, X_test, y_train, y_test = train_test_split(\n",
    "    X, y_cat, test_size=0.2,\n",
    "    stratify=y_cat, random_state=0\n",
    ")"
   ]
  },
  {
   "cell_type": "code",
   "execution_count": 16,
   "metadata": {},
   "outputs": [],
   "source": [
    "# define the hyper-parameters\n",
    "p = {\n",
    "    'learning_rate': [0.01, 0.005],\n",
    "    'l1_reg': [0, 0.0001],\n",
    "    'l2_reg': [0, 0.0001, 0.001],\n",
    "    'dropout': [0, 0.2, 0.5]\n",
    "}"
   ]
  },
  {
   "cell_type": "code",
   "execution_count": 17,
   "metadata": {},
   "outputs": [],
   "source": [
    "# add input parameters to the function\n",
    "def sarcoma(x_train, y_train, x_val, y_val, params):\n",
    "    \n",
    "    # replace the hyperparameter inputs with references to params dictionary \n",
    "    model = Sequential()\n",
    "    model.add(Dense(5000, activation='relu', input_dim=20605))\n",
    "    model.add(Dense(5000, kernel_regularizer=regularizers.l1_l2(params['l1_reg'],params['l2_reg']), activation='relu'))\n",
    "    model.add(Dropout(params['dropout']))\n",
    "    model.add(Dense(5000, kernel_regularizer=regularizers.l1_l2(params['l1_reg'],params['l2_reg']), activation='relu'))\n",
    "    model.add(Dropout(params['dropout']))\n",
    "    model.add(Dense(5, activation='softmax'))\n",
    "    sgd = optimizers.SGD(lr=params['learning_rate'])\n",
    "#   sgd = optimizers.SGD(lr=0.005)\n",
    "    model.compile(loss='categorical_crossentropy', optimizer=sgd, metrics=['accuracy'])\n",
    "    \n",
    "    # make sure history object is returned by model.fit()\n",
    "    out = model.fit(x=x_train, \n",
    "                    y=y_train,\n",
    "                    validation_data=[x_val, y_val],\n",
    "                    epochs=10,\n",
    "                    batch_size=32,\n",
    "                    verbose=1)\n",
    "    \n",
    "    # modify the output model\n",
    "    return out, model"
   ]
  },
  {
   "cell_type": "code",
   "execution_count": 18,
   "metadata": {},
   "outputs": [
    {
     "name": "stderr",
     "output_type": "stream",
     "text": [
      "  0%|          | 0/10 [00:00<?, ?it/s]INFO:plaidml:Opening device \"metal_amd_radeon_pro_560x.0\"\n"
     ]
    },
    {
     "name": "stdout",
     "output_type": "stream",
     "text": [
      "Train on 120 samples, validate on 31 samples\n",
      "Epoch 1/10\n",
      "120/120 [==============================] - 4s 31ms/step - loss: 11.3252 - acc: 0.5083 - val_loss: 10.9351 - val_acc: 0.7097\n",
      "Epoch 2/10\n",
      "120/120 [==============================] - 1s 12ms/step - loss: 10.4714 - acc: 0.8750 - val_loss: 10.8002 - val_acc: 0.7097\n",
      "Epoch 3/10\n",
      "120/120 [==============================] - 2s 13ms/step - loss: 10.2447 - acc: 0.9667 - val_loss: 10.7447 - val_acc: 0.8065\n",
      "Epoch 4/10\n",
      "120/120 [==============================] - 2s 13ms/step - loss: 10.1885 - acc: 0.9750 - val_loss: 10.7141 - val_acc: 0.7742\n",
      "Epoch 5/10\n",
      "120/120 [==============================] - 2s 13ms/step - loss: 10.1230 - acc: 0.9917 - val_loss: 10.6871 - val_acc: 0.8065\n",
      "Epoch 6/10\n",
      "120/120 [==============================] - 2s 13ms/step - loss: 10.0881 - acc: 1.0000 - val_loss: 10.6694 - val_acc: 0.8065\n",
      "Epoch 7/10\n",
      "120/120 [==============================] - 2s 13ms/step - loss: 10.0706 - acc: 1.0000 - val_loss: 10.6612 - val_acc: 0.8710\n",
      "Epoch 8/10\n",
      "120/120 [==============================] - 2s 13ms/step - loss: 10.0616 - acc: 1.0000 - val_loss: 10.6534 - val_acc: 0.8710\n",
      "Epoch 9/10\n",
      "120/120 [==============================] - 2s 13ms/step - loss: 10.0441 - acc: 1.0000 - val_loss: 10.6474 - val_acc: 0.8710\n",
      "Epoch 10/10\n",
      "120/120 [==============================] - 2s 13ms/step - loss: 10.0410 - acc: 1.0000 - val_loss: 10.6416 - val_acc: 0.8710\n"
     ]
    },
    {
     "name": "stderr",
     "output_type": "stream",
     "text": [
      " 10%|█         | 1/10 [00:19<02:59, 19.93s/it]INFO:plaidml:Opening device \"metal_amd_radeon_pro_560x.0\"\n"
     ]
    },
    {
     "name": "stdout",
     "output_type": "stream",
     "text": [
      "Train on 120 samples, validate on 31 samples\n",
      "Epoch 1/10\n",
      "120/120 [==============================] - 3s 29ms/step - loss: 11.8128 - acc: 0.4500 - val_loss: 11.7041 - val_acc: 0.3871\n",
      "Epoch 2/10\n",
      "120/120 [==============================] - 2s 13ms/step - loss: 10.7759 - acc: 0.7000 - val_loss: 10.9132 - val_acc: 0.6129\n",
      "Epoch 3/10\n",
      "120/120 [==============================] - 2s 13ms/step - loss: 10.4760 - acc: 0.8500 - val_loss: 10.8032 - val_acc: 0.7097\n",
      "Epoch 4/10\n",
      "120/120 [==============================] - 2s 13ms/step - loss: 10.2480 - acc: 0.9417 - val_loss: 10.7383 - val_acc: 0.6774\n",
      "Epoch 5/10\n",
      "120/120 [==============================] - 2s 13ms/step - loss: 10.1896 - acc: 0.9667 - val_loss: 10.7325 - val_acc: 0.7419\n",
      "Epoch 6/10\n",
      "120/120 [==============================] - 2s 13ms/step - loss: 10.1736 - acc: 0.9583 - val_loss: 10.6938 - val_acc: 0.8065\n",
      "Epoch 7/10\n",
      "120/120 [==============================] - 2s 13ms/step - loss: 10.1274 - acc: 0.9833 - val_loss: 10.6665 - val_acc: 0.7742\n",
      "Epoch 8/10\n",
      "120/120 [==============================] - 2s 13ms/step - loss: 10.1220 - acc: 0.9750 - val_loss: 10.6635 - val_acc: 0.7742\n",
      "Epoch 9/10\n",
      "120/120 [==============================] - 2s 13ms/step - loss: 10.0622 - acc: 0.9917 - val_loss: 10.6680 - val_acc: 0.8065\n",
      "Epoch 10/10\n",
      "120/120 [==============================] - 2s 13ms/step - loss: 10.0786 - acc: 0.9917 - val_loss: 10.6498 - val_acc: 0.7742\n"
     ]
    },
    {
     "name": "stderr",
     "output_type": "stream",
     "text": [
      " 20%|██        | 2/10 [00:39<02:38, 19.77s/it]INFO:plaidml:Opening device \"metal_amd_radeon_pro_560x.0\"\n"
     ]
    },
    {
     "name": "stdout",
     "output_type": "stream",
     "text": [
      "Train on 120 samples, validate on 31 samples\n",
      "Epoch 1/10\n",
      "120/120 [==============================] - 7s 57ms/step - loss: 73.7166 - acc: 0.3750 - val_loss: 71.9722 - val_acc: 0.7097\n",
      "Epoch 2/10\n",
      "120/120 [==============================] - 4s 36ms/step - loss: 71.8895 - acc: 0.7667 - val_loss: 71.8871 - val_acc: 0.8387\n",
      "Epoch 3/10\n",
      "120/120 [==============================] - 3s 29ms/step - loss: 71.4024 - acc: 0.9250 - val_loss: 71.8513 - val_acc: 0.7097\n",
      "Epoch 4/10\n",
      "120/120 [==============================] - 3s 24ms/step - loss: 71.2734 - acc: 0.9667 - val_loss: 71.6949 - val_acc: 0.8065\n",
      "Epoch 5/10\n",
      "120/120 [==============================] - 3s 24ms/step - loss: 71.1658 - acc: 0.9917 - val_loss: 71.6900 - val_acc: 0.8065\n",
      "Epoch 6/10\n",
      "120/120 [==============================] - 3s 24ms/step - loss: 71.1096 - acc: 1.0000 - val_loss: 71.6216 - val_acc: 0.7742\n",
      "Epoch 7/10\n",
      "120/120 [==============================] - 3s 24ms/step - loss: 71.0618 - acc: 1.0000 - val_loss: 71.6116 - val_acc: 0.8065\n",
      "Epoch 8/10\n",
      "120/120 [==============================] - 3s 24ms/step - loss: 71.0309 - acc: 1.0000 - val_loss: 71.5648 - val_acc: 0.8065\n",
      "Epoch 9/10\n",
      "120/120 [==============================] - 3s 24ms/step - loss: 70.9915 - acc: 1.0000 - val_loss: 71.5654 - val_acc: 0.8065\n",
      "Epoch 10/10\n",
      "120/120 [==============================] - 3s 24ms/step - loss: 70.9621 - acc: 1.0000 - val_loss: 71.5089 - val_acc: 0.8065\n"
     ]
    },
    {
     "name": "stderr",
     "output_type": "stream",
     "text": [
      " 30%|███       | 3/10 [01:16<02:54, 24.91s/it]INFO:plaidml:Opening device \"metal_amd_radeon_pro_560x.0\"\n"
     ]
    },
    {
     "name": "stdout",
     "output_type": "stream",
     "text": [
      "Train on 120 samples, validate on 31 samples\n",
      "Epoch 1/10\n",
      "120/120 [==============================] - 5s 42ms/step - loss: 72.9369 - acc: 0.3833 - val_loss: 72.3491 - val_acc: 0.5484\n",
      "Epoch 2/10\n",
      "120/120 [==============================] - 5s 43ms/step - loss: 71.9908 - acc: 0.6917 - val_loss: 72.0381 - val_acc: 0.8065\n",
      "Epoch 3/10\n",
      "120/120 [==============================] - 3s 25ms/step - loss: 71.5743 - acc: 0.9083 - val_loss: 72.1314 - val_acc: 0.6129\n",
      "Epoch 4/10\n",
      "120/120 [==============================] - 3s 24ms/step - loss: 71.5209 - acc: 0.9083 - val_loss: 71.9025 - val_acc: 0.8065\n",
      "Epoch 5/10\n",
      "120/120 [==============================] - 3s 24ms/step - loss: 71.4065 - acc: 0.9583 - val_loss: 71.8160 - val_acc: 0.8387\n",
      "Epoch 6/10\n",
      "120/120 [==============================] - 3s 24ms/step - loss: 71.3455 - acc: 0.9583 - val_loss: 71.8236 - val_acc: 0.7742\n",
      "Epoch 7/10\n",
      "120/120 [==============================] - 3s 24ms/step - loss: 71.2422 - acc: 1.0000 - val_loss: 71.7917 - val_acc: 0.8387\n",
      "Epoch 8/10\n",
      "120/120 [==============================] - 3s 24ms/step - loss: 71.2714 - acc: 0.9667 - val_loss: 71.7742 - val_acc: 0.8387\n",
      "Epoch 9/10\n",
      "120/120 [==============================] - 3s 24ms/step - loss: 71.1918 - acc: 0.9833 - val_loss: 71.7248 - val_acc: 0.8065\n",
      "Epoch 10/10\n",
      "120/120 [==============================] - 3s 24ms/step - loss: 71.1729 - acc: 0.9917 - val_loss: 71.7030 - val_acc: 0.8387\n"
     ]
    },
    {
     "name": "stderr",
     "output_type": "stream",
     "text": [
      " 40%|████      | 4/10 [01:53<02:52, 28.67s/it]INFO:plaidml:Opening device \"metal_amd_radeon_pro_560x.0\"\n"
     ]
    },
    {
     "name": "stdout",
     "output_type": "stream",
     "text": [
      "Train on 120 samples, validate on 31 samples\n",
      "Epoch 1/10\n",
      "120/120 [==============================] - 2s 19ms/step - loss: 1.2689 - acc: 0.5417 - val_loss: 0.9308 - val_acc: 0.5161\n",
      "Epoch 2/10\n",
      "120/120 [==============================] - 1s 5ms/step - loss: 0.5045 - acc: 0.8250 - val_loss: 0.7502 - val_acc: 0.7097\n",
      "Epoch 3/10\n",
      "120/120 [==============================] - 1s 5ms/step - loss: 0.2230 - acc: 0.9833 - val_loss: 0.6952 - val_acc: 0.7097\n",
      "Epoch 4/10\n",
      "120/120 [==============================] - 1s 5ms/step - loss: 0.1412 - acc: 1.0000 - val_loss: 0.6438 - val_acc: 0.8065\n",
      "Epoch 5/10\n",
      "120/120 [==============================] - 1s 5ms/step - loss: 0.1183 - acc: 1.0000 - val_loss: 0.6256 - val_acc: 0.8387\n",
      "Epoch 6/10\n",
      "120/120 [==============================] - 1s 5ms/step - loss: 0.0929 - acc: 1.0000 - val_loss: 0.6120 - val_acc: 0.8065\n",
      "Epoch 7/10\n",
      "120/120 [==============================] - 1s 5ms/step - loss: 0.0726 - acc: 1.0000 - val_loss: 0.6322 - val_acc: 0.8065\n",
      "Epoch 8/10\n",
      "120/120 [==============================] - 1s 5ms/step - loss: 0.0615 - acc: 1.0000 - val_loss: 0.6069 - val_acc: 0.8065\n",
      "Epoch 9/10\n",
      "120/120 [==============================] - 1s 5ms/step - loss: 0.0567 - acc: 1.0000 - val_loss: 0.5842 - val_acc: 0.8065\n",
      "Epoch 10/10\n",
      "120/120 [==============================] - 1s 5ms/step - loss: 0.0430 - acc: 1.0000 - val_loss: 0.5820 - val_acc: 0.8065\n"
     ]
    },
    {
     "name": "stderr",
     "output_type": "stream",
     "text": [
      " 50%|█████     | 5/10 [02:04<01:56, 23.21s/it]INFO:plaidml:Opening device \"metal_amd_radeon_pro_560x.0\"\n"
     ]
    },
    {
     "name": "stdout",
     "output_type": "stream",
     "text": [
      "Train on 120 samples, validate on 31 samples\n",
      "Epoch 1/10\n",
      "120/120 [==============================] - 2s 16ms/step - loss: 1.9997 - acc: 0.3500 - val_loss: 0.9706 - val_acc: 0.6129\n",
      "Epoch 2/10\n",
      "120/120 [==============================] - 1s 5ms/step - loss: 0.2678 - acc: 0.9167 - val_loss: 0.7035 - val_acc: 0.7742\n",
      "Epoch 3/10\n",
      "120/120 [==============================] - 1s 5ms/step - loss: 0.0884 - acc: 1.0000 - val_loss: 0.6563 - val_acc: 0.8387\n",
      "Epoch 4/10\n",
      "120/120 [==============================] - 1s 5ms/step - loss: 0.0548 - acc: 1.0000 - val_loss: 0.6442 - val_acc: 0.8065\n",
      "Epoch 5/10\n",
      "120/120 [==============================] - 1s 5ms/step - loss: 0.0401 - acc: 1.0000 - val_loss: 0.6268 - val_acc: 0.8387\n",
      "Epoch 6/10\n",
      "120/120 [==============================] - 1s 5ms/step - loss: 0.0338 - acc: 1.0000 - val_loss: 0.6231 - val_acc: 0.8387\n",
      "Epoch 7/10\n",
      "120/120 [==============================] - 1s 5ms/step - loss: 0.0270 - acc: 1.0000 - val_loss: 0.6144 - val_acc: 0.8387\n",
      "Epoch 8/10\n",
      "120/120 [==============================] - 1s 5ms/step - loss: 0.0226 - acc: 1.0000 - val_loss: 0.6107 - val_acc: 0.8387\n",
      "Epoch 9/10\n",
      "120/120 [==============================] - 1s 5ms/step - loss: 0.0200 - acc: 1.0000 - val_loss: 0.6102 - val_acc: 0.8387\n",
      "Epoch 10/10\n",
      "120/120 [==============================] - 1s 5ms/step - loss: 0.0166 - acc: 1.0000 - val_loss: 0.6065 - val_acc: 0.8387\n"
     ]
    },
    {
     "name": "stderr",
     "output_type": "stream",
     "text": [
      " 60%|██████    | 6/10 [02:13<01:16, 19.15s/it]INFO:plaidml:Opening device \"metal_amd_radeon_pro_560x.0\"\n"
     ]
    },
    {
     "name": "stdout",
     "output_type": "stream",
     "text": [
      "Train on 120 samples, validate on 31 samples\n",
      "Epoch 1/10\n",
      "120/120 [==============================] - 3s 25ms/step - loss: 11.5162 - acc: 0.4583 - val_loss: 11.2207 - val_acc: 0.5806\n",
      "Epoch 2/10\n",
      "120/120 [==============================] - 2s 16ms/step - loss: 10.4248 - acc: 0.8667 - val_loss: 10.6980 - val_acc: 0.7097\n",
      "Epoch 3/10\n",
      "120/120 [==============================] - 2s 13ms/step - loss: 10.1165 - acc: 0.9750 - val_loss: 10.7852 - val_acc: 0.7097\n",
      "Epoch 4/10\n",
      "120/120 [==============================] - 2s 13ms/step - loss: 10.0585 - acc: 0.9917 - val_loss: 10.6699 - val_acc: 0.8065\n",
      "Epoch 5/10\n",
      "120/120 [==============================] - 2s 13ms/step - loss: 10.0302 - acc: 1.0000 - val_loss: 10.6371 - val_acc: 0.8065\n",
      "Epoch 6/10\n",
      "120/120 [==============================] - 2s 13ms/step - loss: 10.0186 - acc: 1.0000 - val_loss: 10.6172 - val_acc: 0.8065\n",
      "Epoch 7/10\n",
      "120/120 [==============================] - 2s 13ms/step - loss: 10.0187 - acc: 1.0000 - val_loss: 10.6083 - val_acc: 0.8065\n",
      "Epoch 8/10\n",
      "120/120 [==============================] - 2s 13ms/step - loss: 10.0079 - acc: 1.0000 - val_loss: 10.5988 - val_acc: 0.8065\n",
      "Epoch 9/10\n",
      "120/120 [==============================] - 2s 13ms/step - loss: 10.0060 - acc: 1.0000 - val_loss: 10.5982 - val_acc: 0.8387\n",
      "Epoch 10/10\n",
      "120/120 [==============================] - 2s 13ms/step - loss: 10.0002 - acc: 1.0000 - val_loss: 10.5982 - val_acc: 0.8387\n"
     ]
    },
    {
     "name": "stderr",
     "output_type": "stream",
     "text": [
      " 70%|███████   | 7/10 [02:34<00:58, 19.55s/it]INFO:plaidml:Opening device \"metal_amd_radeon_pro_560x.0\"\n"
     ]
    },
    {
     "name": "stdout",
     "output_type": "stream",
     "text": [
      "Train on 120 samples, validate on 31 samples\n",
      "Epoch 1/10\n",
      "120/120 [==============================] - 2s 19ms/step - loss: 1.9963 - acc: 0.3500 - val_loss: 1.2351 - val_acc: 0.4839\n",
      "Epoch 2/10\n",
      "120/120 [==============================] - 1s 5ms/step - loss: 0.8277 - acc: 0.6917 - val_loss: 0.7717 - val_acc: 0.7419\n",
      "Epoch 3/10\n",
      "120/120 [==============================] - 1s 5ms/step - loss: 0.4647 - acc: 0.8167 - val_loss: 0.8275 - val_acc: 0.6452\n",
      "Epoch 4/10\n",
      "120/120 [==============================] - 1s 5ms/step - loss: 0.2791 - acc: 0.9417 - val_loss: 0.6439 - val_acc: 0.8065\n",
      "Epoch 5/10\n",
      "120/120 [==============================] - 1s 5ms/step - loss: 0.1661 - acc: 0.9750 - val_loss: 0.6485 - val_acc: 0.8387\n",
      "Epoch 6/10\n",
      "120/120 [==============================] - 1s 5ms/step - loss: 0.1572 - acc: 0.9583 - val_loss: 0.5866 - val_acc: 0.8387\n",
      "Epoch 7/10\n",
      "120/120 [==============================] - 1s 5ms/step - loss: 0.1450 - acc: 0.9667 - val_loss: 0.5672 - val_acc: 0.8387\n",
      "Epoch 8/10\n",
      "120/120 [==============================] - 1s 5ms/step - loss: 0.1520 - acc: 0.9583 - val_loss: 0.6126 - val_acc: 0.8065\n",
      "Epoch 9/10\n",
      "120/120 [==============================] - 1s 5ms/step - loss: 0.0989 - acc: 0.9833 - val_loss: 0.5987 - val_acc: 0.8387\n",
      "Epoch 10/10\n",
      "120/120 [==============================] - 1s 4ms/step - loss: 0.0747 - acc: 0.9917 - val_loss: 0.6271 - val_acc: 0.8065\n"
     ]
    },
    {
     "name": "stderr",
     "output_type": "stream",
     "text": [
      " 80%|████████  | 8/10 [02:44<00:33, 16.63s/it]INFO:plaidml:Opening device \"metal_amd_radeon_pro_560x.0\"\n"
     ]
    },
    {
     "name": "stdout",
     "output_type": "stream",
     "text": [
      "Train on 120 samples, validate on 31 samples\n",
      "Epoch 1/10\n",
      "120/120 [==============================] - 5s 44ms/step - loss: 63.4592 - acc: 0.4083 - val_loss: 62.5425 - val_acc: 0.6129\n",
      "Epoch 2/10\n",
      "120/120 [==============================] - 3s 25ms/step - loss: 61.6099 - acc: 0.8333 - val_loss: 61.8061 - val_acc: 0.7419\n",
      "Epoch 3/10\n",
      "120/120 [==============================] - 2s 18ms/step - loss: 61.3018 - acc: 0.9833 - val_loss: 61.7478 - val_acc: 0.8387\n",
      "Epoch 4/10\n",
      "120/120 [==============================] - 2s 18ms/step - loss: 61.2273 - acc: 1.0000 - val_loss: 61.7123 - val_acc: 0.8387\n",
      "Epoch 5/10\n",
      "120/120 [==============================] - 2s 18ms/step - loss: 61.1908 - acc: 1.0000 - val_loss: 61.6878 - val_acc: 0.8387\n",
      "Epoch 6/10\n",
      "120/120 [==============================] - 2s 18ms/step - loss: 61.1673 - acc: 1.0000 - val_loss: 61.6601 - val_acc: 0.8710\n",
      "Epoch 7/10\n",
      "120/120 [==============================] - 2s 18ms/step - loss: 61.1372 - acc: 1.0000 - val_loss: 61.6370 - val_acc: 0.8710\n",
      "Epoch 8/10\n",
      "120/120 [==============================] - 2s 18ms/step - loss: 61.1158 - acc: 1.0000 - val_loss: 61.6208 - val_acc: 0.8387\n",
      "Epoch 9/10\n",
      "120/120 [==============================] - 2s 18ms/step - loss: 61.0911 - acc: 1.0000 - val_loss: 61.5965 - val_acc: 0.8387\n",
      "Epoch 10/10\n",
      "120/120 [==============================] - 2s 18ms/step - loss: 61.0718 - acc: 1.0000 - val_loss: 61.5747 - val_acc: 0.8387\n"
     ]
    },
    {
     "name": "stderr",
     "output_type": "stream",
     "text": [
      " 90%|█████████ | 9/10 [03:12<00:20, 20.08s/it]INFO:plaidml:Opening device \"metal_amd_radeon_pro_560x.0\"\n"
     ]
    },
    {
     "name": "stdout",
     "output_type": "stream",
     "text": [
      "Train on 120 samples, validate on 31 samples\n",
      "Epoch 1/10\n",
      "120/120 [==============================] - 4s 31ms/step - loss: 3.0266 - acc: 0.3333 - val_loss: 2.0709 - val_acc: 0.5484\n",
      "Epoch 2/10\n",
      "120/120 [==============================] - 1s 12ms/step - loss: 1.7513 - acc: 0.7333 - val_loss: 1.7948 - val_acc: 0.6452\n",
      "Epoch 3/10\n",
      "120/120 [==============================] - 2s 13ms/step - loss: 1.4920 - acc: 0.8167 - val_loss: 1.6820 - val_acc: 0.8710\n",
      "Epoch 4/10\n",
      "120/120 [==============================] - 2s 13ms/step - loss: 1.3153 - acc: 0.9000 - val_loss: 1.6285 - val_acc: 0.8710\n",
      "Epoch 5/10\n",
      "120/120 [==============================] - 2s 13ms/step - loss: 1.2104 - acc: 0.9417 - val_loss: 1.6080 - val_acc: 0.8710\n",
      "Epoch 6/10\n",
      "120/120 [==============================] - 2s 13ms/step - loss: 1.2376 - acc: 0.9250 - val_loss: 1.6268 - val_acc: 0.8065\n",
      "Epoch 7/10\n",
      "120/120 [==============================] - 2s 13ms/step - loss: 1.1467 - acc: 0.9667 - val_loss: 1.6201 - val_acc: 0.8387\n",
      "Epoch 8/10\n",
      "120/120 [==============================] - 2s 13ms/step - loss: 1.1048 - acc: 0.9917 - val_loss: 1.6013 - val_acc: 0.8065\n",
      "Epoch 9/10\n",
      "120/120 [==============================] - 2s 13ms/step - loss: 1.1083 - acc: 0.9750 - val_loss: 1.6186 - val_acc: 0.8065\n",
      "Epoch 10/10\n",
      "120/120 [==============================] - 2s 13ms/step - loss: 1.0496 - acc: 1.0000 - val_loss: 1.6260 - val_acc: 0.8065\n"
     ]
    },
    {
     "name": "stderr",
     "output_type": "stream",
     "text": [
      "100%|██████████| 10/10 [03:32<00:00, 21.27s/it]\n"
     ]
    }
   ],
   "source": [
    "t = ta.Scan(x=X_train, y=y_train, params=p, model=sarcoma, experiment_name='sarcoma-mlp', val_split=.2, fraction_limit=0.3)"
   ]
  },
  {
   "cell_type": "code",
   "execution_count": 19,
   "metadata": {},
   "outputs": [
    {
     "name": "stderr",
     "output_type": "stream",
     "text": [
      "INFO:plaidml:Opening device \"metal_amd_radeon_pro_560x.0\"\n"
     ]
    }
   ],
   "source": [
    "bestmodel = t.best_model(metric='val_acc')"
   ]
  },
  {
   "cell_type": "code",
   "execution_count": 20,
   "metadata": {},
   "outputs": [
    {
     "name": "stdout",
     "output_type": "stream",
     "text": [
      "_________________________________________________________________\n",
      "Layer (type)                 Output Shape              Param #   \n",
      "=================================================================\n",
      "dense_1 (Dense)              (None, 5000)              103030000 \n",
      "_________________________________________________________________\n",
      "dense_2 (Dense)              (None, 5000)              25005000  \n",
      "_________________________________________________________________\n",
      "dropout_1 (Dropout)          (None, 5000)              0         \n",
      "_________________________________________________________________\n",
      "dense_3 (Dense)              (None, 5000)              25005000  \n",
      "_________________________________________________________________\n",
      "dropout_2 (Dropout)          (None, 5000)              0         \n",
      "_________________________________________________________________\n",
      "dense_4 (Dense)              (None, 5)                 25005     \n",
      "=================================================================\n",
      "Total params: 153,065,005\n",
      "Trainable params: 153,065,005\n",
      "Non-trainable params: 0\n",
      "_________________________________________________________________\n"
     ]
    }
   ],
   "source": [
    "bestmodel.summary()"
   ]
  },
  {
   "cell_type": "code",
   "execution_count": 21,
   "metadata": {},
   "outputs": [
    {
     "data": {
      "text/html": [
       "<div>\n",
       "<style scoped>\n",
       "    .dataframe tbody tr th:only-of-type {\n",
       "        vertical-align: middle;\n",
       "    }\n",
       "\n",
       "    .dataframe tbody tr th {\n",
       "        vertical-align: top;\n",
       "    }\n",
       "\n",
       "    .dataframe thead th {\n",
       "        text-align: right;\n",
       "    }\n",
       "</style>\n",
       "<table border=\"1\" class=\"dataframe\">\n",
       "  <thead>\n",
       "    <tr style=\"text-align: right;\">\n",
       "      <th></th>\n",
       "      <th>round_epochs</th>\n",
       "      <th>val_loss</th>\n",
       "      <th>val_acc</th>\n",
       "      <th>loss</th>\n",
       "      <th>acc</th>\n",
       "      <th>dropout</th>\n",
       "      <th>l1_reg</th>\n",
       "      <th>l2_reg</th>\n",
       "      <th>learning_rate</th>\n",
       "    </tr>\n",
       "  </thead>\n",
       "  <tbody>\n",
       "    <tr>\n",
       "      <th>0</th>\n",
       "      <td>10</td>\n",
       "      <td>10.641623</td>\n",
       "      <td>0.870968</td>\n",
       "      <td>10.041041</td>\n",
       "      <td>1.000000</td>\n",
       "      <td>0.2</td>\n",
       "      <td>0.0000</td>\n",
       "      <td>0.0010</td>\n",
       "      <td>0.005</td>\n",
       "    </tr>\n",
       "    <tr>\n",
       "      <th>3</th>\n",
       "      <td>10</td>\n",
       "      <td>71.702972</td>\n",
       "      <td>0.838710</td>\n",
       "      <td>71.172902</td>\n",
       "      <td>0.991667</td>\n",
       "      <td>0.5</td>\n",
       "      <td>0.0001</td>\n",
       "      <td>0.0010</td>\n",
       "      <td>0.005</td>\n",
       "    </tr>\n",
       "    <tr>\n",
       "      <th>5</th>\n",
       "      <td>10</td>\n",
       "      <td>0.606533</td>\n",
       "      <td>0.838710</td>\n",
       "      <td>0.016581</td>\n",
       "      <td>1.000000</td>\n",
       "      <td>0.2</td>\n",
       "      <td>0.0000</td>\n",
       "      <td>0.0000</td>\n",
       "      <td>0.010</td>\n",
       "    </tr>\n",
       "    <tr>\n",
       "      <th>6</th>\n",
       "      <td>10</td>\n",
       "      <td>10.598196</td>\n",
       "      <td>0.838710</td>\n",
       "      <td>10.000211</td>\n",
       "      <td>1.000000</td>\n",
       "      <td>0.2</td>\n",
       "      <td>0.0000</td>\n",
       "      <td>0.0010</td>\n",
       "      <td>0.010</td>\n",
       "    </tr>\n",
       "    <tr>\n",
       "      <th>8</th>\n",
       "      <td>10</td>\n",
       "      <td>61.574654</td>\n",
       "      <td>0.838710</td>\n",
       "      <td>61.071756</td>\n",
       "      <td>1.000000</td>\n",
       "      <td>0.2</td>\n",
       "      <td>0.0001</td>\n",
       "      <td>0.0000</td>\n",
       "      <td>0.010</td>\n",
       "    </tr>\n",
       "    <tr>\n",
       "      <th>2</th>\n",
       "      <td>10</td>\n",
       "      <td>71.508896</td>\n",
       "      <td>0.806452</td>\n",
       "      <td>70.962073</td>\n",
       "      <td>1.000000</td>\n",
       "      <td>0.5</td>\n",
       "      <td>0.0001</td>\n",
       "      <td>0.0010</td>\n",
       "      <td>0.010</td>\n",
       "    </tr>\n",
       "    <tr>\n",
       "      <th>4</th>\n",
       "      <td>10</td>\n",
       "      <td>0.581986</td>\n",
       "      <td>0.806452</td>\n",
       "      <td>0.043034</td>\n",
       "      <td>1.000000</td>\n",
       "      <td>0.2</td>\n",
       "      <td>0.0000</td>\n",
       "      <td>0.0000</td>\n",
       "      <td>0.005</td>\n",
       "    </tr>\n",
       "    <tr>\n",
       "      <th>7</th>\n",
       "      <td>10</td>\n",
       "      <td>0.627085</td>\n",
       "      <td>0.806452</td>\n",
       "      <td>0.074653</td>\n",
       "      <td>0.991667</td>\n",
       "      <td>0.5</td>\n",
       "      <td>0.0000</td>\n",
       "      <td>0.0000</td>\n",
       "      <td>0.005</td>\n",
       "    </tr>\n",
       "    <tr>\n",
       "      <th>9</th>\n",
       "      <td>10</td>\n",
       "      <td>1.626045</td>\n",
       "      <td>0.806452</td>\n",
       "      <td>1.049650</td>\n",
       "      <td>1.000000</td>\n",
       "      <td>0.5</td>\n",
       "      <td>0.0000</td>\n",
       "      <td>0.0001</td>\n",
       "      <td>0.005</td>\n",
       "    </tr>\n",
       "    <tr>\n",
       "      <th>1</th>\n",
       "      <td>10</td>\n",
       "      <td>10.649786</td>\n",
       "      <td>0.774194</td>\n",
       "      <td>10.078622</td>\n",
       "      <td>0.991667</td>\n",
       "      <td>0.5</td>\n",
       "      <td>0.0000</td>\n",
       "      <td>0.0010</td>\n",
       "      <td>0.005</td>\n",
       "    </tr>\n",
       "  </tbody>\n",
       "</table>\n",
       "</div>"
      ],
      "text/plain": [
       "   round_epochs   val_loss   val_acc       loss       acc  dropout  l1_reg  \\\n",
       "0            10  10.641623  0.870968  10.041041  1.000000      0.2  0.0000   \n",
       "3            10  71.702972  0.838710  71.172902  0.991667      0.5  0.0001   \n",
       "5            10   0.606533  0.838710   0.016581  1.000000      0.2  0.0000   \n",
       "6            10  10.598196  0.838710  10.000211  1.000000      0.2  0.0000   \n",
       "8            10  61.574654  0.838710  61.071756  1.000000      0.2  0.0001   \n",
       "2            10  71.508896  0.806452  70.962073  1.000000      0.5  0.0001   \n",
       "4            10   0.581986  0.806452   0.043034  1.000000      0.2  0.0000   \n",
       "7            10   0.627085  0.806452   0.074653  0.991667      0.5  0.0000   \n",
       "9            10   1.626045  0.806452   1.049650  1.000000      0.5  0.0000   \n",
       "1            10  10.649786  0.774194  10.078622  0.991667      0.5  0.0000   \n",
       "\n",
       "   l2_reg  learning_rate  \n",
       "0  0.0010          0.005  \n",
       "3  0.0010          0.005  \n",
       "5  0.0000          0.010  \n",
       "6  0.0010          0.010  \n",
       "8  0.0000          0.010  \n",
       "2  0.0010          0.010  \n",
       "4  0.0000          0.005  \n",
       "7  0.0000          0.005  \n",
       "9  0.0001          0.005  \n",
       "1  0.0010          0.005  "
      ]
     },
     "execution_count": 21,
     "metadata": {},
     "output_type": "execute_result"
    }
   ],
   "source": [
    "t.data.sort_values('val_acc', ascending=False)"
   ]
  },
  {
   "cell_type": "code",
   "execution_count": 22,
   "metadata": {},
   "outputs": [
    {
     "data": {
      "image/png": "[encoded data removed]",
      "text/plain": [
       "<Figure size 576x576 with 2 Axes>"
      ]
     },
     "metadata": {},
     "output_type": "display_data"
    }
   ],
   "source": [
    "a = ta.Analyze(t)\n",
    "a.plot_corr('val_acc', ['loss', 'acc', 'precision', 'recall', 'f1score',\n",
    "                            'val_loss', 'val_acc', 'val_precision', 'val_recall'])"
   ]
  },
  {
   "cell_type": "code",
   "execution_count": 23,
   "metadata": {},
   "outputs": [
    {
     "name": "stdout",
     "output_type": "stream",
     "text": [
      "38/38 [==============================] - 1s 37ms/step\n",
      "test loss: 10.57\n",
      "test accuracy: 0.79\n",
      "\n"
     ]
    }
   ],
   "source": [
    "#  \n",
    "sgd=optimizers.SGD(lr=0.01)\n",
    "bestmodel.compile(loss='categorical_crossentropy', optimizer=sgd, metrics=['accuracy'])\n",
    "\n",
    "print(\"\"\"test loss: %.2f\n",
    "test accuracy: %.2f\n",
    "\"\"\" % tuple(bestmodel.evaluate(X_test, y_test)))"
   ]
  },
  {
   "cell_type": "code",
   "execution_count": 24,
   "metadata": {},
   "outputs": [
    {
     "name": "stdout",
     "output_type": "stream",
     "text": [
      "              precision    recall  f1-score   support\n",
      "\n",
      "     Class 0       0.25      0.50      0.33         2\n",
      "     Class 1       0.75      0.67      0.71         9\n",
      "     Class 2       0.82      0.90      0.86        10\n",
      "     Class 3       0.80      0.75      0.77        16\n",
      "     Class 4       0.00      0.00      0.00         1\n",
      "\n",
      "    accuracy                           0.74        38\n",
      "   macro avg       0.52      0.56      0.53        38\n",
      "weighted avg       0.74      0.74      0.74        38\n",
      "\n"
     ]
    }
   ],
   "source": [
    "predicted_classes = bestmodel.predict(X_test)\n",
    "predicted_classes = np.argmax(np.round(predicted_classes),axis=1)\n",
    "from sklearn.metrics import classification_report\n",
    "target_names = [\"Class {}\".format(i) for i in range(5)]\n",
    "y_test_classes = np.argmax(y_test, axis=-1)\n",
    "print(classification_report(y_test_classes, predicted_classes, target_names=target_names))"
   ]
  },
  {
   "cell_type": "code",
   "execution_count": 25,
   "metadata": {},
   "outputs": [
    {
     "data": {
      "text/plain": [
       "array([[ 1,  0,  0,  1,  0],\n",
       "       [ 2,  6,  0,  1,  0],\n",
       "       [ 0,  0,  9,  1,  0],\n",
       "       [ 1,  2,  1, 12,  0],\n",
       "       [ 0,  0,  1,  0,  0]])"
      ]
     },
     "execution_count": 25,
     "metadata": {},
     "output_type": "execute_result"
    }
   ],
   "source": [
    "from sklearn.metrics import confusion_matrix\n",
    "confusion_matrix(y_test_classes, predicted_classes)"
   ]
  },
  {
   "cell_type": "code",
   "execution_count": null,
   "metadata": {},
   "outputs": [],
   "source": []
  }
 ],
 "metadata": {
  "kernelspec": {
   "display_name": "Python 3",
   "language": "python",
   "name": "python3"
  },
  "language_info": {
   "codemirror_mode": {
    "name": "ipython",
    "version": 3
   },
   "file_extension": ".py",
   "mimetype": "text/x-python",
   "name": "python",
   "nbconvert_exporter": "python",
   "pygments_lexer": "ipython3",
   "version": "3.7.3"
  }
 },
 "nbformat": 4,
 "nbformat_minor": 2
}
