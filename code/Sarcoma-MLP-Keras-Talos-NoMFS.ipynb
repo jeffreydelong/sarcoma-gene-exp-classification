{
 "cells": [
  {
   "cell_type": "code",
   "execution_count": 1,
   "metadata": {},
   "outputs": [],
   "source": [
    "# Imports for Talos and Keras\n",
    "\n",
    "import plaidml.keras\n",
    "plaidml.keras.install_backend()\n",
    "\n",
    "import talos as ta\n",
    "from talos.utils import metrics\n",
    "\n",
    "from keras.models import Sequential\n",
    "from keras.layers import Dense\n",
    "from keras.layers.core import Dropout\n",
    "from keras.layers.core import Activation\n",
    "from keras.utils import np_utils\n",
    "from keras.utils.np_utils import to_categorical\n",
    "from keras.activations import relu, elu\n",
    "from keras import regularizers\n",
    "from keras import optimizers\n",
    "\n",
    "import numpy as np\n",
    "import pandas as pd\n",
    "from sklearn.model_selection import train_test_split"
   ]
  },
  {
   "cell_type": "code",
   "execution_count": 3,
   "metadata": {},
   "outputs": [
    {
     "data": {
      "text/plain": [
       "(189, 20605)"
      ]
     },
     "execution_count": 3,
     "metadata": {},
     "output_type": "execute_result"
    }
   ],
   "source": [
    "# load the sarcoma transcriptome data\n",
    "sarcoma_df = pd.read_csv('Data/sarcoma-gene-exp-FPKM-zscore-no-label-nomfs.csv')\n",
    "sarcoma_df.shape"
   ]
  },
  {
   "cell_type": "code",
   "execution_count": 4,
   "metadata": {},
   "outputs": [
    {
     "data": {
      "text/plain": [
       "(189, 1)"
      ]
     },
     "execution_count": 4,
     "metadata": {},
     "output_type": "execute_result"
    }
   ],
   "source": [
    "# load label data\n",
    "sarcoma_labels_df = pd.read_csv('Data/sarcoma-gene-exp-FPKM-labels-nomfs.csv')\n",
    "sarcoma_labels_df.shape"
   ]
  },
  {
   "cell_type": "code",
   "execution_count": 5,
   "metadata": {},
   "outputs": [
    {
     "name": "stdout",
     "output_type": "stream",
     "text": [
      "[[-0.51154087  0.09480786 -0.35176093 ...  0.51624723  0.02346097\n",
      "   2.48359169]\n",
      " [-0.19129576  0.15347405  0.20261954 ... -0.41028013  2.86123234\n",
      "   0.16777757]\n",
      " [ 0.26472818  2.327348   -0.56049386 ... -0.21651268  0.0192731\n",
      "   0.76332633]\n",
      " ...\n",
      " [-0.2652622  -0.48026337 -1.16285933 ... -0.36779173  0.24949394\n",
      "  -0.36985907]\n",
      " [ 0.24931652 -0.03363532 -0.97441342 ... -0.50605902 -1.23871739\n",
      "   0.28153212]\n",
      " [-0.07085013 -0.29522455 -0.59015045 ... -0.50644652 -0.01137879\n",
      "  -0.39862195]]\n"
     ]
    }
   ],
   "source": [
    "# Convert transcriptome df to np array\n",
    "X = sarcoma_df.to_numpy()\n",
    "print(X)"
   ]
  },
  {
   "cell_type": "code",
   "execution_count": 6,
   "metadata": {},
   "outputs": [
    {
     "name": "stdout",
     "output_type": "stream",
     "text": [
      "[4 2 2 5 3 2 4 4 3 4 4 4 3 0 3 4 2 4 4 0 2 4 3 3 3 2 0 4 4 5 3 3 2 4 4 5 4\n",
      " 3 4 4 5 4 2 4 4 4 4 4 4 2 4 3 3 2 2 4 4 4 4 4 4 4 2 2 3 4 2 3 4 4 3 4 3 2\n",
      " 4 3 2 3 4 4 3 4 3 4 3 4 4 3 4 4 4 0 4 3 4 3 3 3 5 2 0 3 3 4 2 3 0 3 4 2 4\n",
      " 2 0 3 4 4 3 2 2 3 4 4 4 4 4 3 2 4 2 4 0 2 2 3 4 4 2 3 4 4 3 3 4 3 4 2 2 3\n",
      " 2 2 0 4 2 4 2 4 3 3 4 2 4 2 4 3 4 2 3 4 2 4 4 2 2 3 4 4 4 3 2 4 2 3 0 3 3\n",
      " 2 2 3 2]\n"
     ]
    }
   ],
   "source": [
    "# Convert label df to np array\n",
    "y_df = sarcoma_labels_df['label']\n",
    "y = y_df.to_numpy()\n",
    "print(y)"
   ]
  },
  {
   "cell_type": "code",
   "execution_count": 7,
   "metadata": {},
   "outputs": [
    {
     "name": "stdout",
     "output_type": "stream",
     "text": [
      "[[0. 0. 0. 0. 1. 0.]\n",
      " [0. 0. 1. 0. 0. 0.]\n",
      " [0. 0. 1. 0. 0. 0.]\n",
      " ...\n",
      " [0. 0. 1. 0. 0. 0.]\n",
      " [0. 0. 0. 1. 0. 0.]\n",
      " [0. 0. 1. 0. 0. 0.]]\n"
     ]
    }
   ],
   "source": [
    "y_cat = to_categorical(y)\n",
    "print(y_cat)"
   ]
  },
  {
   "cell_type": "code",
   "execution_count": 8,
   "metadata": {},
   "outputs": [
    {
     "name": "stdout",
     "output_type": "stream",
     "text": [
      "[[0. 0. 0. 1. 0.]\n",
      " [0. 1. 0. 0. 0.]\n",
      " [0. 1. 0. 0. 0.]\n",
      " [0. 0. 0. 0. 1.]\n",
      " [0. 0. 1. 0. 0.]\n",
      " [0. 1. 0. 0. 0.]\n",
      " [0. 0. 0. 1. 0.]\n",
      " [0. 0. 0. 1. 0.]\n",
      " [0. 0. 1. 0. 0.]\n",
      " [0. 0. 0. 1. 0.]\n",
      " [0. 0. 0. 1. 0.]\n",
      " [0. 0. 0. 1. 0.]\n",
      " [0. 0. 1. 0. 0.]\n",
      " [1. 0. 0. 0. 0.]\n",
      " [0. 0. 1. 0. 0.]\n",
      " [0. 0. 0. 1. 0.]\n",
      " [0. 1. 0. 0. 0.]\n",
      " [0. 0. 0. 1. 0.]\n",
      " [0. 0. 0. 1. 0.]\n",
      " [1. 0. 0. 0. 0.]\n",
      " [0. 1. 0. 0. 0.]\n",
      " [0. 0. 0. 1. 0.]\n",
      " [0. 0. 1. 0. 0.]\n",
      " [0. 0. 1. 0. 0.]\n",
      " [0. 0. 1. 0. 0.]\n",
      " [0. 1. 0. 0. 0.]\n",
      " [1. 0. 0. 0. 0.]\n",
      " [0. 0. 0. 1. 0.]\n",
      " [0. 0. 0. 1. 0.]\n",
      " [0. 0. 0. 0. 1.]\n",
      " [0. 0. 1. 0. 0.]\n",
      " [0. 0. 1. 0. 0.]\n",
      " [0. 1. 0. 0. 0.]\n",
      " [0. 0. 0. 1. 0.]\n",
      " [0. 0. 0. 1. 0.]\n",
      " [0. 0. 0. 0. 1.]\n",
      " [0. 0. 0. 1. 0.]\n",
      " [0. 0. 1. 0. 0.]\n",
      " [0. 0. 0. 1. 0.]\n",
      " [0. 0. 0. 1. 0.]\n",
      " [0. 0. 0. 0. 1.]\n",
      " [0. 0. 0. 1. 0.]\n",
      " [0. 1. 0. 0. 0.]\n",
      " [0. 0. 0. 1. 0.]\n",
      " [0. 0. 0. 1. 0.]\n",
      " [0. 0. 0. 1. 0.]\n",
      " [0. 0. 0. 1. 0.]\n",
      " [0. 0. 0. 1. 0.]\n",
      " [0. 0. 0. 1. 0.]\n",
      " [0. 1. 0. 0. 0.]\n",
      " [0. 0. 0. 1. 0.]\n",
      " [0. 0. 1. 0. 0.]\n",
      " [0. 0. 1. 0. 0.]\n",
      " [0. 1. 0. 0. 0.]\n",
      " [0. 1. 0. 0. 0.]\n",
      " [0. 0. 0. 1. 0.]\n",
      " [0. 0. 0. 1. 0.]\n",
      " [0. 0. 0. 1. 0.]\n",
      " [0. 0. 0. 1. 0.]\n",
      " [0. 0. 0. 1. 0.]\n",
      " [0. 0. 0. 1. 0.]\n",
      " [0. 0. 0. 1. 0.]\n",
      " [0. 1. 0. 0. 0.]\n",
      " [0. 1. 0. 0. 0.]\n",
      " [0. 0. 1. 0. 0.]\n",
      " [0. 0. 0. 1. 0.]\n",
      " [0. 1. 0. 0. 0.]\n",
      " [0. 0. 1. 0. 0.]\n",
      " [0. 0. 0. 1. 0.]\n",
      " [0. 0. 0. 1. 0.]\n",
      " [0. 0. 1. 0. 0.]\n",
      " [0. 0. 0. 1. 0.]\n",
      " [0. 0. 1. 0. 0.]\n",
      " [0. 1. 0. 0. 0.]\n",
      " [0. 0. 0. 1. 0.]\n",
      " [0. 0. 1. 0. 0.]\n",
      " [0. 1. 0. 0. 0.]\n",
      " [0. 0. 1. 0. 0.]\n",
      " [0. 0. 0. 1. 0.]\n",
      " [0. 0. 0. 1. 0.]\n",
      " [0. 0. 1. 0. 0.]\n",
      " [0. 0. 0. 1. 0.]\n",
      " [0. 0. 1. 0. 0.]\n",
      " [0. 0. 0. 1. 0.]\n",
      " [0. 0. 1. 0. 0.]\n",
      " [0. 0. 0. 1. 0.]\n",
      " [0. 0. 0. 1. 0.]\n",
      " [0. 0. 1. 0. 0.]\n",
      " [0. 0. 0. 1. 0.]\n",
      " [0. 0. 0. 1. 0.]\n",
      " [0. 0. 0. 1. 0.]\n",
      " [1. 0. 0. 0. 0.]\n",
      " [0. 0. 0. 1. 0.]\n",
      " [0. 0. 1. 0. 0.]\n",
      " [0. 0. 0. 1. 0.]\n",
      " [0. 0. 1. 0. 0.]\n",
      " [0. 0. 1. 0. 0.]\n",
      " [0. 0. 1. 0. 0.]\n",
      " [0. 0. 0. 0. 1.]\n",
      " [0. 1. 0. 0. 0.]\n",
      " [1. 0. 0. 0. 0.]\n",
      " [0. 0. 1. 0. 0.]\n",
      " [0. 0. 1. 0. 0.]\n",
      " [0. 0. 0. 1. 0.]\n",
      " [0. 1. 0. 0. 0.]\n",
      " [0. 0. 1. 0. 0.]\n",
      " [1. 0. 0. 0. 0.]\n",
      " [0. 0. 1. 0. 0.]\n",
      " [0. 0. 0. 1. 0.]\n",
      " [0. 1. 0. 0. 0.]\n",
      " [0. 0. 0. 1. 0.]\n",
      " [0. 1. 0. 0. 0.]\n",
      " [1. 0. 0. 0. 0.]\n",
      " [0. 0. 1. 0. 0.]\n",
      " [0. 0. 0. 1. 0.]\n",
      " [0. 0. 0. 1. 0.]\n",
      " [0. 0. 1. 0. 0.]\n",
      " [0. 1. 0. 0. 0.]\n",
      " [0. 1. 0. 0. 0.]\n",
      " [0. 0. 1. 0. 0.]\n",
      " [0. 0. 0. 1. 0.]\n",
      " [0. 0. 0. 1. 0.]\n",
      " [0. 0. 0. 1. 0.]\n",
      " [0. 0. 0. 1. 0.]\n",
      " [0. 0. 0. 1. 0.]\n",
      " [0. 0. 1. 0. 0.]\n",
      " [0. 1. 0. 0. 0.]\n",
      " [0. 0. 0. 1. 0.]\n",
      " [0. 1. 0. 0. 0.]\n",
      " [0. 0. 0. 1. 0.]\n",
      " [1. 0. 0. 0. 0.]\n",
      " [0. 1. 0. 0. 0.]\n",
      " [0. 1. 0. 0. 0.]\n",
      " [0. 0. 1. 0. 0.]\n",
      " [0. 0. 0. 1. 0.]\n",
      " [0. 0. 0. 1. 0.]\n",
      " [0. 1. 0. 0. 0.]\n",
      " [0. 0. 1. 0. 0.]\n",
      " [0. 0. 0. 1. 0.]\n",
      " [0. 0. 0. 1. 0.]\n",
      " [0. 0. 1. 0. 0.]\n",
      " [0. 0. 1. 0. 0.]\n",
      " [0. 0. 0. 1. 0.]\n",
      " [0. 0. 1. 0. 0.]\n",
      " [0. 0. 0. 1. 0.]\n",
      " [0. 1. 0. 0. 0.]\n",
      " [0. 1. 0. 0. 0.]\n",
      " [0. 0. 1. 0. 0.]\n",
      " [0. 1. 0. 0. 0.]\n",
      " [0. 1. 0. 0. 0.]\n",
      " [1. 0. 0. 0. 0.]\n",
      " [0. 0. 0. 1. 0.]\n",
      " [0. 1. 0. 0. 0.]\n",
      " [0. 0. 0. 1. 0.]\n",
      " [0. 1. 0. 0. 0.]\n",
      " [0. 0. 0. 1. 0.]\n",
      " [0. 0. 1. 0. 0.]\n",
      " [0. 0. 1. 0. 0.]\n",
      " [0. 0. 0. 1. 0.]\n",
      " [0. 1. 0. 0. 0.]\n",
      " [0. 0. 0. 1. 0.]\n",
      " [0. 1. 0. 0. 0.]\n",
      " [0. 0. 0. 1. 0.]\n",
      " [0. 0. 1. 0. 0.]\n",
      " [0. 0. 0. 1. 0.]\n",
      " [0. 1. 0. 0. 0.]\n",
      " [0. 0. 1. 0. 0.]\n",
      " [0. 0. 0. 1. 0.]\n",
      " [0. 1. 0. 0. 0.]\n",
      " [0. 0. 0. 1. 0.]\n",
      " [0. 0. 0. 1. 0.]\n",
      " [0. 1. 0. 0. 0.]\n",
      " [0. 1. 0. 0. 0.]\n",
      " [0. 0. 1. 0. 0.]\n",
      " [0. 0. 0. 1. 0.]\n",
      " [0. 0. 0. 1. 0.]\n",
      " [0. 0. 0. 1. 0.]\n",
      " [0. 0. 1. 0. 0.]\n",
      " [0. 1. 0. 0. 0.]\n",
      " [0. 0. 0. 1. 0.]\n",
      " [0. 1. 0. 0. 0.]\n",
      " [0. 0. 1. 0. 0.]\n",
      " [1. 0. 0. 0. 0.]\n",
      " [0. 0. 1. 0. 0.]\n",
      " [0. 0. 1. 0. 0.]\n",
      " [0. 1. 0. 0. 0.]\n",
      " [0. 1. 0. 0. 0.]\n",
      " [0. 0. 1. 0. 0.]\n",
      " [0. 1. 0. 0. 0.]]\n"
     ]
    }
   ],
   "source": [
    "y_cat = np.delete(y_cat, np.s_[1:2], axis=1)   \n",
    "print(y_cat)"
   ]
  },
  {
   "cell_type": "code",
   "execution_count": 9,
   "metadata": {},
   "outputs": [],
   "source": [
    "# split into train and test sets\n",
    "X_train, X_test, y_train, y_test = train_test_split(\n",
    "    X, y_cat, test_size=0.2,\n",
    "    stratify=y_cat, random_state=0\n",
    ")"
   ]
  },
  {
   "cell_type": "code",
   "execution_count": 10,
   "metadata": {},
   "outputs": [],
   "source": [
    "# define the hyper-parameters\n",
    "p = {\n",
    "    'learning_rate': [0.01, 0.005],\n",
    "    'l1_reg': [0, 0.0001],\n",
    "    'l2_reg': [0, 0.0001, 0.001],\n",
    "    'dropout': [0, 0.2, 0.5]\n",
    "}"
   ]
  },
  {
   "cell_type": "code",
   "execution_count": 11,
   "metadata": {},
   "outputs": [],
   "source": [
    "# add input parameters to the function\n",
    "def sarcoma(x_train, y_train, x_val, y_val, params):\n",
    "    \n",
    "    # replace the hyperparameter inputs with references to params dictionary \n",
    "    model = Sequential()\n",
    "    model.add(Dense(5000, activation='relu', input_dim=20605))\n",
    "    model.add(Dense(5000, kernel_regularizer=regularizers.l1_l2(params['l1_reg'],params['l2_reg']), activation='relu'))\n",
    "    model.add(Dropout(params['dropout']))\n",
    "    model.add(Dense(5000, kernel_regularizer=regularizers.l1_l2(params['l1_reg'],params['l2_reg']), activation='relu'))\n",
    "    model.add(Dropout(params['dropout']))\n",
    "    model.add(Dense(5, activation='softmax'))\n",
    "    sgd = optimizers.SGD(lr=params['learning_rate'])\n",
    "#   sgd = optimizers.SGD(lr=0.005)\n",
    "    model.compile(loss='categorical_crossentropy', optimizer=sgd, metrics=['accuracy'])\n",
    "    \n",
    "    # make sure history object is returned by model.fit()\n",
    "    out = model.fit(x=x_train, \n",
    "                    y=y_train,\n",
    "                    validation_data=[x_val, y_val],\n",
    "                    epochs=10,\n",
    "                    batch_size=32,\n",
    "                    verbose=1)\n",
    "    \n",
    "    # modify the output model\n",
    "    return out, model"
   ]
  },
  {
   "cell_type": "code",
   "execution_count": 12,
   "metadata": {},
   "outputs": [
    {
     "name": "stderr",
     "output_type": "stream",
     "text": [
      "  0%|          | 0/10 [00:00<?, ?it/s]INFO:plaidml:Opening device \"metal_amd_radeon_pro_560x.0\"\n"
     ]
    },
    {
     "name": "stdout",
     "output_type": "stream",
     "text": [
      "Train on 120 samples, validate on 31 samples\n",
      "Epoch 1/10\n",
      "120/120 [==============================] - 4s 32ms/step - loss: 63.5990 - acc: 0.3500 - val_loss: 61.7268 - val_acc: 0.8387\n",
      "Epoch 2/10\n",
      "120/120 [==============================] - 2s 20ms/step - loss: 61.9211 - acc: 0.7500 - val_loss: 61.9906 - val_acc: 0.6129\n",
      "Epoch 3/10\n",
      "120/120 [==============================] - 2s 18ms/step - loss: 61.3895 - acc: 0.9500 - val_loss: 61.6448 - val_acc: 0.9032\n",
      "Epoch 4/10\n",
      "120/120 [==============================] - 2s 18ms/step - loss: 61.2814 - acc: 0.9833 - val_loss: 61.6057 - val_acc: 0.8710\n",
      "Epoch 5/10\n",
      "120/120 [==============================] - 2s 18ms/step - loss: 61.2060 - acc: 1.0000 - val_loss: 61.6504 - val_acc: 0.8387\n",
      "Epoch 6/10\n",
      "120/120 [==============================] - 2s 18ms/step - loss: 61.1822 - acc: 1.0000 - val_loss: 61.5555 - val_acc: 0.8710\n",
      "Epoch 7/10\n",
      "120/120 [==============================] - 2s 18ms/step - loss: 61.1650 - acc: 0.9917 - val_loss: 61.5950 - val_acc: 0.8710\n",
      "Epoch 8/10\n",
      "120/120 [==============================] - 2s 18ms/step - loss: 61.1324 - acc: 1.0000 - val_loss: 61.5164 - val_acc: 0.8710\n",
      "Epoch 9/10\n",
      "120/120 [==============================] - 2s 18ms/step - loss: 61.0979 - acc: 1.0000 - val_loss: 61.5297 - val_acc: 0.8710\n",
      "Epoch 10/10\n",
      "120/120 [==============================] - 2s 18ms/step - loss: 61.0949 - acc: 0.9917 - val_loss: 61.4603 - val_acc: 0.8710\n"
     ]
    },
    {
     "name": "stderr",
     "output_type": "stream",
     "text": [
      " 10%|█         | 1/10 [00:25<03:51, 25.76s/it]INFO:plaidml:Opening device \"metal_amd_radeon_pro_560x.0\"\n"
     ]
    },
    {
     "name": "stdout",
     "output_type": "stream",
     "text": [
      "Train on 120 samples, validate on 31 samples\n",
      "Epoch 1/10\n",
      "120/120 [==============================] - 5s 45ms/step - loss: 63.8360 - acc: 0.4000 - val_loss: 63.1780 - val_acc: 0.5806\n",
      "Epoch 2/10\n",
      "120/120 [==============================] - 4s 32ms/step - loss: 62.6989 - acc: 0.8417 - val_loss: 62.9822 - val_acc: 0.7097\n",
      "Epoch 3/10\n",
      "120/120 [==============================] - 4s 29ms/step - loss: 62.4564 - acc: 0.9750 - val_loss: 62.9229 - val_acc: 0.8065\n",
      "Epoch 4/10\n",
      "120/120 [==============================] - 4s 29ms/step - loss: 62.3444 - acc: 1.0000 - val_loss: 62.8356 - val_acc: 0.8710\n",
      "Epoch 5/10\n",
      "120/120 [==============================] - 4s 29ms/step - loss: 62.3113 - acc: 1.0000 - val_loss: 62.8723 - val_acc: 0.8065\n",
      "Epoch 6/10\n",
      "120/120 [==============================] - 4s 29ms/step - loss: 62.2715 - acc: 1.0000 - val_loss: 62.8370 - val_acc: 0.8387\n",
      "Epoch 7/10\n",
      "120/120 [==============================] - 4s 29ms/step - loss: 62.2435 - acc: 1.0000 - val_loss: 62.8332 - val_acc: 0.8065\n",
      "Epoch 8/10\n",
      "120/120 [==============================] - 3s 28ms/step - loss: 62.2236 - acc: 1.0000 - val_loss: 62.7960 - val_acc: 0.8387\n",
      "Epoch 9/10\n",
      "120/120 [==============================] - 3s 29ms/step - loss: 62.2067 - acc: 1.0000 - val_loss: 62.7856 - val_acc: 0.8387\n",
      "Epoch 10/10\n",
      "120/120 [==============================] - 3s 29ms/step - loss: 62.1899 - acc: 1.0000 - val_loss: 62.7445 - val_acc: 0.8710\n"
     ]
    },
    {
     "name": "stderr",
     "output_type": "stream",
     "text": [
      " 20%|██        | 2/10 [01:04<03:57, 29.73s/it]INFO:plaidml:Opening device \"metal_amd_radeon_pro_560x.0\"\n"
     ]
    },
    {
     "name": "stdout",
     "output_type": "stream",
     "text": [
      "Train on 120 samples, validate on 31 samples\n",
      "Epoch 1/10\n",
      "120/120 [==============================] - 3s 25ms/step - loss: 2.2269 - acc: 0.4917 - val_loss: 1.8561 - val_acc: 0.6129\n",
      "Epoch 2/10\n",
      "120/120 [==============================] - 2s 13ms/step - loss: 1.5333 - acc: 0.8417 - val_loss: 1.6581 - val_acc: 0.7097\n",
      "Epoch 3/10\n",
      "120/120 [==============================] - 2s 13ms/step - loss: 1.2649 - acc: 0.9583 - val_loss: 1.5630 - val_acc: 0.8387\n",
      "Epoch 4/10\n",
      "120/120 [==============================] - 2s 13ms/step - loss: 1.1442 - acc: 1.0000 - val_loss: 1.5628 - val_acc: 0.8387\n",
      "Epoch 5/10\n",
      "120/120 [==============================] - 2s 13ms/step - loss: 1.1008 - acc: 1.0000 - val_loss: 1.5541 - val_acc: 0.8387\n",
      "Epoch 6/10\n",
      "120/120 [==============================] - 2s 13ms/step - loss: 1.0827 - acc: 1.0000 - val_loss: 1.5723 - val_acc: 0.7742\n",
      "Epoch 7/10\n",
      "120/120 [==============================] - 2s 13ms/step - loss: 1.0717 - acc: 1.0000 - val_loss: 1.5474 - val_acc: 0.8387\n",
      "Epoch 8/10\n",
      "120/120 [==============================] - 2s 13ms/step - loss: 1.0608 - acc: 1.0000 - val_loss: 1.5705 - val_acc: 0.7742\n",
      "Epoch 9/10\n",
      "120/120 [==============================] - 2s 13ms/step - loss: 1.0479 - acc: 1.0000 - val_loss: 1.5492 - val_acc: 0.8387\n",
      "Epoch 10/10\n",
      "120/120 [==============================] - 2s 13ms/step - loss: 1.0412 - acc: 1.0000 - val_loss: 1.5373 - val_acc: 0.8387\n"
     ]
    },
    {
     "name": "stderr",
     "output_type": "stream",
     "text": [
      " 30%|███       | 3/10 [01:23<03:05, 26.51s/it]INFO:plaidml:Opening device \"metal_amd_radeon_pro_560x.0\"\n"
     ]
    },
    {
     "name": "stdout",
     "output_type": "stream",
     "text": [
      "Train on 120 samples, validate on 31 samples\n",
      "Epoch 1/10\n",
      "120/120 [==============================] - 4s 33ms/step - loss: 64.6251 - acc: 0.3083 - val_loss: 62.2257 - val_acc: 0.7097\n",
      "Epoch 2/10\n",
      "120/120 [==============================] - 2s 20ms/step - loss: 61.5378 - acc: 0.9167 - val_loss: 61.6978 - val_acc: 0.8710\n",
      "Epoch 3/10\n",
      "120/120 [==============================] - 2s 17ms/step - loss: 61.2994 - acc: 1.0000 - val_loss: 61.7286 - val_acc: 0.8065\n",
      "Epoch 4/10\n",
      "120/120 [==============================] - 2s 17ms/step - loss: 61.2252 - acc: 1.0000 - val_loss: 61.6758 - val_acc: 0.8065\n",
      "Epoch 5/10\n",
      "120/120 [==============================] - 2s 17ms/step - loss: 61.1920 - acc: 1.0000 - val_loss: 61.6529 - val_acc: 0.8065\n",
      "Epoch 6/10\n",
      "120/120 [==============================] - 2s 17ms/step - loss: 61.1694 - acc: 1.0000 - val_loss: 61.6130 - val_acc: 0.8065\n",
      "Epoch 7/10\n",
      "120/120 [==============================] - 2s 17ms/step - loss: 61.1434 - acc: 1.0000 - val_loss: 61.5973 - val_acc: 0.8065\n",
      "Epoch 8/10\n",
      "120/120 [==============================] - 2s 17ms/step - loss: 61.1168 - acc: 1.0000 - val_loss: 61.5886 - val_acc: 0.8065\n",
      "Epoch 9/10\n",
      "120/120 [==============================] - 2s 17ms/step - loss: 61.0937 - acc: 1.0000 - val_loss: 61.5718 - val_acc: 0.8065\n",
      "Epoch 10/10\n",
      "120/120 [==============================] - 2s 17ms/step - loss: 61.0735 - acc: 1.0000 - val_loss: 61.5493 - val_acc: 0.8065\n"
     ]
    },
    {
     "name": "stderr",
     "output_type": "stream",
     "text": [
      " 40%|████      | 4/10 [01:48<02:36, 26.09s/it]INFO:plaidml:Opening device \"metal_amd_radeon_pro_560x.0\"\n"
     ]
    },
    {
     "name": "stdout",
     "output_type": "stream",
     "text": [
      "Train on 120 samples, validate on 31 samples\n",
      "Epoch 1/10\n",
      "120/120 [==============================] - 3s 24ms/step - loss: 1.6457 - acc: 0.4083 - val_loss: 0.7557 - val_acc: 0.7742\n",
      "Epoch 2/10\n",
      "120/120 [==============================] - 1s 5ms/step - loss: 0.3182 - acc: 0.9417 - val_loss: 0.6684 - val_acc: 0.7742\n",
      "Epoch 3/10\n",
      "120/120 [==============================] - 1s 5ms/step - loss: 0.1579 - acc: 1.0000 - val_loss: 0.6566 - val_acc: 0.7742\n",
      "Epoch 4/10\n",
      "120/120 [==============================] - 1s 4ms/step - loss: 0.1022 - acc: 1.0000 - val_loss: 0.6016 - val_acc: 0.8065\n",
      "Epoch 5/10\n",
      "120/120 [==============================] - 1s 4ms/step - loss: 0.0759 - acc: 1.0000 - val_loss: 0.5773 - val_acc: 0.8065\n",
      "Epoch 6/10\n",
      "120/120 [==============================] - 1s 5ms/step - loss: 0.0603 - acc: 1.0000 - val_loss: 0.5699 - val_acc: 0.8065\n",
      "Epoch 7/10\n",
      "120/120 [==============================] - 1s 5ms/step - loss: 0.0499 - acc: 1.0000 - val_loss: 0.5634 - val_acc: 0.8065\n",
      "Epoch 8/10\n",
      "120/120 [==============================] - 1s 4ms/step - loss: 0.0427 - acc: 1.0000 - val_loss: 0.5655 - val_acc: 0.8065\n",
      "Epoch 9/10\n",
      "120/120 [==============================] - 1s 5ms/step - loss: 0.0374 - acc: 1.0000 - val_loss: 0.5544 - val_acc: 0.8065\n",
      "Epoch 10/10\n",
      "120/120 [==============================] - 1s 4ms/step - loss: 0.0331 - acc: 1.0000 - val_loss: 0.5567 - val_acc: 0.8065\n"
     ]
    },
    {
     "name": "stderr",
     "output_type": "stream",
     "text": [
      " 50%|█████     | 5/10 [01:59<01:46, 21.34s/it]INFO:plaidml:Opening device \"metal_amd_radeon_pro_560x.0\"\n"
     ]
    },
    {
     "name": "stdout",
     "output_type": "stream",
     "text": [
      "Train on 120 samples, validate on 31 samples\n",
      "Epoch 1/10\n",
      "120/120 [==============================] - 6s 50ms/step - loss: 4.0722 - acc: 0.3417 - val_loss: 3.3766 - val_acc: 0.4194\n",
      "Epoch 2/10\n",
      "120/120 [==============================] - 2s 15ms/step - loss: 1.5015 - acc: 0.8417 - val_loss: 1.6990 - val_acc: 0.6774\n",
      "Epoch 3/10\n",
      "120/120 [==============================] - 2s 13ms/step - loss: 1.1078 - acc: 0.9917 - val_loss: 1.6595 - val_acc: 0.7097\n",
      "Epoch 4/10\n",
      "120/120 [==============================] - 2s 13ms/step - loss: 1.0538 - acc: 1.0000 - val_loss: 1.6106 - val_acc: 0.8065\n",
      "Epoch 5/10\n",
      "120/120 [==============================] - 2s 13ms/step - loss: 1.0451 - acc: 1.0000 - val_loss: 1.5727 - val_acc: 0.8065\n",
      "Epoch 6/10\n",
      "120/120 [==============================] - 2s 13ms/step - loss: 1.0393 - acc: 1.0000 - val_loss: 1.5628 - val_acc: 0.8065\n",
      "Epoch 7/10\n",
      "120/120 [==============================] - 2s 13ms/step - loss: 1.0264 - acc: 1.0000 - val_loss: 1.5875 - val_acc: 0.8065\n",
      "Epoch 8/10\n",
      "120/120 [==============================] - 2s 13ms/step - loss: 1.0201 - acc: 1.0000 - val_loss: 1.5830 - val_acc: 0.8065\n",
      "Epoch 9/10\n",
      "120/120 [==============================] - 2s 13ms/step - loss: 1.0225 - acc: 1.0000 - val_loss: 1.5632 - val_acc: 0.8065\n",
      "Epoch 10/10\n",
      "120/120 [==============================] - 2s 13ms/step - loss: 1.0177 - acc: 1.0000 - val_loss: 1.5575 - val_acc: 0.8710\n"
     ]
    },
    {
     "name": "stderr",
     "output_type": "stream",
     "text": [
      " 60%|██████    | 6/10 [02:23<01:28, 22.17s/it]INFO:plaidml:Opening device \"metal_amd_radeon_pro_560x.0\"\n"
     ]
    },
    {
     "name": "stdout",
     "output_type": "stream",
     "text": [
      "Train on 120 samples, validate on 31 samples\n",
      "Epoch 1/10\n",
      "120/120 [==============================] - 5s 40ms/step - loss: 12.8842 - acc: 0.3333 - val_loss: 12.9201 - val_acc: 0.5806\n",
      "Epoch 2/10\n",
      "120/120 [==============================] - 2s 15ms/step - loss: 11.4344 - acc: 0.5833 - val_loss: 10.5807 - val_acc: 0.8065\n",
      "Epoch 3/10\n",
      "120/120 [==============================] - 2s 13ms/step - loss: 10.1598 - acc: 0.9750 - val_loss: 10.6526 - val_acc: 0.8387\n",
      "Epoch 4/10\n",
      "120/120 [==============================] - 2s 13ms/step - loss: 10.0958 - acc: 0.9833 - val_loss: 10.7179 - val_acc: 0.8065\n",
      "Epoch 5/10\n",
      "120/120 [==============================] - 2s 13ms/step - loss: 10.0741 - acc: 0.9833 - val_loss: 10.6226 - val_acc: 0.8065\n",
      "Epoch 6/10\n",
      "120/120 [==============================] - 2s 13ms/step - loss: 10.0404 - acc: 1.0000 - val_loss: 10.6042 - val_acc: 0.8065\n",
      "Epoch 7/10\n",
      "120/120 [==============================] - 2s 13ms/step - loss: 10.0307 - acc: 1.0000 - val_loss: 10.5677 - val_acc: 0.8387\n",
      "Epoch 8/10\n",
      "120/120 [==============================] - 2s 13ms/step - loss: 10.0436 - acc: 0.9917 - val_loss: 10.5920 - val_acc: 0.8387\n",
      "Epoch 9/10\n",
      "120/120 [==============================] - 2s 13ms/step - loss: 10.0194 - acc: 1.0000 - val_loss: 10.5941 - val_acc: 0.8387\n",
      "Epoch 10/10\n",
      "120/120 [==============================] - 2s 13ms/step - loss: 10.0081 - acc: 1.0000 - val_loss: 10.5902 - val_acc: 0.8387\n"
     ]
    },
    {
     "name": "stderr",
     "output_type": "stream",
     "text": [
      " 70%|███████   | 7/10 [02:46<01:07, 22.38s/it]INFO:plaidml:Opening device \"metal_amd_radeon_pro_560x.0\"\n"
     ]
    },
    {
     "name": "stdout",
     "output_type": "stream",
     "text": [
      "Train on 120 samples, validate on 31 samples\n",
      "Epoch 1/10\n",
      "120/120 [==============================] - 4s 33ms/step - loss: 2.3311 - acc: 0.4417 - val_loss: 2.0629 - val_acc: 0.6452\n",
      "Epoch 2/10\n",
      "120/120 [==============================] - 2s 13ms/step - loss: 1.3842 - acc: 0.9333 - val_loss: 1.7424 - val_acc: 0.6452\n",
      "Epoch 3/10\n",
      "120/120 [==============================] - 2s 14ms/step - loss: 1.1650 - acc: 1.0000 - val_loss: 1.6175 - val_acc: 0.8710\n",
      "Epoch 4/10\n",
      "120/120 [==============================] - 2s 14ms/step - loss: 1.1106 - acc: 1.0000 - val_loss: 1.6519 - val_acc: 0.8065\n",
      "Epoch 5/10\n",
      "120/120 [==============================] - 2s 14ms/step - loss: 1.0822 - acc: 1.0000 - val_loss: 1.6127 - val_acc: 0.8387\n",
      "Epoch 6/10\n",
      "120/120 [==============================] - 2s 14ms/step - loss: 1.0652 - acc: 1.0000 - val_loss: 1.5896 - val_acc: 0.8387\n",
      "Epoch 7/10\n",
      "120/120 [==============================] - 2s 14ms/step - loss: 1.0540 - acc: 1.0000 - val_loss: 1.5909 - val_acc: 0.8387\n",
      "Epoch 8/10\n",
      "120/120 [==============================] - 2s 14ms/step - loss: 1.0458 - acc: 1.0000 - val_loss: 1.5849 - val_acc: 0.8387\n",
      "Epoch 9/10\n",
      "120/120 [==============================] - 2s 14ms/step - loss: 1.0401 - acc: 1.0000 - val_loss: 1.5907 - val_acc: 0.8387\n",
      "Epoch 10/10\n",
      "120/120 [==============================] - 2s 14ms/step - loss: 1.0355 - acc: 1.0000 - val_loss: 1.5833 - val_acc: 0.8387\n"
     ]
    },
    {
     "name": "stderr",
     "output_type": "stream",
     "text": [
      " 80%|████████  | 8/10 [03:08<00:44, 22.33s/it]INFO:plaidml:Opening device \"metal_amd_radeon_pro_560x.0\"\n"
     ]
    },
    {
     "name": "stdout",
     "output_type": "stream",
     "text": [
      "Train on 120 samples, validate on 31 samples\n",
      "Epoch 1/10\n",
      "120/120 [==============================] - 3s 28ms/step - loss: 11.9721 - acc: 0.3667 - val_loss: 11.8818 - val_acc: 0.2581\n",
      "Epoch 2/10\n",
      "120/120 [==============================] - 2s 14ms/step - loss: 10.6718 - acc: 0.8000 - val_loss: 10.5235 - val_acc: 0.8710\n",
      "Epoch 3/10\n",
      "120/120 [==============================] - 2s 13ms/step - loss: 10.0934 - acc: 0.9833 - val_loss: 10.6078 - val_acc: 0.8387\n",
      "Epoch 4/10\n",
      "120/120 [==============================] - 2s 13ms/step - loss: 10.0436 - acc: 1.0000 - val_loss: 10.5573 - val_acc: 0.8387\n",
      "Epoch 5/10\n",
      "120/120 [==============================] - 2s 13ms/step - loss: 10.0268 - acc: 1.0000 - val_loss: 10.5603 - val_acc: 0.8387\n",
      "Epoch 6/10\n",
      "120/120 [==============================] - 2s 13ms/step - loss: 10.0186 - acc: 1.0000 - val_loss: 10.5519 - val_acc: 0.8387\n",
      "Epoch 7/10\n",
      "120/120 [==============================] - 2s 13ms/step - loss: 10.0181 - acc: 1.0000 - val_loss: 10.5451 - val_acc: 0.8387\n",
      "Epoch 8/10\n",
      "120/120 [==============================] - 2s 13ms/step - loss: 10.0110 - acc: 1.0000 - val_loss: 10.5404 - val_acc: 0.8387\n",
      "Epoch 9/10\n",
      "120/120 [==============================] - 2s 13ms/step - loss: 10.0043 - acc: 1.0000 - val_loss: 10.5415 - val_acc: 0.8387\n",
      "Epoch 10/10\n",
      "120/120 [==============================] - 2s 13ms/step - loss: 10.0007 - acc: 1.0000 - val_loss: 10.5480 - val_acc: 0.8387\n"
     ]
    },
    {
     "name": "stderr",
     "output_type": "stream",
     "text": [
      " 90%|█████████ | 9/10 [03:28<00:21, 21.81s/it]INFO:plaidml:Opening device \"metal_amd_radeon_pro_560x.0\"\n"
     ]
    },
    {
     "name": "stdout",
     "output_type": "stream",
     "text": [
      "Train on 120 samples, validate on 31 samples\n",
      "Epoch 1/10\n",
      "120/120 [==============================] - 3s 23ms/step - loss: 3.2684 - acc: 0.2917 - val_loss: 2.3322 - val_acc: 0.4516\n",
      "Epoch 2/10\n",
      "120/120 [==============================] - 1s 5ms/step - loss: 0.5411 - acc: 0.8250 - val_loss: 0.6320 - val_acc: 0.7742\n",
      "Epoch 3/10\n",
      "120/120 [==============================] - 1s 5ms/step - loss: 0.0881 - acc: 0.9833 - val_loss: 0.6406 - val_acc: 0.8065\n",
      "Epoch 4/10\n",
      "120/120 [==============================] - 1s 5ms/step - loss: 0.0544 - acc: 1.0000 - val_loss: 0.6240 - val_acc: 0.8065\n",
      "Epoch 5/10\n",
      "120/120 [==============================] - 1s 5ms/step - loss: 0.0331 - acc: 1.0000 - val_loss: 0.6392 - val_acc: 0.8065\n",
      "Epoch 6/10\n",
      "120/120 [==============================] - 1s 5ms/step - loss: 0.0270 - acc: 1.0000 - val_loss: 0.6322 - val_acc: 0.8065\n",
      "Epoch 7/10\n",
      "120/120 [==============================] - 1s 5ms/step - loss: 0.0244 - acc: 1.0000 - val_loss: 0.6028 - val_acc: 0.8065\n",
      "Epoch 8/10\n",
      "120/120 [==============================] - 1s 5ms/step - loss: 0.0197 - acc: 1.0000 - val_loss: 0.6118 - val_acc: 0.8065\n",
      "Epoch 9/10\n",
      "120/120 [==============================] - 1s 5ms/step - loss: 0.0163 - acc: 1.0000 - val_loss: 0.6137 - val_acc: 0.8065\n",
      "Epoch 10/10\n",
      "120/120 [==============================] - 1s 5ms/step - loss: 0.0164 - acc: 1.0000 - val_loss: 0.6096 - val_acc: 0.8065\n"
     ]
    },
    {
     "name": "stderr",
     "output_type": "stream",
     "text": [
      "100%|██████████| 10/10 [03:39<00:00, 21.91s/it]\n"
     ]
    }
   ],
   "source": [
    "t = ta.Scan(x=X_train, y=y_train, params=p, model=sarcoma, experiment_name='sarcoma-mlp', val_split=.2, fraction_limit=0.3)"
   ]
  },
  {
   "cell_type": "code",
   "execution_count": 13,
   "metadata": {},
   "outputs": [
    {
     "name": "stderr",
     "output_type": "stream",
     "text": [
      "INFO:plaidml:Opening device \"metal_amd_radeon_pro_560x.0\"\n"
     ]
    }
   ],
   "source": [
    "bestmodel = t.best_model(metric='val_acc')"
   ]
  },
  {
   "cell_type": "code",
   "execution_count": 14,
   "metadata": {},
   "outputs": [
    {
     "name": "stdout",
     "output_type": "stream",
     "text": [
      "_________________________________________________________________\n",
      "Layer (type)                 Output Shape              Param #   \n",
      "=================================================================\n",
      "dense_1 (Dense)              (None, 5000)              103030000 \n",
      "_________________________________________________________________\n",
      "dense_2 (Dense)              (None, 5000)              25005000  \n",
      "_________________________________________________________________\n",
      "dropout_1 (Dropout)          (None, 5000)              0         \n",
      "_________________________________________________________________\n",
      "dense_3 (Dense)              (None, 5000)              25005000  \n",
      "_________________________________________________________________\n",
      "dropout_2 (Dropout)          (None, 5000)              0         \n",
      "_________________________________________________________________\n",
      "dense_4 (Dense)              (None, 5)                 25005     \n",
      "=================================================================\n",
      "Total params: 153,065,005\n",
      "Trainable params: 153,065,005\n",
      "Non-trainable params: 0\n",
      "_________________________________________________________________\n"
     ]
    }
   ],
   "source": [
    "bestmodel.summary()"
   ]
  },
  {
   "cell_type": "code",
   "execution_count": 15,
   "metadata": {},
   "outputs": [
    {
     "data": {
      "text/html": [
       "<div>\n",
       "<style scoped>\n",
       "    .dataframe tbody tr th:only-of-type {\n",
       "        vertical-align: middle;\n",
       "    }\n",
       "\n",
       "    .dataframe tbody tr th {\n",
       "        vertical-align: top;\n",
       "    }\n",
       "\n",
       "    .dataframe thead th {\n",
       "        text-align: right;\n",
       "    }\n",
       "</style>\n",
       "<table border=\"1\" class=\"dataframe\">\n",
       "  <thead>\n",
       "    <tr style=\"text-align: right;\">\n",
       "      <th></th>\n",
       "      <th>round_epochs</th>\n",
       "      <th>val_loss</th>\n",
       "      <th>val_acc</th>\n",
       "      <th>loss</th>\n",
       "      <th>acc</th>\n",
       "      <th>dropout</th>\n",
       "      <th>l1_reg</th>\n",
       "      <th>l2_reg</th>\n",
       "      <th>learning_rate</th>\n",
       "    </tr>\n",
       "  </thead>\n",
       "  <tbody>\n",
       "    <tr>\n",
       "      <th>0</th>\n",
       "      <td>10</td>\n",
       "      <td>61.460281</td>\n",
       "      <td>0.870968</td>\n",
       "      <td>61.094932</td>\n",
       "      <td>0.991667</td>\n",
       "      <td>0.5</td>\n",
       "      <td>0.0001</td>\n",
       "      <td>0.0000</td>\n",
       "      <td>0.010</td>\n",
       "    </tr>\n",
       "    <tr>\n",
       "      <th>1</th>\n",
       "      <td>10</td>\n",
       "      <td>62.744526</td>\n",
       "      <td>0.870968</td>\n",
       "      <td>62.189898</td>\n",
       "      <td>1.000000</td>\n",
       "      <td>0.2</td>\n",
       "      <td>0.0001</td>\n",
       "      <td>0.0001</td>\n",
       "      <td>0.005</td>\n",
       "    </tr>\n",
       "    <tr>\n",
       "      <th>5</th>\n",
       "      <td>10</td>\n",
       "      <td>1.557549</td>\n",
       "      <td>0.870968</td>\n",
       "      <td>1.017690</td>\n",
       "      <td>1.000000</td>\n",
       "      <td>0.2</td>\n",
       "      <td>0.0000</td>\n",
       "      <td>0.0001</td>\n",
       "      <td>0.010</td>\n",
       "    </tr>\n",
       "    <tr>\n",
       "      <th>2</th>\n",
       "      <td>10</td>\n",
       "      <td>1.537289</td>\n",
       "      <td>0.838710</td>\n",
       "      <td>1.041234</td>\n",
       "      <td>1.000000</td>\n",
       "      <td>0.2</td>\n",
       "      <td>0.0000</td>\n",
       "      <td>0.0001</td>\n",
       "      <td>0.005</td>\n",
       "    </tr>\n",
       "    <tr>\n",
       "      <th>6</th>\n",
       "      <td>10</td>\n",
       "      <td>10.590231</td>\n",
       "      <td>0.838710</td>\n",
       "      <td>10.008148</td>\n",
       "      <td>1.000000</td>\n",
       "      <td>0.5</td>\n",
       "      <td>0.0000</td>\n",
       "      <td>0.0010</td>\n",
       "      <td>0.010</td>\n",
       "    </tr>\n",
       "    <tr>\n",
       "      <th>7</th>\n",
       "      <td>10</td>\n",
       "      <td>1.583343</td>\n",
       "      <td>0.838710</td>\n",
       "      <td>1.035520</td>\n",
       "      <td>1.000000</td>\n",
       "      <td>0.0</td>\n",
       "      <td>0.0000</td>\n",
       "      <td>0.0001</td>\n",
       "      <td>0.005</td>\n",
       "    </tr>\n",
       "    <tr>\n",
       "      <th>8</th>\n",
       "      <td>10</td>\n",
       "      <td>10.548012</td>\n",
       "      <td>0.838710</td>\n",
       "      <td>10.000687</td>\n",
       "      <td>1.000000</td>\n",
       "      <td>0.2</td>\n",
       "      <td>0.0000</td>\n",
       "      <td>0.0010</td>\n",
       "      <td>0.010</td>\n",
       "    </tr>\n",
       "    <tr>\n",
       "      <th>3</th>\n",
       "      <td>10</td>\n",
       "      <td>61.549309</td>\n",
       "      <td>0.806452</td>\n",
       "      <td>61.073472</td>\n",
       "      <td>1.000000</td>\n",
       "      <td>0.2</td>\n",
       "      <td>0.0001</td>\n",
       "      <td>0.0000</td>\n",
       "      <td>0.010</td>\n",
       "    </tr>\n",
       "    <tr>\n",
       "      <th>4</th>\n",
       "      <td>10</td>\n",
       "      <td>0.556704</td>\n",
       "      <td>0.806452</td>\n",
       "      <td>0.033082</td>\n",
       "      <td>1.000000</td>\n",
       "      <td>0.0</td>\n",
       "      <td>0.0000</td>\n",
       "      <td>0.0000</td>\n",
       "      <td>0.005</td>\n",
       "    </tr>\n",
       "    <tr>\n",
       "      <th>9</th>\n",
       "      <td>10</td>\n",
       "      <td>0.609607</td>\n",
       "      <td>0.806452</td>\n",
       "      <td>0.016355</td>\n",
       "      <td>1.000000</td>\n",
       "      <td>0.2</td>\n",
       "      <td>0.0000</td>\n",
       "      <td>0.0000</td>\n",
       "      <td>0.010</td>\n",
       "    </tr>\n",
       "  </tbody>\n",
       "</table>\n",
       "</div>"
      ],
      "text/plain": [
       "   round_epochs   val_loss   val_acc       loss       acc  dropout  l1_reg  \\\n",
       "0            10  61.460281  0.870968  61.094932  0.991667      0.5  0.0001   \n",
       "1            10  62.744526  0.870968  62.189898  1.000000      0.2  0.0001   \n",
       "5            10   1.557549  0.870968   1.017690  1.000000      0.2  0.0000   \n",
       "2            10   1.537289  0.838710   1.041234  1.000000      0.2  0.0000   \n",
       "6            10  10.590231  0.838710  10.008148  1.000000      0.5  0.0000   \n",
       "7            10   1.583343  0.838710   1.035520  1.000000      0.0  0.0000   \n",
       "8            10  10.548012  0.838710  10.000687  1.000000      0.2  0.0000   \n",
       "3            10  61.549309  0.806452  61.073472  1.000000      0.2  0.0001   \n",
       "4            10   0.556704  0.806452   0.033082  1.000000      0.0  0.0000   \n",
       "9            10   0.609607  0.806452   0.016355  1.000000      0.2  0.0000   \n",
       "\n",
       "   l2_reg  learning_rate  \n",
       "0  0.0000          0.010  \n",
       "1  0.0001          0.005  \n",
       "5  0.0001          0.010  \n",
       "2  0.0001          0.005  \n",
       "6  0.0010          0.010  \n",
       "7  0.0001          0.005  \n",
       "8  0.0010          0.010  \n",
       "3  0.0000          0.010  \n",
       "4  0.0000          0.005  \n",
       "9  0.0000          0.010  "
      ]
     },
     "execution_count": 15,
     "metadata": {},
     "output_type": "execute_result"
    }
   ],
   "source": [
    "t.data.sort_values('val_acc', ascending=False)"
   ]
  },
  {
   "cell_type": "code",
   "execution_count": 16,
   "metadata": {},
   "outputs": [
    {
     "data": {
      "image/png": "[encoded data removed]",
      "text/plain": [
       "<Figure size 576x576 with 2 Axes>"
      ]
     },
     "metadata": {},
     "output_type": "display_data"
    }
   ],
   "source": [
    "a = ta.Analyze(t)\n",
    "a.plot_corr('val_acc', ['loss', 'acc', 'precision', 'recall', 'f1score',\n",
    "                            'val_loss', 'val_acc', 'val_precision', 'val_recall'])"
   ]
  },
  {
   "cell_type": "code",
   "execution_count": 21,
   "metadata": {},
   "outputs": [
    {
     "name": "stdout",
     "output_type": "stream",
     "text": [
      "38/38 [==============================] - 0s 10ms/step\n",
      "test loss: 61.57\n",
      "test accuracy: 0.79\n",
      "\n"
     ]
    }
   ],
   "source": [
    "#  \n",
    "sgd=optimizers.SGD(lr=0.01)\n",
    "bestmodel.compile(loss='categorical_crossentropy', optimizer=sgd, metrics=['accuracy'])\n",
    "\n",
    "print(\"\"\"test loss: %.2f\n",
    "test accuracy: %.2f\n",
    "\"\"\" % tuple(bestmodel.evaluate(X_test, y_test)))"
   ]
  },
  {
   "cell_type": "code",
   "execution_count": 22,
   "metadata": {},
   "outputs": [
    {
     "name": "stdout",
     "output_type": "stream",
     "text": [
      "              precision    recall  f1-score   support\n",
      "\n",
      "     Class 0       0.50      1.00      0.67         2\n",
      "     Class 1       0.50      0.44      0.47         9\n",
      "     Class 2       0.71      1.00      0.83        10\n",
      "     Class 3       1.00      0.75      0.86        16\n",
      "     Class 4       0.00      0.00      0.00         1\n",
      "\n",
      "    accuracy                           0.74        38\n",
      "   macro avg       0.54      0.64      0.57        38\n",
      "weighted avg       0.75      0.74      0.73        38\n",
      "\n"
     ]
    }
   ],
   "source": [
    "predicted_classes = bestmodel.predict(X_test)\n",
    "predicted_classes = np.argmax(np.round(predicted_classes),axis=1)\n",
    "from sklearn.metrics import classification_report\n",
    "target_names = [\"Class {}\".format(i) for i in range(5)]\n",
    "y_test_classes = np.argmax(y_test, axis=-1)\n",
    "print(classification_report(y_test_classes, predicted_classes, target_names=target_names))"
   ]
  },
  {
   "cell_type": "code",
   "execution_count": 23,
   "metadata": {},
   "outputs": [
    {
     "data": {
      "text/plain": [
       "array([[ 2,  0,  0,  0,  0],\n",
       "       [ 2,  4,  3,  0,  0],\n",
       "       [ 0,  0, 10,  0,  0],\n",
       "       [ 0,  3,  1, 12,  0],\n",
       "       [ 0,  1,  0,  0,  0]])"
      ]
     },
     "execution_count": 23,
     "metadata": {},
     "output_type": "execute_result"
    }
   ],
   "source": [
    "from sklearn.metrics import confusion_matrix\n",
    "confusion_matrix(y_test_classes, predicted_classes)"
   ]
  },
  {
   "cell_type": "code",
   "execution_count": null,
   "metadata": {},
   "outputs": [],
   "source": []
  }
 ],
 "metadata": {
  "kernelspec": {
   "display_name": "Python 3",
   "language": "python",
   "name": "python3"
  },
  "language_info": {
   "codemirror_mode": {
    "name": "ipython",
    "version": 3
   },
   "file_extension": ".py",
   "mimetype": "text/x-python",
   "name": "python",
   "nbconvert_exporter": "python",
   "pygments_lexer": "ipython3",
   "version": "3.7.3"
  }
 },
 "nbformat": 4,
 "nbformat_minor": 2
}
